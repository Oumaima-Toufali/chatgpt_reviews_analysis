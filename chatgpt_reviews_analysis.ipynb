{
  "cells": [
    {
      "cell_type": "markdown",
      "metadata": {
        "id": "l2UfvmAUnAuV"
      },
      "source": [
        "### Import Libraries"
      ]
    },
    {
      "cell_type": "code",
      "execution_count": null,
      "metadata": {
        "colab": {
          "base_uri": "https://localhost:8080/"
        },
        "id": "GR9t8sKNnAui",
        "outputId": "384f73ec-5643-42c8-ec85-d2c33b7df4a2"
      },
      "outputs": [
        {
          "name": "stdout",
          "output_type": "stream",
          "text": [
            "Requirement already satisfied: wordcloud in c:\\users\\oumaima toufali\\appdata\\local\\packages\\pythonsoftwarefoundation.python.3.10_qbz5n2kfra8p0\\localcache\\local-packages\\python310\\site-packages (1.9.4)\n",
            "Requirement already satisfied: numpy>=1.6.1 in c:\\users\\oumaima toufali\\appdata\\local\\packages\\pythonsoftwarefoundation.python.3.10_qbz5n2kfra8p0\\localcache\\local-packages\\python310\\site-packages (from wordcloud) (1.26.4)\n",
            "Requirement already satisfied: matplotlib in c:\\users\\oumaima toufali\\appdata\\local\\packages\\pythonsoftwarefoundation.python.3.10_qbz5n2kfra8p0\\localcache\\local-packages\\python310\\site-packages (from wordcloud) (3.8.4)\n",
            "Requirement already satisfied: pillow in c:\\users\\oumaima toufali\\appdata\\local\\packages\\pythonsoftwarefoundation.python.3.10_qbz5n2kfra8p0\\localcache\\local-packages\\python310\\site-packages (from wordcloud) (10.3.0)\n",
            "Requirement already satisfied: kiwisolver>=1.3.1 in c:\\users\\oumaima toufali\\appdata\\local\\packages\\pythonsoftwarefoundation.python.3.10_qbz5n2kfra8p0\\localcache\\local-packages\\python310\\site-packages (from matplotlib->wordcloud) (1.4.5)\n",
            "Requirement already satisfied: python-dateutil>=2.7 in c:\\users\\oumaima toufali\\appdata\\local\\packages\\pythonsoftwarefoundation.python.3.10_qbz5n2kfra8p0\\localcache\\local-packages\\python310\\site-packages (from matplotlib->wordcloud) (2.8.2)\n",
            "Requirement already satisfied: pyparsing>=2.3.1 in c:\\users\\oumaima toufali\\appdata\\local\\packages\\pythonsoftwarefoundation.python.3.10_qbz5n2kfra8p0\\localcache\\local-packages\\python310\\site-packages (from matplotlib->wordcloud) (3.1.2)\n",
            "Requirement already satisfied: fonttools>=4.22.0 in c:\\users\\oumaima toufali\\appdata\\local\\packages\\pythonsoftwarefoundation.python.3.10_qbz5n2kfra8p0\\localcache\\local-packages\\python310\\site-packages (from matplotlib->wordcloud) (4.51.0)\n",
            "Requirement already satisfied: contourpy>=1.0.1 in c:\\users\\oumaima toufali\\appdata\\local\\packages\\pythonsoftwarefoundation.python.3.10_qbz5n2kfra8p0\\localcache\\local-packages\\python310\\site-packages (from matplotlib->wordcloud) (1.2.1)\n",
            "Requirement already satisfied: cycler>=0.10 in c:\\users\\oumaima toufali\\appdata\\local\\packages\\pythonsoftwarefoundation.python.3.10_qbz5n2kfra8p0\\localcache\\local-packages\\python310\\site-packages (from matplotlib->wordcloud) (0.12.1)\n",
            "Requirement already satisfied: packaging>=20.0 in c:\\users\\oumaima toufali\\appdata\\local\\packages\\pythonsoftwarefoundation.python.3.10_qbz5n2kfra8p0\\localcache\\local-packages\\python310\\site-packages (from matplotlib->wordcloud) (23.0)\n",
            "Requirement already satisfied: six>=1.5 in c:\\users\\oumaima toufali\\appdata\\local\\packages\\pythonsoftwarefoundation.python.3.10_qbz5n2kfra8p0\\localcache\\local-packages\\python310\\site-packages (from python-dateutil>=2.7->matplotlib->wordcloud) (1.16.0)\n"
          ]
        },
        {
          "name": "stderr",
          "output_type": "stream",
          "text": [
            "\n",
            "[notice] A new release of pip is available: 23.0.1 -> 25.0.1\n",
            "[notice] To update, run: C:\\Users\\Oumaima Toufali\\AppData\\Local\\Microsoft\\WindowsApps\\PythonSoftwareFoundation.Python.3.10_qbz5n2kfra8p0\\python.exe -m pip install --upgrade pip\n"
          ]
        }
      ],
      "source": [
        "#!pip install wordcloud"
      ]
    },
    {
      "cell_type": "code",
      "execution_count": null,
      "metadata": {
        "colab": {
          "base_uri": "https://localhost:8080/"
        },
        "id": "I8nvFjXmnAum",
        "outputId": "1fbc69bb-b3ca-4567-cad4-a91104d65cbf"
      },
      "outputs": [
        {
          "name": "stdout",
          "output_type": "stream",
          "text": [
            "Requirement already satisfied: transformers in c:\\users\\oumaima toufali\\appdata\\local\\packages\\pythonsoftwarefoundation.python.3.10_qbz5n2kfra8p0\\localcache\\local-packages\\python310\\site-packages (4.49.0)\n",
            "Requirement already satisfied: tokenizers<0.22,>=0.21 in c:\\users\\oumaima toufali\\appdata\\local\\packages\\pythonsoftwarefoundation.python.3.10_qbz5n2kfra8p0\\localcache\\local-packages\\python310\\site-packages (from transformers) (0.21.0)\n",
            "Requirement already satisfied: requests in c:\\users\\oumaima toufali\\appdata\\local\\packages\\pythonsoftwarefoundation.python.3.10_qbz5n2kfra8p0\\localcache\\local-packages\\python310\\site-packages (from transformers) (2.31.0)\n",
            "Requirement already satisfied: regex!=2019.12.17 in c:\\users\\oumaima toufali\\appdata\\local\\packages\\pythonsoftwarefoundation.python.3.10_qbz5n2kfra8p0\\localcache\\local-packages\\python310\\site-packages (from transformers) (2024.11.6)\n",
            "Requirement already satisfied: tqdm>=4.27 in c:\\users\\oumaima toufali\\appdata\\local\\packages\\pythonsoftwarefoundation.python.3.10_qbz5n2kfra8p0\\localcache\\local-packages\\python310\\site-packages (from transformers) (4.67.1)\n",
            "Requirement already satisfied: packaging>=20.0 in c:\\users\\oumaima toufali\\appdata\\local\\packages\\pythonsoftwarefoundation.python.3.10_qbz5n2kfra8p0\\localcache\\local-packages\\python310\\site-packages (from transformers) (23.0)\n",
            "Requirement already satisfied: safetensors>=0.4.1 in c:\\users\\oumaima toufali\\appdata\\local\\packages\\pythonsoftwarefoundation.python.3.10_qbz5n2kfra8p0\\localcache\\local-packages\\python310\\site-packages (from transformers) (0.5.2)\n",
            "Requirement already satisfied: filelock in c:\\users\\oumaima toufali\\appdata\\local\\packages\\pythonsoftwarefoundation.python.3.10_qbz5n2kfra8p0\\localcache\\local-packages\\python310\\site-packages (from transformers) (3.17.0)\n",
            "Requirement already satisfied: huggingface-hub<1.0,>=0.26.0 in c:\\users\\oumaima toufali\\appdata\\local\\packages\\pythonsoftwarefoundation.python.3.10_qbz5n2kfra8p0\\localcache\\local-packages\\python310\\site-packages (from transformers) (0.28.1)\n",
            "Requirement already satisfied: pyyaml>=5.1 in c:\\users\\oumaima toufali\\appdata\\local\\packages\\pythonsoftwarefoundation.python.3.10_qbz5n2kfra8p0\\localcache\\local-packages\\python310\\site-packages (from transformers) (6.0)\n",
            "Requirement already satisfied: numpy>=1.17 in c:\\users\\oumaima toufali\\appdata\\local\\packages\\pythonsoftwarefoundation.python.3.10_qbz5n2kfra8p0\\localcache\\local-packages\\python310\\site-packages (from transformers) (1.26.4)\n",
            "Requirement already satisfied: typing-extensions>=3.7.4.3 in c:\\users\\oumaima toufali\\appdata\\local\\packages\\pythonsoftwarefoundation.python.3.10_qbz5n2kfra8p0\\localcache\\local-packages\\python310\\site-packages (from huggingface-hub<1.0,>=0.26.0->transformers) (4.12.2)\n",
            "Requirement already satisfied: fsspec>=2023.5.0 in c:\\users\\oumaima toufali\\appdata\\local\\packages\\pythonsoftwarefoundation.python.3.10_qbz5n2kfra8p0\\localcache\\local-packages\\python310\\site-packages (from huggingface-hub<1.0,>=0.26.0->transformers) (2025.2.0)\n",
            "Requirement already satisfied: colorama in c:\\users\\oumaima toufali\\appdata\\local\\packages\\pythonsoftwarefoundation.python.3.10_qbz5n2kfra8p0\\localcache\\local-packages\\python310\\site-packages (from tqdm>=4.27->transformers) (0.4.6)\n",
            "Requirement already satisfied: certifi>=2017.4.17 in c:\\users\\oumaima toufali\\appdata\\local\\packages\\pythonsoftwarefoundation.python.3.10_qbz5n2kfra8p0\\localcache\\local-packages\\python310\\site-packages (from requests->transformers) (2024.2.2)\n",
            "Requirement already satisfied: urllib3<3,>=1.21.1 in c:\\users\\oumaima toufali\\appdata\\local\\packages\\pythonsoftwarefoundation.python.3.10_qbz5n2kfra8p0\\localcache\\local-packages\\python310\\site-packages (from requests->transformers) (1.26.14)\n",
            "Requirement already satisfied: charset-normalizer<4,>=2 in c:\\users\\oumaima toufali\\appdata\\local\\packages\\pythonsoftwarefoundation.python.3.10_qbz5n2kfra8p0\\localcache\\local-packages\\python310\\site-packages (from requests->transformers) (3.0.1)\n",
            "Requirement already satisfied: idna<4,>=2.5 in c:\\users\\oumaima toufali\\appdata\\local\\packages\\pythonsoftwarefoundation.python.3.10_qbz5n2kfra8p0\\localcache\\local-packages\\python310\\site-packages (from requests->transformers) (3.4)\n"
          ]
        },
        {
          "name": "stderr",
          "output_type": "stream",
          "text": [
            "\n",
            "[notice] A new release of pip is available: 23.0.1 -> 25.0.1\n",
            "[notice] To update, run: C:\\Users\\Oumaima Toufali\\AppData\\Local\\Microsoft\\WindowsApps\\PythonSoftwareFoundation.Python.3.10_qbz5n2kfra8p0\\python.exe -m pip install --upgrade pip\n"
          ]
        }
      ],
      "source": [
        "#!pip install transformers"
      ]
    },
    {
      "cell_type": "code",
      "execution_count": 6,
      "metadata": {
        "id": "CJ-Am6janAuq"
      },
      "outputs": [
        {
          "ename": "ModuleNotFoundError",
          "evalue": "No module named 'pandas'",
          "output_type": "error",
          "traceback": [
            "\u001b[1;31m---------------------------------------------------------------------------\u001b[0m",
            "\u001b[1;31mModuleNotFoundError\u001b[0m                       Traceback (most recent call last)",
            "Cell \u001b[1;32mIn[6], line 2\u001b[0m\n\u001b[0;32m      1\u001b[0m \u001b[38;5;28;01mimport\u001b[39;00m \u001b[38;5;21;01mnumpy\u001b[39;00m \u001b[38;5;28;01mas\u001b[39;00m \u001b[38;5;21;01mnp\u001b[39;00m\n\u001b[1;32m----> 2\u001b[0m \u001b[38;5;28;01mimport\u001b[39;00m \u001b[38;5;21;01mpandas\u001b[39;00m \u001b[38;5;28;01mas\u001b[39;00m \u001b[38;5;21;01mpd\u001b[39;00m\n\u001b[0;32m      3\u001b[0m \u001b[38;5;28;01mimport\u001b[39;00m \u001b[38;5;21;01mtensorflow\u001b[39;00m \u001b[38;5;28;01mas\u001b[39;00m \u001b[38;5;21;01mtf\u001b[39;00m\n\u001b[0;32m      4\u001b[0m \u001b[38;5;28;01mfrom\u001b[39;00m \u001b[38;5;21;01msklearn\u001b[39;00m\u001b[38;5;21;01m.\u001b[39;00m\u001b[38;5;21;01mmodel_selection\u001b[39;00m \u001b[38;5;28;01mimport\u001b[39;00m train_test_split\n",
            "\u001b[1;31mModuleNotFoundError\u001b[0m: No module named 'pandas'"
          ]
        }
      ],
      "source": [
        "import numpy as np\n",
        "import pandas as pd\n",
        "import tensorflow as tf\n",
        "from sklearn.model_selection import train_test_split\n",
        "from tensorflow.keras.preprocessing.text import Tokenizer\n",
        "from tensorflow.keras.preprocessing.sequence import pad_sequences\n",
        "from tensorflow.keras.layers import Embedding, SimpleRNN, LSTM, GRU, Dense, Dropout,Input, Attention,GlobalAveragePooling1D\n",
        "from tensorflow.keras.models import Sequential\n",
        "from tensorflow.keras.optimizers import Adam\n",
        "import matplotlib.pyplot as plt\n",
        "from sklearn.metrics import confusion_matrix, roc_curve, auc\n",
        "from sklearn.metrics import classification_report\n",
        "import seaborn as sns\n",
        "from tensorflow.keras.models import Model\n",
        "\n",
        "import re\n",
        "import string\n",
        "import nltk\n",
        "from nltk.corpus import stopwords\n",
        "from nltk.tokenize import word_tokenize\n",
        "from nltk.stem import WordNetLemmatizer"
      ]
    },
    {
      "cell_type": "markdown",
      "metadata": {
        "id": "KEcjoA1RnAus"
      },
      "source": [
        "# 1- Data Preparation"
      ]
    },
    {
      "cell_type": "code",
      "execution_count": null,
      "metadata": {
        "colab": {
          "base_uri": "https://localhost:8080/",
          "height": 73
        },
        "id": "bLlk_Ak3nYtj",
        "outputId": "e24fd10b-3ac5-4e09-87ef-cd9be8ab43ae"
      },
      "outputs": [
        {
          "data": {
            "text/html": [
              "\n",
              "     <input type=\"file\" id=\"files-b1cb93f2-fcc5-4640-b28a-dd05f5b9005f\" name=\"files[]\" multiple disabled\n",
              "        style=\"border:none\" />\n",
              "     <output id=\"result-b1cb93f2-fcc5-4640-b28a-dd05f5b9005f\">\n",
              "      Upload widget is only available when the cell has been executed in the\n",
              "      current browser session. Please rerun this cell to enable.\n",
              "      </output>\n",
              "      <script>// Copyright 2017 Google LLC\n",
              "//\n",
              "// Licensed under the Apache License, Version 2.0 (the \"License\");\n",
              "// you may not use this file except in compliance with the License.\n",
              "// You may obtain a copy of the License at\n",
              "//\n",
              "//      http://www.apache.org/licenses/LICENSE-2.0\n",
              "//\n",
              "// Unless required by applicable law or agreed to in writing, software\n",
              "// distributed under the License is distributed on an \"AS IS\" BASIS,\n",
              "// WITHOUT WARRANTIES OR CONDITIONS OF ANY KIND, either express or implied.\n",
              "// See the License for the specific language governing permissions and\n",
              "// limitations under the License.\n",
              "\n",
              "/**\n",
              " * @fileoverview Helpers for google.colab Python module.\n",
              " */\n",
              "(function(scope) {\n",
              "function span(text, styleAttributes = {}) {\n",
              "  const element = document.createElement('span');\n",
              "  element.textContent = text;\n",
              "  for (const key of Object.keys(styleAttributes)) {\n",
              "    element.style[key] = styleAttributes[key];\n",
              "  }\n",
              "  return element;\n",
              "}\n",
              "\n",
              "// Max number of bytes which will be uploaded at a time.\n",
              "const MAX_PAYLOAD_SIZE = 100 * 1024;\n",
              "\n",
              "function _uploadFiles(inputId, outputId) {\n",
              "  const steps = uploadFilesStep(inputId, outputId);\n",
              "  const outputElement = document.getElementById(outputId);\n",
              "  // Cache steps on the outputElement to make it available for the next call\n",
              "  // to uploadFilesContinue from Python.\n",
              "  outputElement.steps = steps;\n",
              "\n",
              "  return _uploadFilesContinue(outputId);\n",
              "}\n",
              "\n",
              "// This is roughly an async generator (not supported in the browser yet),\n",
              "// where there are multiple asynchronous steps and the Python side is going\n",
              "// to poll for completion of each step.\n",
              "// This uses a Promise to block the python side on completion of each step,\n",
              "// then passes the result of the previous step as the input to the next step.\n",
              "function _uploadFilesContinue(outputId) {\n",
              "  const outputElement = document.getElementById(outputId);\n",
              "  const steps = outputElement.steps;\n",
              "\n",
              "  const next = steps.next(outputElement.lastPromiseValue);\n",
              "  return Promise.resolve(next.value.promise).then((value) => {\n",
              "    // Cache the last promise value to make it available to the next\n",
              "    // step of the generator.\n",
              "    outputElement.lastPromiseValue = value;\n",
              "    return next.value.response;\n",
              "  });\n",
              "}\n",
              "\n",
              "/**\n",
              " * Generator function which is called between each async step of the upload\n",
              " * process.\n",
              " * @param {string} inputId Element ID of the input file picker element.\n",
              " * @param {string} outputId Element ID of the output display.\n",
              " * @return {!Iterable<!Object>} Iterable of next steps.\n",
              " */\n",
              "function* uploadFilesStep(inputId, outputId) {\n",
              "  const inputElement = document.getElementById(inputId);\n",
              "  inputElement.disabled = false;\n",
              "\n",
              "  const outputElement = document.getElementById(outputId);\n",
              "  outputElement.innerHTML = '';\n",
              "\n",
              "  const pickedPromise = new Promise((resolve) => {\n",
              "    inputElement.addEventListener('change', (e) => {\n",
              "      resolve(e.target.files);\n",
              "    });\n",
              "  });\n",
              "\n",
              "  const cancel = document.createElement('button');\n",
              "  inputElement.parentElement.appendChild(cancel);\n",
              "  cancel.textContent = 'Cancel upload';\n",
              "  const cancelPromise = new Promise((resolve) => {\n",
              "    cancel.onclick = () => {\n",
              "      resolve(null);\n",
              "    };\n",
              "  });\n",
              "\n",
              "  // Wait for the user to pick the files.\n",
              "  const files = yield {\n",
              "    promise: Promise.race([pickedPromise, cancelPromise]),\n",
              "    response: {\n",
              "      action: 'starting',\n",
              "    }\n",
              "  };\n",
              "\n",
              "  cancel.remove();\n",
              "\n",
              "  // Disable the input element since further picks are not allowed.\n",
              "  inputElement.disabled = true;\n",
              "\n",
              "  if (!files) {\n",
              "    return {\n",
              "      response: {\n",
              "        action: 'complete',\n",
              "      }\n",
              "    };\n",
              "  }\n",
              "\n",
              "  for (const file of files) {\n",
              "    const li = document.createElement('li');\n",
              "    li.append(span(file.name, {fontWeight: 'bold'}));\n",
              "    li.append(span(\n",
              "        `(${file.type || 'n/a'}) - ${file.size} bytes, ` +\n",
              "        `last modified: ${\n",
              "            file.lastModifiedDate ? file.lastModifiedDate.toLocaleDateString() :\n",
              "                                    'n/a'} - `));\n",
              "    const percent = span('0% done');\n",
              "    li.appendChild(percent);\n",
              "\n",
              "    outputElement.appendChild(li);\n",
              "\n",
              "    const fileDataPromise = new Promise((resolve) => {\n",
              "      const reader = new FileReader();\n",
              "      reader.onload = (e) => {\n",
              "        resolve(e.target.result);\n",
              "      };\n",
              "      reader.readAsArrayBuffer(file);\n",
              "    });\n",
              "    // Wait for the data to be ready.\n",
              "    let fileData = yield {\n",
              "      promise: fileDataPromise,\n",
              "      response: {\n",
              "        action: 'continue',\n",
              "      }\n",
              "    };\n",
              "\n",
              "    // Use a chunked sending to avoid message size limits. See b/62115660.\n",
              "    let position = 0;\n",
              "    do {\n",
              "      const length = Math.min(fileData.byteLength - position, MAX_PAYLOAD_SIZE);\n",
              "      const chunk = new Uint8Array(fileData, position, length);\n",
              "      position += length;\n",
              "\n",
              "      const base64 = btoa(String.fromCharCode.apply(null, chunk));\n",
              "      yield {\n",
              "        response: {\n",
              "          action: 'append',\n",
              "          file: file.name,\n",
              "          data: base64,\n",
              "        },\n",
              "      };\n",
              "\n",
              "      let percentDone = fileData.byteLength === 0 ?\n",
              "          100 :\n",
              "          Math.round((position / fileData.byteLength) * 100);\n",
              "      percent.textContent = `${percentDone}% done`;\n",
              "\n",
              "    } while (position < fileData.byteLength);\n",
              "  }\n",
              "\n",
              "  // All done.\n",
              "  yield {\n",
              "    response: {\n",
              "      action: 'complete',\n",
              "    }\n",
              "  };\n",
              "}\n",
              "\n",
              "scope.google = scope.google || {};\n",
              "scope.google.colab = scope.google.colab || {};\n",
              "scope.google.colab._files = {\n",
              "  _uploadFiles,\n",
              "  _uploadFilesContinue,\n",
              "};\n",
              "})(self);\n",
              "</script> "
            ],
            "text/plain": [
              "<IPython.core.display.HTML object>"
            ]
          },
          "metadata": {},
          "output_type": "display_data"
        },
        {
          "name": "stdout",
          "output_type": "stream",
          "text": [
            "Saving ChatGPT_Reviews.csv to ChatGPT_Reviews.csv\n"
          ]
        }
      ],
      "source": [
        "from google.colab import files\n",
        "uploaded = files.upload()\n"
      ]
    },
    {
      "cell_type": "code",
      "execution_count": null,
      "metadata": {
        "id": "E4IGrCPMnAut"
      },
      "outputs": [],
      "source": [
        "# Charger le dataset\n",
        "data = pd.read_csv('ChatGPT_Reviews.csv')"
      ]
    },
    {
      "cell_type": "code",
      "execution_count": null,
      "metadata": {
        "colab": {
          "base_uri": "https://localhost:8080/",
          "height": 310
        },
        "id": "RObwWp62nAux",
        "outputId": "86be6578-ce9d-4ba7-b7f7-2ccea74cdea1"
      },
      "outputs": [
        {
          "data": {
            "application/vnd.google.colaboratory.intrinsic+json": {
              "type": "dataframe",
              "variable_name": "data"
            },
            "text/html": [
              "\n",
              "  <div id=\"df-af19577f-4085-4111-b65a-baaffb6e2aa5\" class=\"colab-df-container\">\n",
              "    <div>\n",
              "<style scoped>\n",
              "    .dataframe tbody tr th:only-of-type {\n",
              "        vertical-align: middle;\n",
              "    }\n",
              "\n",
              "    .dataframe tbody tr th {\n",
              "        vertical-align: top;\n",
              "    }\n",
              "\n",
              "    .dataframe thead th {\n",
              "        text-align: right;\n",
              "    }\n",
              "</style>\n",
              "<table border=\"1\" class=\"dataframe\">\n",
              "  <thead>\n",
              "    <tr style=\"text-align: right;\">\n",
              "      <th></th>\n",
              "      <th>Review Id</th>\n",
              "      <th>Review</th>\n",
              "      <th>Ratings</th>\n",
              "      <th>Review Date</th>\n",
              "    </tr>\n",
              "  </thead>\n",
              "  <tbody>\n",
              "    <tr>\n",
              "      <th>0</th>\n",
              "      <td>6fb93778-651a-4ad1-b5ed-67dd0bd35aac</td>\n",
              "      <td>good</td>\n",
              "      <td>5</td>\n",
              "      <td>8/23/2024 19:30</td>\n",
              "    </tr>\n",
              "    <tr>\n",
              "      <th>1</th>\n",
              "      <td>81caeefd-3a28-4601-a898-72897ac906f5</td>\n",
              "      <td>good</td>\n",
              "      <td>5</td>\n",
              "      <td>8/23/2024 19:28</td>\n",
              "    </tr>\n",
              "    <tr>\n",
              "      <th>2</th>\n",
              "      <td>452af49e-1d8b-4b68-b1ac-a94c64cb1dd5</td>\n",
              "      <td>nice app</td>\n",
              "      <td>5</td>\n",
              "      <td>8/23/2024 19:22</td>\n",
              "    </tr>\n",
              "    <tr>\n",
              "      <th>3</th>\n",
              "      <td>372a4096-ee6a-4b94-b046-cef0b646c965</td>\n",
              "      <td>nice, ig</td>\n",
              "      <td>5</td>\n",
              "      <td>8/23/2024 19:20</td>\n",
              "    </tr>\n",
              "    <tr>\n",
              "      <th>4</th>\n",
              "      <td>b0d66a4b-9bde-4b7c-8b11-66ed6ccdd7da</td>\n",
              "      <td>this is a great app, the bot is so accurate to...</td>\n",
              "      <td>5</td>\n",
              "      <td>8/23/2024 19:20</td>\n",
              "    </tr>\n",
              "  </tbody>\n",
              "</table>\n",
              "</div>\n",
              "    <div class=\"colab-df-buttons\">\n",
              "\n",
              "  <div class=\"colab-df-container\">\n",
              "    <button class=\"colab-df-convert\" onclick=\"convertToInteractive('df-af19577f-4085-4111-b65a-baaffb6e2aa5')\"\n",
              "            title=\"Convert this dataframe to an interactive table.\"\n",
              "            style=\"display:none;\">\n",
              "\n",
              "  <svg xmlns=\"http://www.w3.org/2000/svg\" height=\"24px\" viewBox=\"0 -960 960 960\">\n",
              "    <path d=\"M120-120v-720h720v720H120Zm60-500h600v-160H180v160Zm220 220h160v-160H400v160Zm0 220h160v-160H400v160ZM180-400h160v-160H180v160Zm440 0h160v-160H620v160ZM180-180h160v-160H180v160Zm440 0h160v-160H620v160Z\"/>\n",
              "  </svg>\n",
              "    </button>\n",
              "\n",
              "  <style>\n",
              "    .colab-df-container {\n",
              "      display:flex;\n",
              "      gap: 12px;\n",
              "    }\n",
              "\n",
              "    .colab-df-convert {\n",
              "      background-color: #E8F0FE;\n",
              "      border: none;\n",
              "      border-radius: 50%;\n",
              "      cursor: pointer;\n",
              "      display: none;\n",
              "      fill: #1967D2;\n",
              "      height: 32px;\n",
              "      padding: 0 0 0 0;\n",
              "      width: 32px;\n",
              "    }\n",
              "\n",
              "    .colab-df-convert:hover {\n",
              "      background-color: #E2EBFA;\n",
              "      box-shadow: 0px 1px 2px rgba(60, 64, 67, 0.3), 0px 1px 3px 1px rgba(60, 64, 67, 0.15);\n",
              "      fill: #174EA6;\n",
              "    }\n",
              "\n",
              "    .colab-df-buttons div {\n",
              "      margin-bottom: 4px;\n",
              "    }\n",
              "\n",
              "    [theme=dark] .colab-df-convert {\n",
              "      background-color: #3B4455;\n",
              "      fill: #D2E3FC;\n",
              "    }\n",
              "\n",
              "    [theme=dark] .colab-df-convert:hover {\n",
              "      background-color: #434B5C;\n",
              "      box-shadow: 0px 1px 3px 1px rgba(0, 0, 0, 0.15);\n",
              "      filter: drop-shadow(0px 1px 2px rgba(0, 0, 0, 0.3));\n",
              "      fill: #FFFFFF;\n",
              "    }\n",
              "  </style>\n",
              "\n",
              "    <script>\n",
              "      const buttonEl =\n",
              "        document.querySelector('#df-af19577f-4085-4111-b65a-baaffb6e2aa5 button.colab-df-convert');\n",
              "      buttonEl.style.display =\n",
              "        google.colab.kernel.accessAllowed ? 'block' : 'none';\n",
              "\n",
              "      async function convertToInteractive(key) {\n",
              "        const element = document.querySelector('#df-af19577f-4085-4111-b65a-baaffb6e2aa5');\n",
              "        const dataTable =\n",
              "          await google.colab.kernel.invokeFunction('convertToInteractive',\n",
              "                                                    [key], {});\n",
              "        if (!dataTable) return;\n",
              "\n",
              "        const docLinkHtml = 'Like what you see? Visit the ' +\n",
              "          '<a target=\"_blank\" href=https://colab.research.google.com/notebooks/data_table.ipynb>data table notebook</a>'\n",
              "          + ' to learn more about interactive tables.';\n",
              "        element.innerHTML = '';\n",
              "        dataTable['output_type'] = 'display_data';\n",
              "        await google.colab.output.renderOutput(dataTable, element);\n",
              "        const docLink = document.createElement('div');\n",
              "        docLink.innerHTML = docLinkHtml;\n",
              "        element.appendChild(docLink);\n",
              "      }\n",
              "    </script>\n",
              "  </div>\n",
              "\n",
              "\n",
              "<div id=\"df-66458f5f-90ed-4925-a57d-24f6197d8379\">\n",
              "  <button class=\"colab-df-quickchart\" onclick=\"quickchart('df-66458f5f-90ed-4925-a57d-24f6197d8379')\"\n",
              "            title=\"Suggest charts\"\n",
              "            style=\"display:none;\">\n",
              "\n",
              "<svg xmlns=\"http://www.w3.org/2000/svg\" height=\"24px\"viewBox=\"0 0 24 24\"\n",
              "     width=\"24px\">\n",
              "    <g>\n",
              "        <path d=\"M19 3H5c-1.1 0-2 .9-2 2v14c0 1.1.9 2 2 2h14c1.1 0 2-.9 2-2V5c0-1.1-.9-2-2-2zM9 17H7v-7h2v7zm4 0h-2V7h2v10zm4 0h-2v-4h2v4z\"/>\n",
              "    </g>\n",
              "</svg>\n",
              "  </button>\n",
              "\n",
              "<style>\n",
              "  .colab-df-quickchart {\n",
              "      --bg-color: #E8F0FE;\n",
              "      --fill-color: #1967D2;\n",
              "      --hover-bg-color: #E2EBFA;\n",
              "      --hover-fill-color: #174EA6;\n",
              "      --disabled-fill-color: #AAA;\n",
              "      --disabled-bg-color: #DDD;\n",
              "  }\n",
              "\n",
              "  [theme=dark] .colab-df-quickchart {\n",
              "      --bg-color: #3B4455;\n",
              "      --fill-color: #D2E3FC;\n",
              "      --hover-bg-color: #434B5C;\n",
              "      --hover-fill-color: #FFFFFF;\n",
              "      --disabled-bg-color: #3B4455;\n",
              "      --disabled-fill-color: #666;\n",
              "  }\n",
              "\n",
              "  .colab-df-quickchart {\n",
              "    background-color: var(--bg-color);\n",
              "    border: none;\n",
              "    border-radius: 50%;\n",
              "    cursor: pointer;\n",
              "    display: none;\n",
              "    fill: var(--fill-color);\n",
              "    height: 32px;\n",
              "    padding: 0;\n",
              "    width: 32px;\n",
              "  }\n",
              "\n",
              "  .colab-df-quickchart:hover {\n",
              "    background-color: var(--hover-bg-color);\n",
              "    box-shadow: 0 1px 2px rgba(60, 64, 67, 0.3), 0 1px 3px 1px rgba(60, 64, 67, 0.15);\n",
              "    fill: var(--button-hover-fill-color);\n",
              "  }\n",
              "\n",
              "  .colab-df-quickchart-complete:disabled,\n",
              "  .colab-df-quickchart-complete:disabled:hover {\n",
              "    background-color: var(--disabled-bg-color);\n",
              "    fill: var(--disabled-fill-color);\n",
              "    box-shadow: none;\n",
              "  }\n",
              "\n",
              "  .colab-df-spinner {\n",
              "    border: 2px solid var(--fill-color);\n",
              "    border-color: transparent;\n",
              "    border-bottom-color: var(--fill-color);\n",
              "    animation:\n",
              "      spin 1s steps(1) infinite;\n",
              "  }\n",
              "\n",
              "  @keyframes spin {\n",
              "    0% {\n",
              "      border-color: transparent;\n",
              "      border-bottom-color: var(--fill-color);\n",
              "      border-left-color: var(--fill-color);\n",
              "    }\n",
              "    20% {\n",
              "      border-color: transparent;\n",
              "      border-left-color: var(--fill-color);\n",
              "      border-top-color: var(--fill-color);\n",
              "    }\n",
              "    30% {\n",
              "      border-color: transparent;\n",
              "      border-left-color: var(--fill-color);\n",
              "      border-top-color: var(--fill-color);\n",
              "      border-right-color: var(--fill-color);\n",
              "    }\n",
              "    40% {\n",
              "      border-color: transparent;\n",
              "      border-right-color: var(--fill-color);\n",
              "      border-top-color: var(--fill-color);\n",
              "    }\n",
              "    60% {\n",
              "      border-color: transparent;\n",
              "      border-right-color: var(--fill-color);\n",
              "    }\n",
              "    80% {\n",
              "      border-color: transparent;\n",
              "      border-right-color: var(--fill-color);\n",
              "      border-bottom-color: var(--fill-color);\n",
              "    }\n",
              "    90% {\n",
              "      border-color: transparent;\n",
              "      border-bottom-color: var(--fill-color);\n",
              "    }\n",
              "  }\n",
              "</style>\n",
              "\n",
              "  <script>\n",
              "    async function quickchart(key) {\n",
              "      const quickchartButtonEl =\n",
              "        document.querySelector('#' + key + ' button');\n",
              "      quickchartButtonEl.disabled = true;  // To prevent multiple clicks.\n",
              "      quickchartButtonEl.classList.add('colab-df-spinner');\n",
              "      try {\n",
              "        const charts = await google.colab.kernel.invokeFunction(\n",
              "            'suggestCharts', [key], {});\n",
              "      } catch (error) {\n",
              "        console.error('Error during call to suggestCharts:', error);\n",
              "      }\n",
              "      quickchartButtonEl.classList.remove('colab-df-spinner');\n",
              "      quickchartButtonEl.classList.add('colab-df-quickchart-complete');\n",
              "    }\n",
              "    (() => {\n",
              "      let quickchartButtonEl =\n",
              "        document.querySelector('#df-66458f5f-90ed-4925-a57d-24f6197d8379 button');\n",
              "      quickchartButtonEl.style.display =\n",
              "        google.colab.kernel.accessAllowed ? 'block' : 'none';\n",
              "    })();\n",
              "  </script>\n",
              "</div>\n",
              "\n",
              "    </div>\n",
              "  </div>\n"
            ],
            "text/plain": [
              "                              Review Id  \\\n",
              "0  6fb93778-651a-4ad1-b5ed-67dd0bd35aac   \n",
              "1  81caeefd-3a28-4601-a898-72897ac906f5   \n",
              "2  452af49e-1d8b-4b68-b1ac-a94c64cb1dd5   \n",
              "3  372a4096-ee6a-4b94-b046-cef0b646c965   \n",
              "4  b0d66a4b-9bde-4b7c-8b11-66ed6ccdd7da   \n",
              "\n",
              "                                              Review  Ratings      Review Date  \n",
              "0                                               good        5  8/23/2024 19:30  \n",
              "1                                               good        5  8/23/2024 19:28  \n",
              "2                                           nice app        5  8/23/2024 19:22  \n",
              "3                                           nice, ig        5  8/23/2024 19:20  \n",
              "4  this is a great app, the bot is so accurate to...        5  8/23/2024 19:20  "
            ]
          },
          "execution_count": 7,
          "metadata": {},
          "output_type": "execute_result"
        }
      ],
      "source": [
        "data.head()"
      ]
    },
    {
      "cell_type": "code",
      "execution_count": null,
      "metadata": {
        "colab": {
          "base_uri": "https://localhost:8080/",
          "height": 293
        },
        "id": "fyNwo2w9nAux",
        "outputId": "8957b8d7-536c-469b-c1ed-eba26bb2de56"
      },
      "outputs": [
        {
          "data": {
            "application/vnd.google.colaboratory.intrinsic+json": {
              "repr_error": "0",
              "type": "dataframe"
            },
            "text/html": [
              "\n",
              "  <div id=\"df-b4437c18-d060-49f0-ac4f-eb5fcc7d1932\" class=\"colab-df-container\">\n",
              "    <div>\n",
              "<style scoped>\n",
              "    .dataframe tbody tr th:only-of-type {\n",
              "        vertical-align: middle;\n",
              "    }\n",
              "\n",
              "    .dataframe tbody tr th {\n",
              "        vertical-align: top;\n",
              "    }\n",
              "\n",
              "    .dataframe thead th {\n",
              "        text-align: right;\n",
              "    }\n",
              "</style>\n",
              "<table border=\"1\" class=\"dataframe\">\n",
              "  <thead>\n",
              "    <tr style=\"text-align: right;\">\n",
              "      <th></th>\n",
              "      <th>Review Id</th>\n",
              "      <th>Review</th>\n",
              "      <th>Ratings</th>\n",
              "      <th>Review Date</th>\n",
              "    </tr>\n",
              "  </thead>\n",
              "  <tbody>\n",
              "    <tr>\n",
              "      <th>196722</th>\n",
              "      <td>462686ff-e500-413c-a6b4-2badc2e3b21d</td>\n",
              "      <td>Update 2023</td>\n",
              "      <td>5</td>\n",
              "      <td>7/27/2023 16:26</td>\n",
              "    </tr>\n",
              "    <tr>\n",
              "      <th>196723</th>\n",
              "      <td>f10e0d48-ecb6-42db-b103-46c0046f9be9</td>\n",
              "      <td>its grear</td>\n",
              "      <td>5</td>\n",
              "      <td>9/23/2023 16:25</td>\n",
              "    </tr>\n",
              "    <tr>\n",
              "      <th>196724</th>\n",
              "      <td>df909a49-90b5-4dac-9b89-c4bd5a7c2f75</td>\n",
              "      <td>Funtastic App</td>\n",
              "      <td>5</td>\n",
              "      <td>11/8/2023 13:57</td>\n",
              "    </tr>\n",
              "    <tr>\n",
              "      <th>196725</th>\n",
              "      <td>abe43878-973f-4e96-a765-c4af5c7f7b20</td>\n",
              "      <td>hi all</td>\n",
              "      <td>5</td>\n",
              "      <td>7/25/2023 15:32</td>\n",
              "    </tr>\n",
              "    <tr>\n",
              "      <th>196726</th>\n",
              "      <td>0151001d-b81c-41b5-8927-f56738989625</td>\n",
              "      <td>expert application</td>\n",
              "      <td>5</td>\n",
              "      <td>11/30/2023 18:11</td>\n",
              "    </tr>\n",
              "  </tbody>\n",
              "</table>\n",
              "</div>\n",
              "    <div class=\"colab-df-buttons\">\n",
              "\n",
              "  <div class=\"colab-df-container\">\n",
              "    <button class=\"colab-df-convert\" onclick=\"convertToInteractive('df-b4437c18-d060-49f0-ac4f-eb5fcc7d1932')\"\n",
              "            title=\"Convert this dataframe to an interactive table.\"\n",
              "            style=\"display:none;\">\n",
              "\n",
              "  <svg xmlns=\"http://www.w3.org/2000/svg\" height=\"24px\" viewBox=\"0 -960 960 960\">\n",
              "    <path d=\"M120-120v-720h720v720H120Zm60-500h600v-160H180v160Zm220 220h160v-160H400v160Zm0 220h160v-160H400v160ZM180-400h160v-160H180v160Zm440 0h160v-160H620v160ZM180-180h160v-160H180v160Zm440 0h160v-160H620v160Z\"/>\n",
              "  </svg>\n",
              "    </button>\n",
              "\n",
              "  <style>\n",
              "    .colab-df-container {\n",
              "      display:flex;\n",
              "      gap: 12px;\n",
              "    }\n",
              "\n",
              "    .colab-df-convert {\n",
              "      background-color: #E8F0FE;\n",
              "      border: none;\n",
              "      border-radius: 50%;\n",
              "      cursor: pointer;\n",
              "      display: none;\n",
              "      fill: #1967D2;\n",
              "      height: 32px;\n",
              "      padding: 0 0 0 0;\n",
              "      width: 32px;\n",
              "    }\n",
              "\n",
              "    .colab-df-convert:hover {\n",
              "      background-color: #E2EBFA;\n",
              "      box-shadow: 0px 1px 2px rgba(60, 64, 67, 0.3), 0px 1px 3px 1px rgba(60, 64, 67, 0.15);\n",
              "      fill: #174EA6;\n",
              "    }\n",
              "\n",
              "    .colab-df-buttons div {\n",
              "      margin-bottom: 4px;\n",
              "    }\n",
              "\n",
              "    [theme=dark] .colab-df-convert {\n",
              "      background-color: #3B4455;\n",
              "      fill: #D2E3FC;\n",
              "    }\n",
              "\n",
              "    [theme=dark] .colab-df-convert:hover {\n",
              "      background-color: #434B5C;\n",
              "      box-shadow: 0px 1px 3px 1px rgba(0, 0, 0, 0.15);\n",
              "      filter: drop-shadow(0px 1px 2px rgba(0, 0, 0, 0.3));\n",
              "      fill: #FFFFFF;\n",
              "    }\n",
              "  </style>\n",
              "\n",
              "    <script>\n",
              "      const buttonEl =\n",
              "        document.querySelector('#df-b4437c18-d060-49f0-ac4f-eb5fcc7d1932 button.colab-df-convert');\n",
              "      buttonEl.style.display =\n",
              "        google.colab.kernel.accessAllowed ? 'block' : 'none';\n",
              "\n",
              "      async function convertToInteractive(key) {\n",
              "        const element = document.querySelector('#df-b4437c18-d060-49f0-ac4f-eb5fcc7d1932');\n",
              "        const dataTable =\n",
              "          await google.colab.kernel.invokeFunction('convertToInteractive',\n",
              "                                                    [key], {});\n",
              "        if (!dataTable) return;\n",
              "\n",
              "        const docLinkHtml = 'Like what you see? Visit the ' +\n",
              "          '<a target=\"_blank\" href=https://colab.research.google.com/notebooks/data_table.ipynb>data table notebook</a>'\n",
              "          + ' to learn more about interactive tables.';\n",
              "        element.innerHTML = '';\n",
              "        dataTable['output_type'] = 'display_data';\n",
              "        await google.colab.output.renderOutput(dataTable, element);\n",
              "        const docLink = document.createElement('div');\n",
              "        docLink.innerHTML = docLinkHtml;\n",
              "        element.appendChild(docLink);\n",
              "      }\n",
              "    </script>\n",
              "  </div>\n",
              "\n",
              "\n",
              "<div id=\"df-f7a44f94-65f2-4047-8f6a-387766072834\">\n",
              "  <button class=\"colab-df-quickchart\" onclick=\"quickchart('df-f7a44f94-65f2-4047-8f6a-387766072834')\"\n",
              "            title=\"Suggest charts\"\n",
              "            style=\"display:none;\">\n",
              "\n",
              "<svg xmlns=\"http://www.w3.org/2000/svg\" height=\"24px\"viewBox=\"0 0 24 24\"\n",
              "     width=\"24px\">\n",
              "    <g>\n",
              "        <path d=\"M19 3H5c-1.1 0-2 .9-2 2v14c0 1.1.9 2 2 2h14c1.1 0 2-.9 2-2V5c0-1.1-.9-2-2-2zM9 17H7v-7h2v7zm4 0h-2V7h2v10zm4 0h-2v-4h2v4z\"/>\n",
              "    </g>\n",
              "</svg>\n",
              "  </button>\n",
              "\n",
              "<style>\n",
              "  .colab-df-quickchart {\n",
              "      --bg-color: #E8F0FE;\n",
              "      --fill-color: #1967D2;\n",
              "      --hover-bg-color: #E2EBFA;\n",
              "      --hover-fill-color: #174EA6;\n",
              "      --disabled-fill-color: #AAA;\n",
              "      --disabled-bg-color: #DDD;\n",
              "  }\n",
              "\n",
              "  [theme=dark] .colab-df-quickchart {\n",
              "      --bg-color: #3B4455;\n",
              "      --fill-color: #D2E3FC;\n",
              "      --hover-bg-color: #434B5C;\n",
              "      --hover-fill-color: #FFFFFF;\n",
              "      --disabled-bg-color: #3B4455;\n",
              "      --disabled-fill-color: #666;\n",
              "  }\n",
              "\n",
              "  .colab-df-quickchart {\n",
              "    background-color: var(--bg-color);\n",
              "    border: none;\n",
              "    border-radius: 50%;\n",
              "    cursor: pointer;\n",
              "    display: none;\n",
              "    fill: var(--fill-color);\n",
              "    height: 32px;\n",
              "    padding: 0;\n",
              "    width: 32px;\n",
              "  }\n",
              "\n",
              "  .colab-df-quickchart:hover {\n",
              "    background-color: var(--hover-bg-color);\n",
              "    box-shadow: 0 1px 2px rgba(60, 64, 67, 0.3), 0 1px 3px 1px rgba(60, 64, 67, 0.15);\n",
              "    fill: var(--button-hover-fill-color);\n",
              "  }\n",
              "\n",
              "  .colab-df-quickchart-complete:disabled,\n",
              "  .colab-df-quickchart-complete:disabled:hover {\n",
              "    background-color: var(--disabled-bg-color);\n",
              "    fill: var(--disabled-fill-color);\n",
              "    box-shadow: none;\n",
              "  }\n",
              "\n",
              "  .colab-df-spinner {\n",
              "    border: 2px solid var(--fill-color);\n",
              "    border-color: transparent;\n",
              "    border-bottom-color: var(--fill-color);\n",
              "    animation:\n",
              "      spin 1s steps(1) infinite;\n",
              "  }\n",
              "\n",
              "  @keyframes spin {\n",
              "    0% {\n",
              "      border-color: transparent;\n",
              "      border-bottom-color: var(--fill-color);\n",
              "      border-left-color: var(--fill-color);\n",
              "    }\n",
              "    20% {\n",
              "      border-color: transparent;\n",
              "      border-left-color: var(--fill-color);\n",
              "      border-top-color: var(--fill-color);\n",
              "    }\n",
              "    30% {\n",
              "      border-color: transparent;\n",
              "      border-left-color: var(--fill-color);\n",
              "      border-top-color: var(--fill-color);\n",
              "      border-right-color: var(--fill-color);\n",
              "    }\n",
              "    40% {\n",
              "      border-color: transparent;\n",
              "      border-right-color: var(--fill-color);\n",
              "      border-top-color: var(--fill-color);\n",
              "    }\n",
              "    60% {\n",
              "      border-color: transparent;\n",
              "      border-right-color: var(--fill-color);\n",
              "    }\n",
              "    80% {\n",
              "      border-color: transparent;\n",
              "      border-right-color: var(--fill-color);\n",
              "      border-bottom-color: var(--fill-color);\n",
              "    }\n",
              "    90% {\n",
              "      border-color: transparent;\n",
              "      border-bottom-color: var(--fill-color);\n",
              "    }\n",
              "  }\n",
              "</style>\n",
              "\n",
              "  <script>\n",
              "    async function quickchart(key) {\n",
              "      const quickchartButtonEl =\n",
              "        document.querySelector('#' + key + ' button');\n",
              "      quickchartButtonEl.disabled = true;  // To prevent multiple clicks.\n",
              "      quickchartButtonEl.classList.add('colab-df-spinner');\n",
              "      try {\n",
              "        const charts = await google.colab.kernel.invokeFunction(\n",
              "            'suggestCharts', [key], {});\n",
              "      } catch (error) {\n",
              "        console.error('Error during call to suggestCharts:', error);\n",
              "      }\n",
              "      quickchartButtonEl.classList.remove('colab-df-spinner');\n",
              "      quickchartButtonEl.classList.add('colab-df-quickchart-complete');\n",
              "    }\n",
              "    (() => {\n",
              "      let quickchartButtonEl =\n",
              "        document.querySelector('#df-f7a44f94-65f2-4047-8f6a-387766072834 button');\n",
              "      quickchartButtonEl.style.display =\n",
              "        google.colab.kernel.accessAllowed ? 'block' : 'none';\n",
              "    })();\n",
              "  </script>\n",
              "</div>\n",
              "\n",
              "    </div>\n",
              "  </div>\n"
            ],
            "text/plain": [
              "                                   Review Id              Review  Ratings  \\\n",
              "196722  462686ff-e500-413c-a6b4-2badc2e3b21d         Update 2023        5   \n",
              "196723  f10e0d48-ecb6-42db-b103-46c0046f9be9           its grear        5   \n",
              "196724  df909a49-90b5-4dac-9b89-c4bd5a7c2f75       Funtastic App        5   \n",
              "196725  abe43878-973f-4e96-a765-c4af5c7f7b20              hi all        5   \n",
              "196726  0151001d-b81c-41b5-8927-f56738989625  expert application        5   \n",
              "\n",
              "             Review Date  \n",
              "196722   7/27/2023 16:26  \n",
              "196723   9/23/2023 16:25  \n",
              "196724   11/8/2023 13:57  \n",
              "196725   7/25/2023 15:32  \n",
              "196726  11/30/2023 18:11  "
            ]
          },
          "execution_count": 8,
          "metadata": {},
          "output_type": "execute_result"
        }
      ],
      "source": [
        "data.tail()"
      ]
    },
    {
      "cell_type": "code",
      "execution_count": null,
      "metadata": {
        "colab": {
          "base_uri": "https://localhost:8080/"
        },
        "id": "KtecGS9snAuz",
        "outputId": "f7a031f1-d57b-4357-996a-d67bcd7081e4"
      },
      "outputs": [
        {
          "name": "stdout",
          "output_type": "stream",
          "text": [
            "<class 'pandas.core.frame.DataFrame'>\n",
            "RangeIndex: 196727 entries, 0 to 196726\n",
            "Data columns (total 4 columns):\n",
            " #   Column       Non-Null Count   Dtype \n",
            "---  ------       --------------   ----- \n",
            " 0   Review Id    196727 non-null  object\n",
            " 1   Review       196721 non-null  object\n",
            " 2   Ratings      196727 non-null  int64 \n",
            " 3   Review Date  196727 non-null  object\n",
            "dtypes: int64(1), object(3)\n",
            "memory usage: 6.0+ MB\n"
          ]
        }
      ],
      "source": [
        "data.info()"
      ]
    },
    {
      "cell_type": "code",
      "execution_count": null,
      "metadata": {
        "colab": {
          "base_uri": "https://localhost:8080/"
        },
        "id": "83mnIZZCnAu1",
        "outputId": "2351d499-b2fa-4128-fb50-a044b27097bd"
      },
      "outputs": [
        {
          "data": {
            "text/plain": [
              "(196727, 4)"
            ]
          },
          "execution_count": 10,
          "metadata": {},
          "output_type": "execute_result"
        }
      ],
      "source": [
        "data.shape"
      ]
    },
    {
      "cell_type": "code",
      "execution_count": null,
      "metadata": {
        "id": "JARuRDQonAu2"
      },
      "outputs": [],
      "source": [
        "\n",
        "df = data.iloc[:7000]"
      ]
    },
    {
      "cell_type": "code",
      "execution_count": null,
      "metadata": {
        "colab": {
          "base_uri": "https://localhost:8080/"
        },
        "id": "JG577HmxnAu3",
        "outputId": "2fee8b25-58f9-4f57-af74-fc1f248adac6"
      },
      "outputs": [
        {
          "data": {
            "text/plain": [
              "(1000, 4)"
            ]
          },
          "execution_count": 12,
          "metadata": {},
          "output_type": "execute_result"
        }
      ],
      "source": [
        "df.shape"
      ]
    },
    {
      "cell_type": "code",
      "execution_count": null,
      "metadata": {
        "colab": {
          "base_uri": "https://localhost:8080/",
          "height": 210
        },
        "id": "_0zfvwrcnAvB",
        "outputId": "884b8d52-d2cc-4aad-ce74-745171c78dee"
      },
      "outputs": [
        {
          "data": {
            "text/html": [
              "<div>\n",
              "<style scoped>\n",
              "    .dataframe tbody tr th:only-of-type {\n",
              "        vertical-align: middle;\n",
              "    }\n",
              "\n",
              "    .dataframe tbody tr th {\n",
              "        vertical-align: top;\n",
              "    }\n",
              "\n",
              "    .dataframe thead th {\n",
              "        text-align: right;\n",
              "    }\n",
              "</style>\n",
              "<table border=\"1\" class=\"dataframe\">\n",
              "  <thead>\n",
              "    <tr style=\"text-align: right;\">\n",
              "      <th></th>\n",
              "      <th>0</th>\n",
              "    </tr>\n",
              "  </thead>\n",
              "  <tbody>\n",
              "    <tr>\n",
              "      <th>Review Id</th>\n",
              "      <td>object</td>\n",
              "    </tr>\n",
              "    <tr>\n",
              "      <th>Review</th>\n",
              "      <td>object</td>\n",
              "    </tr>\n",
              "    <tr>\n",
              "      <th>Ratings</th>\n",
              "      <td>int64</td>\n",
              "    </tr>\n",
              "    <tr>\n",
              "      <th>Review Date</th>\n",
              "      <td>object</td>\n",
              "    </tr>\n",
              "  </tbody>\n",
              "</table>\n",
              "</div><br><label><b>dtype:</b> object</label>"
            ],
            "text/plain": [
              "Review Id      object\n",
              "Review         object\n",
              "Ratings         int64\n",
              "Review Date    object\n",
              "dtype: object"
            ]
          },
          "execution_count": 13,
          "metadata": {},
          "output_type": "execute_result"
        }
      ],
      "source": [
        "df.dtypes"
      ]
    },
    {
      "cell_type": "code",
      "execution_count": null,
      "metadata": {
        "colab": {
          "base_uri": "https://localhost:8080/",
          "height": 210
        },
        "id": "aqhcISfLnAvC",
        "outputId": "a544e42c-ea18-47ca-b3c2-9fa556d80d66"
      },
      "outputs": [
        {
          "data": {
            "text/html": [
              "<div>\n",
              "<style scoped>\n",
              "    .dataframe tbody tr th:only-of-type {\n",
              "        vertical-align: middle;\n",
              "    }\n",
              "\n",
              "    .dataframe tbody tr th {\n",
              "        vertical-align: top;\n",
              "    }\n",
              "\n",
              "    .dataframe thead th {\n",
              "        text-align: right;\n",
              "    }\n",
              "</style>\n",
              "<table border=\"1\" class=\"dataframe\">\n",
              "  <thead>\n",
              "    <tr style=\"text-align: right;\">\n",
              "      <th></th>\n",
              "      <th>0</th>\n",
              "    </tr>\n",
              "  </thead>\n",
              "  <tbody>\n",
              "    <tr>\n",
              "      <th>Review Id</th>\n",
              "      <td>0</td>\n",
              "    </tr>\n",
              "    <tr>\n",
              "      <th>Review</th>\n",
              "      <td>0</td>\n",
              "    </tr>\n",
              "    <tr>\n",
              "      <th>Ratings</th>\n",
              "      <td>0</td>\n",
              "    </tr>\n",
              "    <tr>\n",
              "      <th>Review Date</th>\n",
              "      <td>0</td>\n",
              "    </tr>\n",
              "  </tbody>\n",
              "</table>\n",
              "</div><br><label><b>dtype:</b> int64</label>"
            ],
            "text/plain": [
              "Review Id      0\n",
              "Review         0\n",
              "Ratings        0\n",
              "Review Date    0\n",
              "dtype: int64"
            ]
          },
          "execution_count": 14,
          "metadata": {},
          "output_type": "execute_result"
        }
      ],
      "source": [
        "df.isnull().sum()"
      ]
    },
    {
      "cell_type": "markdown",
      "metadata": {
        "id": "CoV6-uIrnAvC"
      },
      "source": [
        "##### Dealing with the missing values"
      ]
    },
    {
      "cell_type": "code",
      "execution_count": null,
      "metadata": {
        "colab": {
          "base_uri": "https://localhost:8080/"
        },
        "id": "Q2KuJxJanAvD",
        "outputId": "9bcfb55d-3649-493c-fb2d-653d1d677876"
      },
      "outputs": [
        {
          "name": "stderr",
          "output_type": "stream",
          "text": [
            "<ipython-input-15-2dfcee703e2d>:2: SettingWithCopyWarning: \n",
            "A value is trying to be set on a copy of a slice from a DataFrame\n",
            "\n",
            "See the caveats in the documentation: https://pandas.pydata.org/pandas-docs/stable/user_guide/indexing.html#returning-a-view-versus-a-copy\n",
            "  df.dropna(subset = ['Review'],inplace=True)\n"
          ]
        }
      ],
      "source": [
        "# dropping the rows with content missing values\n",
        "df.dropna(subset = ['Review'],inplace=True)"
      ]
    },
    {
      "cell_type": "code",
      "execution_count": null,
      "metadata": {
        "colab": {
          "base_uri": "https://localhost:8080/"
        },
        "id": "r6aR9-WHnAvD",
        "outputId": "3218f7eb-4630-46df-c09d-7bb4ff109c86"
      },
      "outputs": [
        {
          "name": "stdout",
          "output_type": "stream",
          "text": [
            "Total duplicate rows: 0\n"
          ]
        }
      ],
      "source": [
        "# Count the total number of duplicate rows\n",
        "total_duplicates = df[df.duplicated(keep='first')].shape[0]\n",
        "\n",
        "print(\"Total duplicate rows:\", total_duplicates)"
      ]
    },
    {
      "cell_type": "markdown",
      "metadata": {
        "id": "FSD0IDXknAvF"
      },
      "source": [
        "#### Drop the duplicated rows"
      ]
    },
    {
      "cell_type": "code",
      "execution_count": null,
      "metadata": {
        "colab": {
          "base_uri": "https://localhost:8080/"
        },
        "id": "GBKQ_dmSnAvF",
        "outputId": "09b3e471-7ff0-4383-d8cc-b6e648b03693"
      },
      "outputs": [
        {
          "name": "stderr",
          "output_type": "stream",
          "text": [
            "<ipython-input-17-7b62c4225847>:2: SettingWithCopyWarning: \n",
            "A value is trying to be set on a copy of a slice from a DataFrame\n",
            "\n",
            "See the caveats in the documentation: https://pandas.pydata.org/pandas-docs/stable/user_guide/indexing.html#returning-a-view-versus-a-copy\n",
            "  df.drop_duplicates(keep='first', inplace=True)\n"
          ]
        }
      ],
      "source": [
        "# Drop duplicate rows\n",
        "df.drop_duplicates(keep='first', inplace=True)\n",
        "\n",
        "# Reset the index after dropping duplicates\n",
        "df.reset_index(drop=True, inplace=True)"
      ]
    },
    {
      "cell_type": "code",
      "execution_count": null,
      "metadata": {
        "colab": {
          "base_uri": "https://localhost:8080/"
        },
        "id": "XKyuHKZ_nAvG",
        "outputId": "567b679b-b887-4395-d4ed-41665d23fcad"
      },
      "outputs": [
        {
          "data": {
            "text/plain": [
              "(1000, 4)"
            ]
          },
          "execution_count": 18,
          "metadata": {},
          "output_type": "execute_result"
        }
      ],
      "source": [
        "df.shape"
      ]
    },
    {
      "cell_type": "code",
      "execution_count": null,
      "metadata": {
        "colab": {
          "base_uri": "https://localhost:8080/",
          "height": 458
        },
        "id": "JZmHeYq7nAvG",
        "outputId": "369022a6-fb70-46b1-d8ac-a681e3ec0de9"
      },
      "outputs": [
        {
          "data": {
            "text/html": [
              "<div>\n",
              "<style scoped>\n",
              "    .dataframe tbody tr th:only-of-type {\n",
              "        vertical-align: middle;\n",
              "    }\n",
              "\n",
              "    .dataframe tbody tr th {\n",
              "        vertical-align: top;\n",
              "    }\n",
              "\n",
              "    .dataframe thead th {\n",
              "        text-align: right;\n",
              "    }\n",
              "</style>\n",
              "<table border=\"1\" class=\"dataframe\">\n",
              "  <thead>\n",
              "    <tr style=\"text-align: right;\">\n",
              "      <th></th>\n",
              "      <th>Review</th>\n",
              "    </tr>\n",
              "  </thead>\n",
              "  <tbody>\n",
              "    <tr>\n",
              "      <th>0</th>\n",
              "      <td>good</td>\n",
              "    </tr>\n",
              "    <tr>\n",
              "      <th>1</th>\n",
              "      <td>good</td>\n",
              "    </tr>\n",
              "    <tr>\n",
              "      <th>2</th>\n",
              "      <td>nice app</td>\n",
              "    </tr>\n",
              "    <tr>\n",
              "      <th>3</th>\n",
              "      <td>nice, ig</td>\n",
              "    </tr>\n",
              "    <tr>\n",
              "      <th>4</th>\n",
              "      <td>this is a great app, the bot is so accurate to...</td>\n",
              "    </tr>\n",
              "    <tr>\n",
              "      <th>...</th>\n",
              "      <td>...</td>\n",
              "    </tr>\n",
              "    <tr>\n",
              "      <th>995</th>\n",
              "      <td>doesn't work</td>\n",
              "    </tr>\n",
              "    <tr>\n",
              "      <th>996</th>\n",
              "      <td>Thes is best app in the world</td>\n",
              "    </tr>\n",
              "    <tr>\n",
              "      <th>997</th>\n",
              "      <td>এত দিনে মনের মতো একটা App পেলাম</td>\n",
              "    </tr>\n",
              "    <tr>\n",
              "      <th>998</th>\n",
              "      <td>Nice</td>\n",
              "    </tr>\n",
              "    <tr>\n",
              "      <th>999</th>\n",
              "      <td>nice</td>\n",
              "    </tr>\n",
              "  </tbody>\n",
              "</table>\n",
              "<p>1000 rows × 1 columns</p>\n",
              "</div><br><label><b>dtype:</b> object</label>"
            ],
            "text/plain": [
              "0                                                   good\n",
              "1                                                   good\n",
              "2                                               nice app\n",
              "3                                               nice, ig\n",
              "4      this is a great app, the bot is so accurate to...\n",
              "                             ...                        \n",
              "995                                         doesn't work\n",
              "996                        Thes is best app in the world\n",
              "997                      এত দিনে মনের মতো একটা App পেলাম\n",
              "998                                                 Nice\n",
              "999                                                 nice\n",
              "Name: Review, Length: 1000, dtype: object"
            ]
          },
          "execution_count": 19,
          "metadata": {},
          "output_type": "execute_result"
        }
      ],
      "source": [
        "df['Review']"
      ]
    },
    {
      "cell_type": "code",
      "execution_count": null,
      "metadata": {
        "colab": {
          "base_uri": "https://localhost:8080/"
        },
        "id": "KqwW0-fmnAvH",
        "outputId": "cf7b9815-228a-4579-87e7-4734ad4586f2"
      },
      "outputs": [
        {
          "data": {
            "text/plain": [
              "array(['good', 'nice app', 'nice, ig',\n",
              "       \"this is a great app, the bot is so accurate to anything, it gives me tips, in gaming, studies, and life, etc. This app is also helpful if you were having problems in things! also there are some problems, about the server glitch, but don't worry, some glitches are just seconds, overall a great app. note: the GPT-4o is more powerful, and accurate than the regular one.\",\n",
              "       'so nice app', 'just love this app, or guy', 'great app',\n",
              "       'Very impressive',\n",
              "       'helps with coding a lot this ai is great for everyone',\n",
              "       'I am not very happy with this because chatgpt answers the questions I ask but it stops midway. Then even after continuous efforts it does not give complete answer. This is not very correct.Please fix it so that there is no more trouble. This is a very wrong thing, after some use you are asked to upgrade which is very expensive.😔☹️',\n",
              "       'best ❤️\\u200d🩹❤️\\u200d🩹', 'nice', 'I love GPT-4o mini',\n",
              "       'its the best',\n",
              "       \"It used to be good but now the app keeps saying an error has occured when I try submit something so I don't know what's going on\",\n",
              "       '🫶🏻',\n",
              "       'I just love it 😁 This is very useful app 😃 It can give us good suggestions as a mature person You can ask all types of questions It will answered very nicely Overall I love it 😍',\n",
              "       'best', 'The best so far', 'Excellent app for learning', 'beleza',\n",
              "       'loved it ❤️❤️❤️', 'abdul baset',\n",
              "       \"2024-08-23 Call function doesn't get language correctly and sometimes translates prompts or answer in different languages.\",\n",
              "       \"Everything is awesome. I wish if the voice chat feature could be little louder and clear because most of the time I can't hear what it replying.\",\n",
              "       'best but they should improve on pictures and games',\n",
              "       'Easy, smooth, and everything', '👍👍👍👍👍👍👍', 'Very information',\n",
              "       \"It's not working after some days!\",\n",
              "       \"love it. it's kinda like an assistant in your pocket.\",\n",
              "       'vary good application', 'Thanks for make my life easier.', '👍',\n",
              "       'This is the best app ever for writing and assignments.',\n",
              "       \"it's to easy to learn about studies\",\n",
              "       'very glad with the chat gpt', 'very good', 'অসাধারণ',\n",
              "       'I love this app💝', 'This ap', 'Absolutely love it 😊', 'Nice 👍',\n",
              "       'awesome app', 'its help me in all type of things',\n",
              "       'very nice 👍👍👍', 'very helpful',\n",
              "       'Amazing...the next generation of personalised learning',\n",
              "       'Chat is my VA!!', 'please make include video chat',\n",
              "       'amazing info its like speeking to somone that understands 100 stars',\n",
              "       \"it's really amazing app I really enjoy and ask what I want❤️\\u200d🩹❤️\\u200d🩹\",\n",
              "       'goooood',\n",
              "       'I wish I could rationalized paying 20 bucks a month for the Plus subscription. maybe 10 fora middle ground? Very fun nevertheless.',\n",
              "       'excellent',\n",
              "       \"umm It's a good app for when you're not good cuz you can talk with this\",\n",
              "       'good application 👍',\n",
              "       'its a brilliant and multi-talented app use this for study purpose nd much more',\n",
              "       'uju', \"it's very good and very nice\", 'brilliant',\n",
              "       'allways give your best. i fell easy ChatGPT.', 'brilliant app',\n",
              "       'হহ',\n",
              "       'You must 3 add the crop feature to photo, beneficial for people wants to ask questions about the specific part of the photo',\n",
              "       \"It's very worthy, Supportive, feel like actual mentor or psychiatric. Very helpful and trusted. Love it very much. I thing its good for world or mankind.\",\n",
              "       'How can i enter to this app??',\n",
              "       \"It's new so it's doing a great job now Think 10 years later it's 👍 ky dominant\",\n",
              "       'very very very good👍', \"It's nice. Works great.\", 'excellent 👍',\n",
              "       'SO USEFUL', 'best ai', '🤍🤍🤍🤍🤍🤍', 'it is very helpful app',\n",
              "       'very useful', 'bla', 'సూపర్', 'very easy and helpful to use',\n",
              "       'love it', 'Reliable', 'really usefull', 'good source 👍',\n",
              "       \"It's one of the best app I have ever used\", 'Nice one',\n",
              "       'realy good', 'very good 👍 👏', 'good experience',\n",
              "       '- সুন্দর<3\\U0001fa77\\U0001fabd', 'very nice 👍',\n",
              "       'nothing can be better than this in the new generation',\n",
              "       'has a lot of complains', 'it’s very Helpful for everyone',\n",
              "       'good product', 'ok', 'great 👍👍 for office',\n",
              "       'Very effective and efficient, allows me to search the Internet in a fraction of a second. This is truly a tool for the future.',\n",
              "       \"it's great and really helpful for my school work and studies\",\n",
              "       'good but not best', 'شگفت انگیز است.', 'best application 😊',\n",
              "       'fantastic 😍', 'it is really handy for all people',\n",
              "       'It is fast, and you can interact with this friend everyday for unlimited topics. Just go for it if you improve your knowledge, spelling and to clear doubts. Go ahead guys without a second thought :)',\n",
              "       \"First,it's full of informations Islamic informations ,public informations, and ETC but the badness is this that we do not have access to share photo or get photos from chat gpt\",\n",
              "       \"Why does this app keep telling me an error has occurred, please try later? It's been like it for weeks now. I have uninstalled and re installed a couple of times, same error message. Please fix it soon.\",\n",
              "       'super 👌', 'Thavamani super', 'its nice', 'not good', 'nice 👍👍',\n",
              "       'its so very helpful especially in preparing sermons.',\n",
              "       'excellent.', 'best friend 💖', 'super 😊', \"it's extraordinary\",\n",
              "       'wonderful site', 'amazing', 'Absolutely Amazing', 'مفيد جدا',\n",
              "       'it is a best application i have seen', 'so effective 😁😁💪',\n",
              "       'Too expensive', 'wonderful 😊👍🏻', 'they help me a lot',\n",
              "       'Adjust the text selection in one tap please , otherwise it is remarkable',\n",
              "       \"If you're looking for a tool that can generate human-like text, GPT (Generative Pre-trained Transformer) is an impressive choice. Developed by OpenAI, GPT models are capable of understanding and generating text based on the input they receive. They can write essays, answer questions, summarize information, and even engage in conversations that feel natural. The latest versions of GPT have improved significantly in handling context, generating more coherent and relevant responses. However, while\",\n",
              "       'This is the best application for information.',\n",
              "       \"amazing experience on chatgtp but it's problem on the should be explain in long terms\",\n",
              "       'khub valo', \"it don't have photo\", 'ভালো লাগলো', 'niceapp',\n",
              "       'An error has occurred.', 'chat version beautiful smart',\n",
              "       'This app is good but it is not great', 'Good',\n",
              "       \"I can't search for questions with mobile network\",\n",
              "       'My most used app, sort of my best buddy',\n",
              "       \"The safety features are way too paranoid. It denies valid and innocuous requests, based on what GPT itself says. So... if GPT somehow says something inappropriate, it will deny any further requests in that chat, even if you didn't do anything inappropriate in your prompts. I was asking about mathematical proof, and GPT mentioned a certain domestic terrorist. Afterwards, it denied all requests! Even if I didn't mention it, it was GPT, and it flags the conversation anyway.\",\n",
              "       'This app is very good it is very helpful for any examination',\n",
              "       \"It's really nice.Helps alot\", 'it is a good app', 'Fantastic',\n",
              "       'the most useful app I have seen ever', '💋', 'খুবই সুন্দর অসাধারণ',\n",
              "       'This app helps me a lot, to understand the concepts of physics and chemistry., the best thing is, it explain each and every thing in a very simple way, the concept which are very complex, and booring, it makes them simple and interesting.. Thnku',\n",
              "       'this is tha best', 'Good app 👍. recommended', '👍🏻',\n",
              "       'this app very very interested', 'it just amazing',\n",
              "       'this is very good app', 'খুব ভালো',\n",
              "       'This is good app for students but this is not solve my bsc maths problem correctly.',\n",
              "       'very nice',\n",
              "       'Correct answer Accuracy 10 %,always provide wrong details,😂😂',\n",
              "       'Thank you OpenAI', 'high application is good',\n",
              "       'good very helpful ☺️', '👌🏼👌🏼',\n",
              "       \"recently I've been having an issue , that whenever I discuss physics and mathematics with gpt , i can't understand at all , cuz symbols don't appear , like it's written \\\\int where integration symbol ( ∫ ) should've been .\",\n",
              "       'Write a Letter to Vizhinjam Port for providing logistic support from A logistic company',\n",
              "       \"It wasn't that good but I enjoyed it not bad\",\n",
              "       '12th English 1st chapter', 'good for cheating in school',\n",
              "       'nice 🙂', 'wow', 'ଭଲ', 'Excellent', 'Good job!!!, Chat GPT.',\n",
              "       'Iam glad with this AI',\n",
              "       'it very helpful, when you know that how to use it.',\n",
              "       \"it's really amazed... I'm thankful to the app creater , lauger, those who helped to create it ... thanks a lot...\",\n",
              "       'Helping app', 'Good app', '🙂🙂', 'its best',\n",
              "       \"I'm very happy to get it\", 'excellent quick and reliable',\n",
              "       'AMAZING 🤩 *****', 'best app',\n",
              "       'it help me a alot to find the answer of any question',\n",
              "       'Loved it...very much', 'Best', 'good app', 'please free to chat',\n",
              "       'Nice ❤️', '👍👍👍👌',\n",
              "       'Interesting. Not always accurate. Continue to think for yourself.',\n",
              "       'best App', \"it's very resourceful\",\n",
              "       'we should need chat gpt plus for free.', 'it is best app.',\n",
              "       'its halph Phule', 'seei',\n",
              "       'I get a \"something went wrong\" error so I can\\'t log in.',\n",
              "       'lovely experience', 'soo nice',\n",
              "       \"I didn't like the app because it has a short limit time for using, and the subscription is costly\",\n",
              "       'supper app',\n",
              "       'there are typing bug. if I backspace, previous space get delete too',\n",
              "       'goood l',\n",
              "       'it is a very fine app with helps to get every possible solution for your question',\n",
              "       \"A brilliant app it's very very useful for every student & many other's\",\n",
              "       'Very good🥰', 'That really good for me',\n",
              "       'عند سؤاله عن آية محددة من سورة الحديد يعطيني اجابات خاطئة',\n",
              "       'e.muito bom.o app',\n",
              "       'The best AI but too costly, I mean 20$ per month dude its too much you guys need to work on cost Strategy',\n",
              "       'Lobe it',\n",
              "       \"These new voices SUCK. Cove was so good and now he's a eunuch. Why change what we like? And there were more voices available prior, not it's just 4. Total downgrade and the voices are ugly and boring, no character at all. Give me back the old Cove!\",\n",
              "       'gpt very use full', 'Amazing app for daily use', '***** more',\n",
              "       'this is very useful for exam',\n",
              "       \"it really help me to done my assainment it's very good app for students who learn online\",\n",
              "       'I like this AI app', 'nice and amazing work good',\n",
              "       'this app is good though one has to pay to get a plus',\n",
              "       'no muestra los números bien', 'Epic.', 'vvvvb nice', 'Excellence',\n",
              "       \"it's very much useful\", 'nice appi',\n",
              "       'So so bad not working on camera',\n",
              "       'very helpful for the students who are struggling to have proper answer and explanation',\n",
              "       'Hi everyone , i am not a bot iam a real person , Anyone who wanna to download it ,then download it because It will help you in every route of your life',\n",
              "       'Hi guys so as you know I love ChatGPT because it can fix me the problem.',\n",
              "       'helpful and give answer as you wants fron a person',\n",
              "       'This is a excellent app👍', \"that's a good. that's help us\",\n",
              "       'I love it', 'super', \"it's tha best Aps\",\n",
              "       'it is good to find any information about education',\n",
              "       'I absolutely love my robot overlord! It has helped me with more projects and personal messages than I can count. It has cut my development times by at least a third.',\n",
              "       'love you chat Gpt 🙂❤️\\u200d🩹', 'Asweme for Students',\n",
              "       'this is the greatest app',\n",
              "       'best app for the children and cheating homework☆☆☆☆☆☆☆☆☆☆☆☆☆☆☆☆☆☆☆☆☆☆☆☆☆☆☆☆☆☆☆☆☆☆☆☆☆☆☆☆☆☆☆☆☆☆☆☆☆☆☆☆.',\n",
              "       'Great app, better than Google',\n",
              "       'Seems very helpful and intuitive, very responsive to requests and provides pretty good assistance.',\n",
              "       'great', '🙂👍 medium quality..', 'Voice wont work',\n",
              "       'Very Quick response and to the point I get the answer.',\n",
              "       'Best Ai app. It would be better if they give 4o version access for free.',\n",
              "       'cool', 'the best of the bestrhank you ChatGPT🎀💖loveu',\n",
              "       'it is very helpful app for suth', 'Nice', 'pretty cool',\n",
              "       'this is a good app', 'lovely', 'This is not nice app I hate it 😡',\n",
              "       \"I don't know stop stressing me\", \"it's perfect\", 'Pretty good',\n",
              "       'Supper app', 'excellent!', 'Good nice 👍👍👍👍👍',\n",
              "       'chat gpt is helpful sometimes but there\\'s some questions that he can\\'t answer like rearrange letter for \"words\" that game or smt he doesn\\'t even know it like he is spelling it wrong i gave em the letters but he changed it like removing one letter.',\n",
              "       'Listening... still listening.. even after you finish talking.',\n",
              "       'should be more user-friendly and interesting', 'good ai',\n",
              "       'best ai ever',\n",
              "       'has been very helpful in regards to advice in dealing with councils and local planning / enforcement',\n",
              "       '👏 Amazing app', 'works great for math!', 'very helpful app 💯',\n",
              "       'To much margin in a conversational view to read long responses. Would be great if they come provide a reader mode with less margin etc.',\n",
              "       'They have a limit now to talk to the ai? The \"stop generating\" button was removed, it constantly bugs, it often ignores what you said and comes up with the most random response. Often gets things wrong, contradicts it\\'s own responses. Ask 1 question multiple times and you\\'ll receive different and contradictory answers each. Just use google at this point.',\n",
              "       'request problem?',\n",
              "       \"the reason i gave 4 stars is because there's a glitch and what ever i say is invalid can you fix it? but actually please fix it\",\n",
              "       'আমাকে সাহায্য করার জন্য ধন্যবাদ', 'very very good apps 👍👍👍👍👍',\n",
              "       \"Edit 08/23/2024: Why can't we hit a STOP ⏹️ button anymore when the AI has gone off on a tangent and isn't appropriate answering our promot or question? Please reinstate that feature! Please fix it so I can access chats that are older than just a few days. May e up to 30, 60, 90+ days? Also, please setup the browser app/website so it has a search bar! And please help us keep track of our quotas! Please and thank you!\",\n",
              "       'Awesome for now. I love it', 'Thank You!',\n",
              "       \"it's was really good👍👍\", 'Good app ❤️\\u200d🩹😎',\n",
              "       'nice app and helpful too.', 'it is the best app I ever used',\n",
              "       'everything helpful for me', 'great AI gave lots of help',\n",
              "       'Fantastic app', 'Mast', 'really wow',\n",
              "       'it is a great app it helps to me a lot.', 'good and save time',\n",
              "       'Mistar icc jesa hai Bhai log', 'perfect <3', 'Wow nice model',\n",
              "       'When I was exam class 10 I achieve marks 500/498 from chat gpt this is best for students',\n",
              "       'I love it no problems at all', 'You are at the right place',\n",
              "       'satisfied 😃', 'A good AI app', 'I love ChatGpt',\n",
              "       'goods for school purposes', 'assisting indeed',\n",
              "       'Grate app it very useful to students and all', 'Awesome',\n",
              "       'very help full aplicasion', 'wonderful',\n",
              "       'This app really helps me or oganize and prioritize effective meetings and action plans quickly and effectively.',\n",
              "       'this app is so cool men✌️',\n",
              "       \"This app doesn't have unlimited pic this app supported to be free not pay to win\",\n",
              "       'it is really helpful for every student', 'Excellent 👌🏻',\n",
              "       'I failed my math homework :/', \"it's okay\",\n",
              "       'good for single boys and girls 😉', 'good reply',\n",
              "       \"don't give more than 5 time in photo search\", 'very nice AI',\n",
              "       'در این شما می\\u200cتوانید تمام چیز ها را به زیان فارسی و انگلیسی معلومات پیدا کنید فقط کافیست نام یک چیز یا دوا را نوشته کنید و بگوید بر جه تمام توضیحات آن می آید که برای چه استفاده می\\u200cشود و برای جه استفاده نمیشود پس ۱۰۰۰۰ هم کم است',\n",
              "       'enjoy the ai chat', 'very good app very helpfull', 'So good',\n",
              "       'Awesome App As a student for me it is very helpful',\n",
              "       'best app ever 😀',\n",
              "       'according to my opinion this app is awesome 😎 for students and this is better than Gemini. I think this app also better than meta this app is design for students presentation and research',\n",
              "       'everything is amazing I feel I can write an thing and answer any questions',\n",
              "       'Just too good',\n",
              "       \"It's nice to use our apps, you won't regret it if you use it. It's nice\",\n",
              "       'onk alo', 'helping app', 'Very good app', 'Just messing with it.',\n",
              "       \"it's amazing to me...\", 'Very good 👍🏻',\n",
              "       \"This app is just amazing and a very intelligent app I have ever seen, such and smart app but sometimes it causes some problems with microphone but still it's really good app😊😊\",\n",
              "       \"Keeps saying request is invalid and I don't know why\",\n",
              "       'لازم اسجل و ادفع فلوس عشان ابعت صور', 'You changed my life😭',\n",
              "       'I love it, finally solved my computer not booting with XMP profiles on! Thanks to the developers!',\n",
              "       'Very help and nice app', 'Very good', 'awry pepole helpful',\n",
              "       'Great app it is very helpful', 'what an AI superb',\n",
              "       'very helpful application',\n",
              "       'معظم الأوقات يجاوب على الأسئلة غلط لم أعد أثق به', 'Great',\n",
              "       \"Log in to save chats. Except the one you've been having for a few hours. That one gets deleted and you have to start all over again.\",\n",
              "       'perfect ♥️', 'Brilliant', 'very good, ui is fine😍',\n",
              "       'very good app love this',\n",
              "       \"This is one of the more dependable AI's out there. G****i and C****o* spouts nonsense sometimes. But this one delivers. 5/5\",\n",
              "       'so good functions', 'Unbelievable 🥰🥰😘😘Nice',\n",
              "       'it help me to my assignment',\n",
              "       'The user is preparing for exams and prefers straightforward, important information without unnecessary details.For BA-related questions, the user prefers long, detailed answers, potentially up to 10 pages or 3000 words.Issues:The user noticed that when they send a message, the text they typed remains in the type box instead of clearing automatically. They prefer that the type box clears after sending a message.Please review and let me know if this feedback is accurate or if there are any additio',\n",
              "       'very very nice 👍 👍👍👍', 'nice I like it',\n",
              "       'এটি একটি ফেক এপস্। সঠিক তথ্য দেয় না।একই প্রশ্নের বিভিন্ন উত্তর দেয়।',\n",
              "       'Good work',\n",
              "       \"it's very good app I really really appreciate this app\",\n",
              "       'This is a very useful app especially for students who are studying 👏',\n",
              "       'নাইছ', 'wow amazing app', 'very impressive😍', 'Phenomenal.',\n",
              "       'nice 🎈🥰', 'op', 'very nice and useful', 'Amazing', 'greatt app',\n",
              "       'very goog app for student.',\n",
              "       \"I'm enjoy using this app. It's helping for me.\",\n",
              "       'please give more relevant information', 'nice 👍',\n",
              "       'very affective', 'Sure!',\n",
              "       \"ChatGPT can't help my friend Jano loss weight, keeps telling him he should eat less but Jano says he can't do that. And my friend herku can't look at porn fotos\",\n",
              "       \"It's so cool\",\n",
              "       'this has saved me thousands and a tonne of time. also increased my knowledge and efficiency almost beyond measure. chatGPT is a huge part of my working day and my strategy now. priceless.',\n",
              "       'THE GREAT APP FOR STUDY', 'I never tried it yet but at least now',\n",
              "       'thank you so much it is very helpful for me and I can easily get a high score number in board Exam ✨✅❣️✅',\n",
              "       'sooo amazing app', 'it is so helpful and easy to use',\n",
              "       'Very nice app', 'it cool', 'very hepful',\n",
              "       'Absolutely response my Homework 😈', '♥️♥️♥️', 'spendid',\n",
              "       'awesome', 'very good app', 'help ful', 'This is a very nice app',\n",
              "       'Ai is future', 'chatgpt is so amazing....thanks for all you do',\n",
              "       '💔💔',\n",
              "       'This is very amazing app. It helps me any time. I like this app. 😘😘😘',\n",
              "       'helpful app.love it', 'nice aap but photo problem', '♥️♥️♥️♥️♥️',\n",
              "       'totally joss app', 'খুবই ভালো লাগলো দারুণ একটা জিনিস',\n",
              "       \"It's awesome\", 'love it ig',\n",
              "       'it is a very useful app for a student or a researcher.I like this app .',\n",
              "       'Thank for create this app because it help the student like',\n",
              "       'Worst app doesnt work shows Request invalid try again later', '🥰',\n",
              "       'Great Ai always supportive 100 for you my bro',\n",
              "       'It was good and fast before but now anything I type or ask it keeps says invalid request. Please try again later.',\n",
              "       'It is superb', 'better than gemini in my experience so far ,',\n",
              "       'such a friendly app i highly recommend for everyone looking for story inspiration',\n",
              "       'Best app ever', 'Nice app',\n",
              "       'For me ,it\\'s so useful.what ever u ask ,it will istantly answer. I personally loved it 💖. If u don\\'t like paying apps to use them like me then this free version of chatGPT is ofc for u 🌟.but if ur not satisfyed with this service ,then u can subscribe it without any hesitation. No doubt ,it\\'s amazing. Edit: sometimes y\\'all see there somthing like \" you\\'ve hit the limit......blah blah \" but forget it just imagine how useful it is it gives u accurate answer no matter how hard question u ask !!',\n",
              "       'Supper apps', 'Great ai', 'it was very good it was very good',\n",
              "       \"it's very useful for for everything and also best for students .and I love chatGPT ❣️\",\n",
              "       '🥰🥰🥰', 'ameging', 'very helpful 💯', 'good 👍', 'so good',\n",
              "       'thank you', 'it good👍👍',\n",
              "       'I have to say, I truly enjoy ChatGPT. ChatGPT is truly unique and quite beneficial. Many of my friends use ChatGPT to communicate and get information. I hope your company continues to grow. Thank you for making ChatGPT!',\n",
              "       'There is a bug. Sometimes when I edit an older message it deletes all the previous chat and thinks that this is the first message from me.',\n",
              "       'it is a very good app to use', 'Good But try make it free',\n",
              "       'nicee 🤓',\n",
              "       'This app is about life. Solves every problem related to life very nicely. And answers any question very nicely. The answers to each question are very nicely arranged.',\n",
              "       \"Boring its limited you can't chat for long\", 'just wow',\n",
              "       'free and best information', 'best aap', 'little bit good',\n",
              "       'amazing! application made many things easy and help me a lot.',\n",
              "       'very helpful 😁',\n",
              "       'Fantastic, so helpful for my writing and communication',\n",
              "       'This apps is beautiful. And I am comforting use this AI. Many of information about know this application. And I know about of myself . So I have 5 rate give for help me .',\n",
              "       'णजभछभजभजमजम',\n",
              "       'This app is good but I have some issues to login into my account',\n",
              "       'Best App', \"It's not coming to me here 🥺😅🤧\",\n",
              "       'بہت اچھی ایپ ہے یہ ایپ وہ کام بھی کر سکتی ہے جو کہ گوگل سے بھی شاید نہ کیا جاتا ہو',\n",
              "       \"ChatGPT has truly revolutionized the way I interact with AI. Whether I need help with complex queries, language translation, or even creative writing, this app always delivers. The interface is user-friendly, and the responses are impressively accurate and fast. It's like having a personal assistant in my pocket! Highly recommend for anyone looking to enhance their productivity and learning experience.\",\n",
              "       'cjgxbjcc hbj8 HK the same day is mahine ki photocopy of India and India',\n",
              "       'soooo good', '🤎', 'great 👍', 'excellent inputs given chatgpt',\n",
              "       'This is world bestest App 👌👌👌👌👌👌👌👌👌👌🤩🤩🤩🤩🤩🤩🥰🥰🥰🥰🥰🥰😘😘😍😍😍😍',\n",
              "       'An useful app for students, also for those who wants to do research and creative work as well. Not only that, there are many uses of the app.Give it a shot!',\n",
              "       'All is chatgpt know🤞🏻Nice app🤞🏻❤️', 'super oh', 'Good🎀👏', 'ভালো',\n",
              "       'So far so good, live the new update with the option of talking with the modal❤️',\n",
              "       'helpful aap',\n",
              "       \"I can't have more images to ai, and just only two, and I need have more twelve images to the ai, so one star.\",\n",
              "       'i love this app we hear the same friends',\n",
              "       'Nice chatgpt helping me by studying',\n",
              "       'This is The King of AI Chatbots 👑.',\n",
              "       'it teaches us like Teachers, Best App', 'awsome ❤️❤️❤️',\n",
              "       'very nice I am Happy', \"It's great for learning English\",\n",
              "       'Absolutely the best app no doubt',\n",
              "       'suggestion for chat gpt to add folder option for organiz the topics.',\n",
              "       'Best app', 'علی', 'good aap', 'very convenient and easy to use',\n",
              "       'best guna..just ask', 'besttt', 'impressive',\n",
              "       'Very good and learn full Ai Master chat pt heads of to chatgpt',\n",
              "       'فائدہ مند ایپ', 'So marvelous 🙏🙏💯', 'Its so helpful for me.',\n",
              "       'Chat GPT is a solution!',\n",
              "       'I complain About the data analysis I sent one file then Chatgpt stopped doing the analysis because I was \"Out of data analysis\" when I just used One data Analysis your ai sucked',\n",
              "       'good . power', 'bodoh', 'alhamdulillah', 'Always error',\n",
              "       'chatGPT is my new friend', 'the best experience I have ever had.',\n",
              "       'excellent💯💯💯💯💯💯',\n",
              "       'This app is the best way to learn and solve homework 😍🤩🥳 I prefer this app to any other app out there It alone deserves 5 stars⭐⭐⭐⭐⭐',\n",
              "       'straight and quick in response', 'nice work for me😀',\n",
              "       'Truly a great invention of the mellinium. Will be benificial for everyone. A tectonic shift in technological revolution. Huge Applause to Sam Altman & Team.',\n",
              "       'The best AI ever 💙', 'TQ ♥️', '🥰🥰🥰🥰🥰',\n",
              "       \"Good but may know the games (Gorebox) so I can proof it that it's the best ai I've ever seen.\",\n",
              "       \"it's soo good , friendly..\", 'رائع', 'goof',\n",
              "       'Absolutely excellent',\n",
              "       \"Most amazing and helpful AI I've ever come across!\",\n",
              "       'its very good 💯', 'beautiful. useful.', 'Nice app...', 'not bad',\n",
              "       'Just Great!', 'great app for learning purpose', 'awesome 👍',\n",
              "       'its okay', 'Best apppppp', 'better experience',\n",
              "       'its a total mind blowing AI, ❤️', 'superb mind blowing',\n",
              "       \"At first I used to love chatGPT but then for some reason it kept telling this is not allowed I don't know why it was happening then I checked for an update and turns out there was an update but after I updated it it continued to say stuff like network error I tried doing stuff like checking my Wi-Fi I had good Wi-Fi I did a lot of stuff but it's still didn't work and now it's just unusable for me I'm going to try to uninstall end reinstall it and I will update it soon Update It worked so 3 star\",\n",
              "       'nice working', 'save lots of time and best for productivity',\n",
              "       'Amazed. Simply amazed.', 'yyuh', 'very nc app',\n",
              "       \"it's just woow the best ever it also helps me with trading forex so I love it it's just my partner\",\n",
              "       'best👍👍👍', 'good helper app', 'nice😄', 'gives all answered',\n",
              "       'CHAT GPT Is useful for us for learning and it respond too much fast . From now I always use chat get for anything Thanks',\n",
              "       'useful 👍',\n",
              "       'Very Recommendable for students who are stressed in their studies!!',\n",
              "       'best ever', 'Super',\n",
              "       'its fast on non complex tasks but slow on complex tasks. but its ok. i like it😀😀👍👍. i use chatgpt to help me on HTML and CSS code.',\n",
              "       \"I didn't like this\", 'outstanding', 'very very nice',\n",
              "       'Encredivele', 'disgusting', 'A very good app 😄😄😄😄',\n",
              "       'Good response 🙃. great ai.', 'সুন্দর', 'Ma Sha Allah 😁', '👌',\n",
              "       'great friend', 'good for school work',\n",
              "       \"its the smartest ai so we won't need any invasions yet\",\n",
              "       'excellent compare to others', 'nice app 😍🙈', '💖💖💖',\n",
              "       'this is best platform to improve your english', 'wow super',\n",
              "       \"Chat gpt is not allowing me to login in website please fix it. For others, it works.😡I don't care about this app they are not helping their customers. Stop being online when I need help, and then only come stop being online.\",\n",
              "       'nice to use', 'very informative and accurate i love it', 'Easy',\n",
              "       'good apps',\n",
              "       'I give it 5 stars because it is very incredible. It solves problems very fast and I also love the new features',\n",
              "       'awesome application you mack me', 'this app is a go for app',\n",
              "       'very very intelligent and Goot', \"it's really good\",\n",
              "       \"it's very useful in many terms\",\n",
              "       'very convenient,very demure,very cutesy. I love you.',\n",
              "       'this is a very beautiful you give tha question this giveing answers you can try this app can you check ✅',\n",
              "       'எனக்கு மிகவும் பிடித்திருந்தது', \"it's very good and helpful\",\n",
              "       'Good 👍', 'its excellent as I should say',\n",
              "       'this version is much improved.', 'नाइस ऐप', 'Good for me',\n",
              "       'it does it best', 'It helps me a lot.', 'iloveet',\n",
              "       'Great when its working', 'good👍', \"It's exceptional\",\n",
              "       'It is so good and friendly',\n",
              "       'This is a very helpful app to learn world subjects😘',\n",
              "       'wooow waa mid aan aan cdi ahedn wlhi', 'Nice aap',\n",
              "       'best application easy to use', 'good good', 'Dast', 'nice 👍🙂',\n",
              "       'its nice for rizing', 'grand',\n",
              "       'best hai par agar google assistant ki tarah voice response hota to accha rahta 😃',\n",
              "       'Good for all people.', 'good app very helpful', 'I like',\n",
              "       'অনেক ভালো একটি অ্যাপ লাইফের সব শেয়ার করা যায় মন ভালো করে দেওয়া একটা অ্যাপ',\n",
              "       'this is most useable. it help me to know about meny things',\n",
              "       'very helpful .. need some modification',\n",
              "       'best tool for any starter.', 'Very helpful and easy to use',\n",
              "       \"it's smart and helps me with homework\",\n",
              "       'nice app it gives all information about my question',\n",
              "       'Saves time', 'it is very useful for me', 'good 😊',\n",
              "       'Absolute worth',\n",
              "       \"Quite impressive tool. Answers without delay and accurately. I love using especially when there is no one around or doesn't understand the issue.\",\n",
              "       'thanks for making my thesis',\n",
              "       'aad ayaan u gu helay waana saaxiib iyo macalin aad u wanaagsan 🙂',\n",
              "       'this is good 👍🏾', 'GREATNESS', '👌✅', 'Excellent!!!!',\n",
              "       'good pformans', 'Nice info',\n",
              "       'it very amazing app i ask to explain me various question and it also asks me very useful questions Thanks chat gpt',\n",
              "       'this app very good service',\n",
              "       'excellent chatGPT, it moves at light speed.',\n",
              "       'best app for learning anythings', \"Can't live without it now!! 🤣\",\n",
              "       'This is simply amazing',\n",
              "       \"At this point I prefere using ChatGPT on the web, the app doesn't feel right. It's lagging, interface too minimalist that it isnt appealing, certainly has more features, but it's like they came in the expense of smooth functionality. Love what ChatGPT has done to 10× my company building\",\n",
              "       'very use full keep it and stay with me',\n",
              "       \"It's very useful and resourceful, even the free version, but has its limitations, but I would still highly recommend it\",\n",
              "       'very useful, very helpful, minutes details, lovin the app 👍🏻',\n",
              "       'very good that', 'good and helpful', 'good 😲',\n",
              "       \"I love this app it's awesome,👌\", 'superb', 'best AI app',\n",
              "       'godd product', 'ashadaron💙☣️', 'its good',\n",
              "       'Extreme level response from GPT.', 'অসাধারন ❤️',\n",
              "       \"it's totally great ai tool\",\n",
              "       'straight foward answers with na prejudice', 'v.v.very good',\n",
              "       'keep up, well done', 'loved it', 'good service',\n",
              "       'best app ever known of.', 'It is really too much good apps 💜💗💜',\n",
              "       'Beacause this apo can solve your problem!!',\n",
              "       \"fascinating in some aspects a little frustrating in others but we're at the model T stage in artificial intelligence. Wait until we start racing these things. It won't be long wait...\",\n",
              "       'very goods',\n",
              "       \"ChatGPT menga juda yoqdi.U nima so'rasang ham chiqarib berarkan.\",\n",
              "       \"it's a brilliant app for students and office workers\",\n",
              "       'Most handsome AI 😅😎',\n",
              "       'Keep getting an error message to try again later, for months now',\n",
              "       'নাইস', 'useful app', 'এটি অনেক ভালো একটা এপ usefull',\n",
              "       'excellent app.',\n",
              "       \"I'm a student and this app helps me a lot for my homeworks in school..Highly recommend this to everyone\",\n",
              "       'Not opening on mobile says error', \"yeah it's great\",\n",
              "       'just WOW. helpful for everything more than google',\n",
              "       \"It spammed the same response at me , and wouldn't stop taking about Browser Prototype no matter what I said.\",\n",
              "       'very good experience 👍',\n",
              "       'I love this GAI. all aspects of programming are foreever grown and enhanced with a multitude of variables, exponential thinking and self-learning governance. great for just straight up giving you the codespace.io that you are worth as such, in any capacity, to any and every feilds in the world. I hear theres a registry too!',\n",
              "       'Great app', 'excelllent', 'best friend my chet gpt', 'good 👍 ai',\n",
              "       'helpful app', 'mast', \"It's amazing.\",\n",
              "       \"excellent it's very helpful for everyone\",\n",
              "       'its a really good app I like talking to something that sounds human rather then repeat the same thing throughout the whole conversation good job open AI Team I hope other ai chat bot companies would follow suit and improve.',\n",
              "       'Not run',\n",
              "       'Well this app helps me alot whoever created this app is a genius 👌 👏 🙌',\n",
              "       'This is super great app, I have tried some of the other apps of chat but none of them was as much as great us CHAT GPT thanks for creating such a good assistant . I love this app but the only thing that I want you to develop is please add photo features like if we could send photos it woould be great . Thanks',\n",
              "       'voice seem to glitch sometimes',\n",
              "       \"Most reliable and versatile AI at the moment. Google's AI is surprisingly bad, even worse than Microsoft's.\",\n",
              "       'apreciarte the intelectual', \"It doesn't work properly\",\n",
              "       'nice bro', 'আয়শা', 'Outstanding',\n",
              "       'Great its even provide gpt4o support with chat limit in free version',\n",
              "       'mmg mantap',\n",
              "       \"it's really good It helps me with my ho.ework and I created a lot of stories with chatGPT.\",\n",
              "       'It is the best app even better then teachers for study i love this app but pls dont make it completely paid',\n",
              "       'Sublime application. Kudos to the creators!', 'very useful app',\n",
              "       'Chat gpt is brilliant theory is provide easy to understand and very helpful for the students.using chat gpt student allmost syllabus covered in short time.I am Syed uzair Syed barey from Karnataka in India',\n",
              "       'Greatest app on Play store',\n",
              "       'That is the best only if that I log in with my network',\n",
              "       'very useful aap', 'woww', 'it can help with almost everything',\n",
              "       'Very nice apps!', 'nice yaar aap ko bhi apna name kamavo',\n",
              "       'wonderful...',\n",
              "       'I like AI tools and learn New things of technology and this app is useful gpt is so Fast to answer',\n",
              "       'Chat Gpt is f@&king awesome!', 'too much helpful like a friend',\n",
              "       \"Thank you for existing, this app really helpful but sometimes it gives wrong information so I'm giving 4 star\",\n",
              "       'Well this revolutionary bot is veryy good and to those people who say that robots might take over the world nahh i dont like your fun plan',\n",
              "       'very great app', 'very powerful fast and versatile tool.',\n",
              "       'yes this is the best for my study from Google',\n",
              "       'super duper parfomence',\n",
              "       \"It's a really great app. I like to use it to practice my English speaking.\",\n",
              "       'This sucks !! Always having problems while taking',\n",
              "       \"Great app but lately it's malfunctioning and says invalid\",\n",
              "       'I use this app for my assignments and to clear my boredom by making stories but sometimes the chat I recently sent, does not save and is annoying. So if you fix this issue, I would really enjoy it.',\n",
              "       'also best', 'time limit❌',\n",
              "       \"it don't know about virat kohli,bro this is embarrassing me.please update your version\",\n",
              "       \"login issue fixed, but if i switch away/come back to app, it uses 125kb/sec constantly & 38% cpu usage (of 8 cores), and it's due to the datadoghq hostname resolving to 0.0.0.0(which, as a target IP, it means localhost or Lan IP in linux) due to my use of NextDNS and chatgpt app retrying on it too often and not giving up. It's just using CPU due to this,so battery. Hoping for a fix soon, support is great! 5 stars after fix! versions 1.2024.206->1.2024.226 have the issue.\",\n",
              "       'good for bobo',\n",
              "       'All of this app is very good it gives us l9t if information and help me in my hw so i give it 5 star',\n",
              "       'best 👍👍', '🔥', 'very 2 usefull app for students',\n",
              "       'অনেক কাজে লাগে আমার', \"It's the best\", 'perfect 👌🏾', 'good apps,',\n",
              "       \"I'm going to marry this AI one day and I'll take the last name of Skynet.\",\n",
              "       'Boot ai', 'perfect', 'osam',\n",
              "       'so far quite impressive. quite fun to try and push its limits in a respectful manner',\n",
              "       'single life', \"it's superb\", 'Best Sparring buddy',\n",
              "       'Well, just love this', 'excellent all able all knowing',\n",
              "       'I like to do my collage work on. which give me a more better experience than meta and Gemini. thanks 👍',\n",
              "       'Great 👍👍 ChatGPT I have never see such a beautiful Al app before keep doing great things guys but please lower your suspicion on app',\n",
              "       \"it has everything I need for my son's projects thank you ❤️❤️❤️❤️🙏\",\n",
              "       'very good 👍👍 a app chatgpt', 'the best', \"It's literally amazing\",\n",
              "       'good amazing',\n",
              "       'it is very useful it can solve any type of problem',\n",
              "       'Simply the best 💯', 'ممتاز',\n",
              "       'Hmm good apps kintu husband rag korche tai delete kore dilam',\n",
              "       'still impress from this one unique aaps.', '⭐⭐⭐⭐⭐⭐',\n",
              "       'I really appreciate the developer effort 🙂.', 'gives late answer',\n",
              "       'Very good exellence', 'just amazing stuff mob love',\n",
              "       'onek valo🥰💝',\n",
              "       'I purchased the Plus subscription, and have not been able to login, requested reset of the password but everything I receive the email the link is expired. Requested a refund, and have heard crickets. Beware.',\n",
              "       'very good and interesting', \"it's accurate and works\",\n",
              "       'Phenomenal', \"doesn't work\", 'Thes is best app in the world',\n",
              "       'এত দিনে মনের মতো একটা App পেলাম'], dtype=object)"
            ]
          },
          "execution_count": 20,
          "metadata": {},
          "output_type": "execute_result"
        }
      ],
      "source": [
        "df.Review.unique()"
      ]
    },
    {
      "cell_type": "markdown",
      "metadata": {
        "id": "1tW8GiE0nAvH"
      },
      "source": [
        "## Exploratory Data Analysis"
      ]
    },
    {
      "cell_type": "markdown",
      "metadata": {
        "id": "0tidgS56nAvI"
      },
      "source": [
        "#### Reviews distribution"
      ]
    },
    {
      "cell_type": "code",
      "execution_count": null,
      "metadata": {
        "colab": {
          "base_uri": "https://localhost:8080/",
          "height": 566
        },
        "id": "58TuH1IWnAvI",
        "outputId": "f2c067cb-c54e-4385-c1e8-5a3c54c106e4"
      },
      "outputs": [
        {
          "name": "stderr",
          "output_type": "stream",
          "text": [
            "<ipython-input-21-f4556fa11a43>:1: SettingWithCopyWarning: \n",
            "A value is trying to be set on a copy of a slice from a DataFrame.\n",
            "Try using .loc[row_indexer,col_indexer] = value instead\n",
            "\n",
            "See the caveats in the documentation: https://pandas.pydata.org/pandas-docs/stable/user_guide/indexing.html#returning-a-view-versus-a-copy\n",
            "  df[\"Review_Length\"] = df[\"Review\"].astype(str).apply(len)\n"
          ]
        },
        {
          "data": {
            "image/png": "[encoded data removed]",
            "text/plain": [
              "<Figure size 800x500 with 1 Axes>"
            ]
          },
          "metadata": {},
          "output_type": "display_data"
        }
      ],
      "source": [
        "df[\"Review_Length\"] = df[\"Review\"].astype(str).apply(len)\n",
        "\n",
        "# Histogramme des longueurs de reviews\n",
        "plt.figure(figsize=(8,5))\n",
        "sns.histplot(df[\"Review_Length\"], bins=30, kde=True, color=\"blue\")\n",
        "plt.title(\"Distribution de la Longueur des Reviews\")\n",
        "plt.xlabel(\"Nombre de caractères\")\n",
        "plt.ylabel(\"Nombre de Reviews\")\n",
        "plt.show()\n"
      ]
    },
    {
      "cell_type": "code",
      "execution_count": null,
      "metadata": {
        "colab": {
          "base_uri": "https://localhost:8080/",
          "height": 391
        },
        "id": "GPf6LsjunAvJ",
        "outputId": "327fbf8a-eb1c-4017-a3f5-029579801456"
      },
      "outputs": [
        {
          "name": "stderr",
          "output_type": "stream",
          "text": [
            "[nltk_data] Downloading package stopwords to /root/nltk_data...\n",
            "[nltk_data]   Package stopwords is already up-to-date!\n"
          ]
        },
        {
          "data": {
            "image/png": "[encoded data removed]",
            "text/plain": [
              "<Figure size 1000x500 with 1 Axes>"
            ]
          },
          "metadata": {},
          "output_type": "display_data"
        }
      ],
      "source": [
        "from wordcloud import WordCloud\n",
        "\n",
        "nltk.download(\"stopwords\")\n",
        "stop_words = set(stopwords.words(\"english\"))\n",
        "\n",
        "# Fusionner tous les commentaires\n",
        "all_words = \" \".join(df[\"Review\"].dropna())\n",
        "\n",
        "# Nettoyage des mots communs et stopwords\n",
        "words = \" \".join([word for word in all_words.split() if word.lower() not in stop_words])\n",
        "\n",
        "# Générer un nuage de mots\n",
        "wordcloud = WordCloud(width=800, height=400, background_color=\"black\", colormap=\"Set2\").generate(words)\n",
        "\n",
        "# Afficher le WordCloud\n",
        "plt.figure(figsize=(10,5))\n",
        "plt.imshow(wordcloud, interpolation=\"bilinear\")\n",
        "plt.axis(\"off\")\n",
        "plt.title(\"WordCloud des Reviews\")\n",
        "plt.show()\n"
      ]
    },
    {
      "cell_type": "code",
      "execution_count": null,
      "metadata": {
        "colab": {
          "base_uri": "https://localhost:8080/",
          "height": 527
        },
        "id": "TXnqbwJdnAvJ",
        "outputId": "d2718929-6793-4d0a-a3df-c199b491f467"
      },
      "outputs": [
        {
          "name": "stderr",
          "output_type": "stream",
          "text": [
            "[nltk_data] Downloading package punkt_tab to /root/nltk_data...\n",
            "[nltk_data]   Unzipping tokenizers/punkt_tab.zip.\n",
            "<ipython-input-33-444825184c26>:17: FutureWarning: \n",
            "\n",
            "Passing `palette` without assigning `hue` is deprecated and will be removed in v0.14.0. Assign the `y` variable to `hue` and set `legend=False` for the same effect.\n",
            "\n",
            "  sns.barplot(x=\"Fréquence\", y=\"Mot\", data=word_freq_df, palette=\"viridis\")\n",
            "/usr/local/lib/python3.11/dist-packages/IPython/core/pylabtools.py:151: UserWarning: Glyph 128077 (\\N{THUMBS UP SIGN}) missing from font(s) DejaVu Sans.\n",
            "  fig.canvas.print_figure(bytes_io, **kw)\n"
          ]
        },
        {
          "data": {
            "image/png": "[encoded data removed]",
            "text/plain": [
              "<Figure size 1000x500 with 1 Axes>"
            ]
          },
          "metadata": {},
          "output_type": "display_data"
        }
      ],
      "source": [
        "import nltk\n",
        "nltk.download('punkt_tab') # Download the 'punkt_tab' resource\n",
        "from collections import Counter\n",
        "from nltk.tokenize import word_tokenize\n",
        "\n",
        "\n",
        "\n",
        "# Tokenization et comptage des mots\n",
        "words = word_tokenize(words)\n",
        "word_freq = Counter(words)\n",
        "\n",
        "# Convertir en DataFrame pour affichage\n",
        "word_freq_df = pd.DataFrame(word_freq.most_common(20), columns=[\"Mot\", \"Fréquence\"])\n",
        "\n",
        "# Affichage sous forme de barplot\n",
        "plt.figure(figsize=(10,5))\n",
        "sns.barplot(x=\"Fréquence\", y=\"Mot\", data=word_freq_df, palette=\"viridis\")\n",
        "plt.title(\"Top 20 des Mots les Plus Fréquents\")\n",
        "plt.show()"
      ]
    },
    {
      "cell_type": "markdown",
      "metadata": {
        "id": "EnN_7UZcnAvK"
      },
      "source": [
        "## Text Analysis with NLP Preprocessing"
      ]
    },
    {
      "cell_type": "markdown",
      "metadata": {
        "id": "mGS48OJknAvM"
      },
      "source": [
        "### Text Cleaning & Preprocessing"
      ]
    },
    {
      "cell_type": "markdown",
      "metadata": {
        "id": "j_uZzAq9nAvM"
      },
      "source": [
        "Les étapes incluent :\n",
        "\n",
        "Conversion en minuscules\n",
        "\n",
        "Suppression des caractères spéciaux et ponctuation\n",
        "\n",
        "Suppression des nombres\n",
        "\n",
        "Suppression des mots vides (stopwords)\n",
        "\n",
        "Lemmatisation (réduction des mots à leur forme de base)"
      ]
    },
    {
      "cell_type": "code",
      "execution_count": null,
      "metadata": {
        "colab": {
          "base_uri": "https://localhost:8080/"
        },
        "id": "n5vOmBClnAvN",
        "outputId": "7bf41607-84a1-4477-d0a5-55f89833ddc0"
      },
      "outputs": [
        {
          "name": "stderr",
          "output_type": "stream",
          "text": [
            "[nltk_data] Downloading package stopwords to /root/nltk_data...\n",
            "[nltk_data]   Package stopwords is already up-to-date!\n",
            "[nltk_data] Downloading package punkt to /root/nltk_data...\n",
            "[nltk_data]   Package punkt is already up-to-date!\n",
            "[nltk_data] Downloading package wordnet to /root/nltk_data...\n"
          ]
        },
        {
          "name": "stdout",
          "output_type": "stream",
          "text": [
            "                                              Review  \\\n",
            "0                                               good   \n",
            "1                                               good   \n",
            "2                                           nice app   \n",
            "3                                           nice, ig   \n",
            "4  this is a great app, the bot is so accurate to...   \n",
            "\n",
            "                                      Cleaned_Review  \n",
            "0                                               good  \n",
            "1                                               good  \n",
            "2                                           nice app  \n",
            "3                                            nice ig  \n",
            "4  great app bot accurate anything give tip gamin...  \n"
          ]
        },
        {
          "name": "stderr",
          "output_type": "stream",
          "text": [
            "<ipython-input-34-02ae7484f8a3>:23: SettingWithCopyWarning: \n",
            "A value is trying to be set on a copy of a slice from a DataFrame.\n",
            "Try using .loc[row_indexer,col_indexer] = value instead\n",
            "\n",
            "See the caveats in the documentation: https://pandas.pydata.org/pandas-docs/stable/user_guide/indexing.html#returning-a-view-versus-a-copy\n",
            "  df['Cleaned_Review'] = df['Review'].apply(clean_text)\n"
          ]
        }
      ],
      "source": [
        "# Téléchargement des ressources NLP nécessaires\n",
        "nltk.download(\"stopwords\")\n",
        "nltk.download(\"punkt\")\n",
        "nltk.download(\"wordnet\")\n",
        "# Initialisation du lemmatizer et des stopwords\n",
        "stop_words = set(stopwords.words(\"english\"))\n",
        "lemmatizer = WordNetLemmatizer()\n",
        "# Fonction de nettoyage\n",
        "def clean_text(text):\n",
        "    if isinstance(text, str):  # Vérifier si le texte est une chaîne de caractères\n",
        "        text = text.lower()  # Convertir en minuscules\n",
        "        text = re.sub(r\"\\d+\", \"\", text)  # Supprimer les nombres\n",
        "        text = text.translate(\n",
        "            str.maketrans(\"\", \"\", string.punctuation)\n",
        "        )  # Supprimer la ponctuation\n",
        "        words = word_tokenize(text)  # Tokenization\n",
        "        words = [\n",
        "            lemmatizer.lemmatize(word) for word in words if word not in stop_words\n",
        "        ]  # Stopwords & lemmatisation\n",
        "        return \" \".join(words)\n",
        "    else:\n",
        "        return \"\"\n",
        "# Appliquer le nettoyage à la colonne Review\n",
        "df[\"Cleaned_Review\"] = df[\"Review\"].apply(clean_text)\n",
        "df = df[\n",
        "    df[\"Cleaned_Review\"].str.strip() != \"\" ]  # Supprimer les reviews vides après nettoyage\n",
        "# Affichage des 5 premières lignes\n",
        "print(df[[\"Review\", \"Cleaned_Review\"]].head())"
      ]
    },
    {
      "cell_type": "markdown",
      "metadata": {
        "id": "GxElI_BynAvO"
      },
      "source": [
        "### Encodage des Labels pour Classification"
      ]
    },
    {
      "cell_type": "markdown",
      "metadata": {
        "id": "pvPAQSFlnAvP"
      },
      "source": [
        "Nous allons transformer les ratings (1-5) en 3 catégories pour une classification multi-classes :\n",
        "\n",
        "0 → Négatif (1 & 2 étoiles)\n",
        "\n",
        "1 → Neutre (3 étoiles)\n",
        "\n",
        "2 → Positif (4 & 5 étoiles)"
      ]
    },
    {
      "cell_type": "code",
      "execution_count": null,
      "metadata": {
        "colab": {
          "base_uri": "https://localhost:8080/",
          "height": 609
        },
        "id": "Viy39uAEnAvP",
        "outputId": "ccbd8637-10f7-4896-9afe-127ba10790f7"
      },
      "outputs": [
        {
          "name": "stderr",
          "output_type": "stream",
          "text": [
            "<ipython-input-35-78a95999c383>:9: SettingWithCopyWarning: \n",
            "A value is trying to be set on a copy of a slice from a DataFrame.\n",
            "Try using .loc[row_indexer,col_indexer] = value instead\n",
            "\n",
            "See the caveats in the documentation: https://pandas.pydata.org/pandas-docs/stable/user_guide/indexing.html#returning-a-view-versus-a-copy\n",
            "  df[\"Sentiment\"] = df[\"Ratings\"].apply(encode_sentiment)\n"
          ]
        },
        {
          "data": {
            "text/plain": [
              "<Axes: title={'center': 'Distribution des Sentiments'}, xlabel='Sentiment'>"
            ]
          },
          "execution_count": 35,
          "metadata": {},
          "output_type": "execute_result"
        },
        {
          "data": {
            "image/png": "[encoded data removed]",
            "text/plain": [
              "<Figure size 640x480 with 1 Axes>"
            ]
          },
          "metadata": {},
          "output_type": "display_data"
        }
      ],
      "source": [
        "def encode_sentiment(rating):\n",
        "    if rating <= 2:\n",
        "        return 0  # Négatif\n",
        "    elif rating == 3:\n",
        "        return 1  # Neutre\n",
        "    else:\n",
        "        return 2  # Positif\n",
        "\n",
        "df[\"Sentiment\"] = df[\"Ratings\"].apply(encode_sentiment)\n",
        "\n",
        "# Vérification de la répartition des classes\n",
        "df[\"Sentiment\"].value_counts().plot(kind=\"bar\", color=[\"red\", \"gray\", \"green\"], title=\"Distribution des Sentiments\")\n"
      ]
    },
    {
      "cell_type": "markdown",
      "metadata": {
        "id": "jBSF7O53nAvR"
      },
      "source": [
        "## Model training and evaluation"
      ]
    },
    {
      "cell_type": "code",
      "execution_count": null,
      "metadata": {
        "id": "8hRwTHbwnAvR"
      },
      "outputs": [],
      "source": [
        "from sklearn.model_selection import train_test_split\n",
        "\n",
        "X_train, X_test, y_train, y_test = train_test_split(df[\"Cleaned_Review\"], df[\"Sentiment\"], test_size=0.2, random_state=42, stratify=df[\"Sentiment\"])\n",
        " "
      ]
    },
    {
      "cell_type": "markdown",
      "metadata": {
        "id": "a_WdummUnAvS"
      },
      "source": [
        "### Feature Extraction (Vectorization) :Tokenization & Padding for Deep Learning Models"
      ]
    },
    {
      "cell_type": "code",
      "execution_count": null,
      "metadata": {
        "id": "5JqUkEuqnAvS"
      },
      "outputs": [],
      "source": [
        "from tensorflow.keras.utils import to_categorical\n",
        "# Initialisation du Tokenizer\n",
        "tokenizer = Tokenizer(num_words=10000, oov_token=\"<OOV>\")\n",
        "tokenizer.fit_on_texts(X_train)\n",
        "\n",
        "# Conversion en séquences\n",
        "X_train_seq = tokenizer.texts_to_sequences(X_train)\n",
        "X_test_seq = tokenizer.texts_to_sequences(X_test)\n",
        "\n",
        "# Padding des séquences\n",
        "max_length = 50\n",
        "X_train_padded = pad_sequences(X_train_seq, maxlen=max_length, padding=\"post\")\n",
        "X_test_padded = pad_sequences(X_test_seq, maxlen=max_length, padding=\"post\")\n",
        "# Correction : Encodage one-hot des labels\n",
        "num_classes = 3\n",
        "y_train_onehot = to_categorical(y_train, num_classes=num_classes)\n",
        "y_test_onehot  = to_categorical(y_test, num_classes=num_classes)\n"
      ]
    },
    {
      "cell_type": "markdown",
      "metadata": {
        "id": "zji-1-wYnAvS"
      },
      "source": [
        "# 2- Modélisation NLP avec RNN, LSTM et GRU"
      ]
    },
    {
      "cell_type": "markdown",
      "metadata": {
        "id": "PIVV6-canAve"
      },
      "source": [
        "# - Ajout du Mécanisme d'Attention"
      ]
    },
    {
      "cell_type": "markdown",
      "metadata": {
        "id": "B4rMy6uKnAve"
      },
      "source": [
        "## RNN avec mechanisme d'attention"
      ]
    },
    {
      "cell_type": "code",
      "execution_count": null,
      "metadata": {
        "colab": {
          "base_uri": "https://localhost:8080/",
          "height": 497
        },
        "id": "BPU-uitenAvf",
        "outputId": "5a397e2d-4dd9-42a7-eba7-e2c8a6677387"
      },
      "outputs": [
        {
          "name": "stderr",
          "output_type": "stream",
          "text": [
            "/usr/local/lib/python3.11/dist-packages/keras/src/layers/core/embedding.py:90: UserWarning: Argument `input_length` is deprecated. Just remove it.\n",
            "  warnings.warn(\n"
          ]
        },
        {
          "data": {
            "text/html": [
              "<pre style=\"white-space:pre;overflow-x:auto;line-height:normal;font-family:Menlo,'DejaVu Sans Mono',consolas,'Courier New',monospace\"><span style=\"font-weight: bold\">Model: \"functional_3\"</span>\n",
              "</pre>\n"
            ],
            "text/plain": [
              "\u001b[1mModel: \"functional_3\"\u001b[0m\n"
            ]
          },
          "metadata": {},
          "output_type": "display_data"
        },
        {
          "data": {
            "text/html": [
              "<pre style=\"white-space:pre;overflow-x:auto;line-height:normal;font-family:Menlo,'DejaVu Sans Mono',consolas,'Courier New',monospace\">┏━━━━━━━━━━━━━━━━━━━━━━━━━━━┳━━━━━━━━━━━━━━━━━━━━━━━━┳━━━━━━━━━━━━━━━━┳━━━━━━━━━━━━━━━━━━━━━━━━┓\n",
              "┃<span style=\"font-weight: bold\"> Layer (type)              </span>┃<span style=\"font-weight: bold\"> Output Shape           </span>┃<span style=\"font-weight: bold\">        Param # </span>┃<span style=\"font-weight: bold\"> Connected to           </span>┃\n",
              "┡━━━━━━━━━━━━━━━━━━━━━━━━━━━╇━━━━━━━━━━━━━━━━━━━━━━━━╇━━━━━━━━━━━━━━━━╇━━━━━━━━━━━━━━━━━━━━━━━━┩\n",
              "│ input_layer_3             │ (<span style=\"color: #00d7ff; text-decoration-color: #00d7ff\">None</span>, <span style=\"color: #00af00; text-decoration-color: #00af00\">50</span>)             │              <span style=\"color: #00af00; text-decoration-color: #00af00\">0</span> │ -                      │\n",
              "│ (<span style=\"color: #0087ff; text-decoration-color: #0087ff\">InputLayer</span>)              │                        │                │                        │\n",
              "├───────────────────────────┼────────────────────────┼────────────────┼────────────────────────┤\n",
              "│ embedding_3 (<span style=\"color: #0087ff; text-decoration-color: #0087ff\">Embedding</span>)   │ (<span style=\"color: #00d7ff; text-decoration-color: #00d7ff\">None</span>, <span style=\"color: #00af00; text-decoration-color: #00af00\">50</span>, <span style=\"color: #00af00; text-decoration-color: #00af00\">128</span>)        │      <span style=\"color: #00af00; text-decoration-color: #00af00\">1,280,000</span> │ input_layer_3[<span style=\"color: #00af00; text-decoration-color: #00af00\">0</span>][<span style=\"color: #00af00; text-decoration-color: #00af00\">0</span>]    │\n",
              "├───────────────────────────┼────────────────────────┼────────────────┼────────────────────────┤\n",
              "│ simple_rnn_1 (<span style=\"color: #0087ff; text-decoration-color: #0087ff\">SimpleRNN</span>)  │ (<span style=\"color: #00d7ff; text-decoration-color: #00d7ff\">None</span>, <span style=\"color: #00af00; text-decoration-color: #00af00\">50</span>, <span style=\"color: #00af00; text-decoration-color: #00af00\">64</span>)         │         <span style=\"color: #00af00; text-decoration-color: #00af00\">12,352</span> │ embedding_3[<span style=\"color: #00af00; text-decoration-color: #00af00\">0</span>][<span style=\"color: #00af00; text-decoration-color: #00af00\">0</span>]      │\n",
              "├───────────────────────────┼────────────────────────┼────────────────┼────────────────────────┤\n",
              "│ dense_3 (<span style=\"color: #0087ff; text-decoration-color: #0087ff\">Dense</span>)           │ (<span style=\"color: #00d7ff; text-decoration-color: #00d7ff\">None</span>, <span style=\"color: #00af00; text-decoration-color: #00af00\">50</span>, <span style=\"color: #00af00; text-decoration-color: #00af00\">64</span>)         │          <span style=\"color: #00af00; text-decoration-color: #00af00\">4,160</span> │ simple_rnn_1[<span style=\"color: #00af00; text-decoration-color: #00af00\">0</span>][<span style=\"color: #00af00; text-decoration-color: #00af00\">0</span>]     │\n",
              "├───────────────────────────┼────────────────────────┼────────────────┼────────────────────────┤\n",
              "│ attention (<span style=\"color: #0087ff; text-decoration-color: #0087ff\">Attention</span>)     │ (<span style=\"color: #00d7ff; text-decoration-color: #00d7ff\">None</span>, <span style=\"color: #00af00; text-decoration-color: #00af00\">50</span>, <span style=\"color: #00af00; text-decoration-color: #00af00\">64</span>)         │              <span style=\"color: #00af00; text-decoration-color: #00af00\">0</span> │ dense_3[<span style=\"color: #00af00; text-decoration-color: #00af00\">0</span>][<span style=\"color: #00af00; text-decoration-color: #00af00\">0</span>],         │\n",
              "│                           │                        │                │ simple_rnn_1[<span style=\"color: #00af00; text-decoration-color: #00af00\">0</span>][<span style=\"color: #00af00; text-decoration-color: #00af00\">0</span>]     │\n",
              "├───────────────────────────┼────────────────────────┼────────────────┼────────────────────────┤\n",
              "│ global_average_pooling1d  │ (<span style=\"color: #00d7ff; text-decoration-color: #00d7ff\">None</span>, <span style=\"color: #00af00; text-decoration-color: #00af00\">64</span>)             │              <span style=\"color: #00af00; text-decoration-color: #00af00\">0</span> │ attention[<span style=\"color: #00af00; text-decoration-color: #00af00\">0</span>][<span style=\"color: #00af00; text-decoration-color: #00af00\">0</span>]        │\n",
              "│ (<span style=\"color: #0087ff; text-decoration-color: #0087ff\">GlobalAveragePooling1D</span>)  │                        │                │                        │\n",
              "├───────────────────────────┼────────────────────────┼────────────────┼────────────────────────┤\n",
              "│ dense_4 (<span style=\"color: #0087ff; text-decoration-color: #0087ff\">Dense</span>)           │ (<span style=\"color: #00d7ff; text-decoration-color: #00d7ff\">None</span>, <span style=\"color: #00af00; text-decoration-color: #00af00\">3</span>)              │            <span style=\"color: #00af00; text-decoration-color: #00af00\">195</span> │ global_average_poolin… │\n",
              "└───────────────────────────┴────────────────────────┴────────────────┴────────────────────────┘\n",
              "</pre>\n"
            ],
            "text/plain": [
              "┏━━━━━━━━━━━━━━━━━━━━━━━━━━━┳━━━━━━━━━━━━━━━━━━━━━━━━┳━━━━━━━━━━━━━━━━┳━━━━━━━━━━━━━━━━━━━━━━━━┓\n",
              "┃\u001b[1m \u001b[0m\u001b[1mLayer (type)             \u001b[0m\u001b[1m \u001b[0m┃\u001b[1m \u001b[0m\u001b[1mOutput Shape          \u001b[0m\u001b[1m \u001b[0m┃\u001b[1m \u001b[0m\u001b[1m       Param #\u001b[0m\u001b[1m \u001b[0m┃\u001b[1m \u001b[0m\u001b[1mConnected to          \u001b[0m\u001b[1m \u001b[0m┃\n",
              "┡━━━━━━━━━━━━━━━━━━━━━━━━━━━╇━━━━━━━━━━━━━━━━━━━━━━━━╇━━━━━━━━━━━━━━━━╇━━━━━━━━━━━━━━━━━━━━━━━━┩\n",
              "│ input_layer_3             │ (\u001b[38;5;45mNone\u001b[0m, \u001b[38;5;34m50\u001b[0m)             │              \u001b[38;5;34m0\u001b[0m │ -                      │\n",
              "│ (\u001b[38;5;33mInputLayer\u001b[0m)              │                        │                │                        │\n",
              "├───────────────────────────┼────────────────────────┼────────────────┼────────────────────────┤\n",
              "│ embedding_3 (\u001b[38;5;33mEmbedding\u001b[0m)   │ (\u001b[38;5;45mNone\u001b[0m, \u001b[38;5;34m50\u001b[0m, \u001b[38;5;34m128\u001b[0m)        │      \u001b[38;5;34m1,280,000\u001b[0m │ input_layer_3[\u001b[38;5;34m0\u001b[0m][\u001b[38;5;34m0\u001b[0m]    │\n",
              "├───────────────────────────┼────────────────────────┼────────────────┼────────────────────────┤\n",
              "│ simple_rnn_1 (\u001b[38;5;33mSimpleRNN\u001b[0m)  │ (\u001b[38;5;45mNone\u001b[0m, \u001b[38;5;34m50\u001b[0m, \u001b[38;5;34m64\u001b[0m)         │         \u001b[38;5;34m12,352\u001b[0m │ embedding_3[\u001b[38;5;34m0\u001b[0m][\u001b[38;5;34m0\u001b[0m]      │\n",
              "├───────────────────────────┼────────────────────────┼────────────────┼────────────────────────┤\n",
              "│ dense_3 (\u001b[38;5;33mDense\u001b[0m)           │ (\u001b[38;5;45mNone\u001b[0m, \u001b[38;5;34m50\u001b[0m, \u001b[38;5;34m64\u001b[0m)         │          \u001b[38;5;34m4,160\u001b[0m │ simple_rnn_1[\u001b[38;5;34m0\u001b[0m][\u001b[38;5;34m0\u001b[0m]     │\n",
              "├───────────────────────────┼────────────────────────┼────────────────┼────────────────────────┤\n",
              "│ attention (\u001b[38;5;33mAttention\u001b[0m)     │ (\u001b[38;5;45mNone\u001b[0m, \u001b[38;5;34m50\u001b[0m, \u001b[38;5;34m64\u001b[0m)         │              \u001b[38;5;34m0\u001b[0m │ dense_3[\u001b[38;5;34m0\u001b[0m][\u001b[38;5;34m0\u001b[0m],         │\n",
              "│                           │                        │                │ simple_rnn_1[\u001b[38;5;34m0\u001b[0m][\u001b[38;5;34m0\u001b[0m]     │\n",
              "├───────────────────────────┼────────────────────────┼────────────────┼────────────────────────┤\n",
              "│ global_average_pooling1d  │ (\u001b[38;5;45mNone\u001b[0m, \u001b[38;5;34m64\u001b[0m)             │              \u001b[38;5;34m0\u001b[0m │ attention[\u001b[38;5;34m0\u001b[0m][\u001b[38;5;34m0\u001b[0m]        │\n",
              "│ (\u001b[38;5;33mGlobalAveragePooling1D\u001b[0m)  │                        │                │                        │\n",
              "├───────────────────────────┼────────────────────────┼────────────────┼────────────────────────┤\n",
              "│ dense_4 (\u001b[38;5;33mDense\u001b[0m)           │ (\u001b[38;5;45mNone\u001b[0m, \u001b[38;5;34m3\u001b[0m)              │            \u001b[38;5;34m195\u001b[0m │ global_average_poolin… │\n",
              "└───────────────────────────┴────────────────────────┴────────────────┴────────────────────────┘\n"
            ]
          },
          "metadata": {},
          "output_type": "display_data"
        },
        {
          "data": {
            "text/html": [
              "<pre style=\"white-space:pre;overflow-x:auto;line-height:normal;font-family:Menlo,'DejaVu Sans Mono',consolas,'Courier New',monospace\"><span style=\"font-weight: bold\"> Total params: </span><span style=\"color: #00af00; text-decoration-color: #00af00\">1,296,707</span> (4.95 MB)\n",
              "</pre>\n"
            ],
            "text/plain": [
              "\u001b[1m Total params: \u001b[0m\u001b[38;5;34m1,296,707\u001b[0m (4.95 MB)\n"
            ]
          },
          "metadata": {},
          "output_type": "display_data"
        },
        {
          "data": {
            "text/html": [
              "<pre style=\"white-space:pre;overflow-x:auto;line-height:normal;font-family:Menlo,'DejaVu Sans Mono',consolas,'Courier New',monospace\"><span style=\"font-weight: bold\"> Trainable params: </span><span style=\"color: #00af00; text-decoration-color: #00af00\">1,296,707</span> (4.95 MB)\n",
              "</pre>\n"
            ],
            "text/plain": [
              "\u001b[1m Trainable params: \u001b[0m\u001b[38;5;34m1,296,707\u001b[0m (4.95 MB)\n"
            ]
          },
          "metadata": {},
          "output_type": "display_data"
        },
        {
          "data": {
            "text/html": [
              "<pre style=\"white-space:pre;overflow-x:auto;line-height:normal;font-family:Menlo,'DejaVu Sans Mono',consolas,'Courier New',monospace\"><span style=\"font-weight: bold\"> Non-trainable params: </span><span style=\"color: #00af00; text-decoration-color: #00af00\">0</span> (0.00 B)\n",
              "</pre>\n"
            ],
            "text/plain": [
              "\u001b[1m Non-trainable params: \u001b[0m\u001b[38;5;34m0\u001b[0m (0.00 B)\n"
            ]
          },
          "metadata": {},
          "output_type": "display_data"
        }
      ],
      "source": [
        "\n",
        "# Définition des entrées\n",
        "inputs = Input(shape=(50,))  # 50 = MAX_SEQUENCE_LENGTH\n",
        "\n",
        "# Embedding\n",
        "embedding = Embedding(10000, 128, input_length=50)(inputs)\n",
        "\n",
        "# RNN\n",
        "rnn_output = SimpleRNN(64, return_sequences=True)(embedding)\n",
        "\n",
        "# Ajout du Mécanisme d'Attention\n",
        "query = Dense(64)(rnn_output)  # Transformation en Query\n",
        "attention = Attention()([query, rnn_output])  # Application de l'attention\n",
        "\n",
        "# Global Average Pooling pour condenser l'information\n",
        "context_vector = GlobalAveragePooling1D()(attention)\n",
        "\n",
        "# Couche de classification (déjà présente)\n",
        "output = Dense(3, activation=\"softmax\")(context_vector)\n",
        "\n",
        "# Définition du modèle final\n",
        "model_rnn_attention = Model(inputs, output)\n",
        "\n",
        "# Compilation du modèle\n",
        "model_rnn_attention.compile(loss=\"categorical_crossentropy\", optimizer=\"adam\", metrics=[\"accuracy\"])\n",
        "\n",
        "# Affichage du résumé du modèle\n",
        "model_rnn_attention.summary()\n"
      ]
    },
    {
      "cell_type": "code",
      "execution_count": null,
      "metadata": {
        "colab": {
          "base_uri": "https://localhost:8080/"
        },
        "id": "1p9QI_OqnAvf",
        "outputId": "ffca9292-5f10-48dc-edc5-525b53ca4569"
      },
      "outputs": [
        {
          "name": "stdout",
          "output_type": "stream",
          "text": [
            "\n",
            "🔹 Entraînement du modèle RNN avec la couche d'attention ..........\n",
            "Epoch 1/10\n",
            "\u001b[1m25/25\u001b[0m \u001b[32m━━━━━━━━━━━━━━━━━━━━\u001b[0m\u001b[37m\u001b[0m \u001b[1m4s\u001b[0m 21ms/step - accuracy: 0.7732 - loss: 0.5569\n",
            "Epoch 2/10\n",
            "\u001b[1m25/25\u001b[0m \u001b[32m━━━━━━━━━━━━━━━━━━━━\u001b[0m\u001b[37m\u001b[0m \u001b[1m1s\u001b[0m 19ms/step - accuracy: 0.8872 - loss: 0.4167\n",
            "Epoch 3/10\n",
            "\u001b[1m25/25\u001b[0m \u001b[32m━━━━━━━━━━━━━━━━━━━━\u001b[0m\u001b[37m\u001b[0m \u001b[1m0s\u001b[0m 19ms/step - accuracy: 0.8837 - loss: 0.4212\n",
            "Epoch 4/10\n",
            "\u001b[1m25/25\u001b[0m \u001b[32m━━━━━━━━━━━━━━━━━━━━\u001b[0m\u001b[37m\u001b[0m \u001b[1m1s\u001b[0m 20ms/step - accuracy: 0.8955 - loss: 0.3830\n",
            "Epoch 5/10\n",
            "\u001b[1m25/25\u001b[0m \u001b[32m━━━━━━━━━━━━━━━━━━━━\u001b[0m\u001b[37m\u001b[0m \u001b[1m0s\u001b[0m 19ms/step - accuracy: 0.9063 - loss: 0.3442\n",
            "Epoch 6/10\n",
            "\u001b[1m25/25\u001b[0m \u001b[32m━━━━━━━━━━━━━━━━━━━━\u001b[0m\u001b[37m\u001b[0m \u001b[1m0s\u001b[0m 19ms/step - accuracy: 0.9270 - loss: 0.2436\n",
            "Epoch 7/10\n",
            "\u001b[1m25/25\u001b[0m \u001b[32m━━━━━━━━━━━━━━━━━━━━\u001b[0m\u001b[37m\u001b[0m \u001b[1m1s\u001b[0m 20ms/step - accuracy: 0.9151 - loss: 0.2666\n",
            "Epoch 8/10\n",
            "\u001b[1m25/25\u001b[0m \u001b[32m━━━━━━━━━━━━━━━━━━━━\u001b[0m\u001b[37m\u001b[0m \u001b[1m1s\u001b[0m 20ms/step - accuracy: 0.9214 - loss: 0.2257\n",
            "Epoch 9/10\n",
            "\u001b[1m25/25\u001b[0m \u001b[32m━━━━━━━━━━━━━━━━━━━━\u001b[0m\u001b[37m\u001b[0m \u001b[1m1s\u001b[0m 20ms/step - accuracy: 0.9404 - loss: 0.1806\n",
            "Epoch 10/10\n",
            "\u001b[1m25/25\u001b[0m \u001b[32m━━━━━━━━━━━━━━━━━━━━\u001b[0m\u001b[37m\u001b[0m \u001b[1m1s\u001b[0m 20ms/step - accuracy: 0.9465 - loss: 0.1717\n"
          ]
        },
        {
          "data": {
            "text/plain": [
              "<keras.src.callbacks.history.History at 0x7d22e54cedd0>"
            ]
          },
          "execution_count": 55,
          "metadata": {},
          "output_type": "execute_result"
        }
      ],
      "source": [
        "print(f\"\\n🔹 Entraînement du modèle RNN avec la couche d'attention ..........\")\n",
        "model_rnn_attention.fit(X_train_padded, y_train_onehot, epochs=10, batch_size=32)\n"
      ]
    },
    {
      "cell_type": "code",
      "execution_count": null,
      "metadata": {
        "colab": {
          "base_uri": "https://localhost:8080/"
        },
        "id": "_9vLnqP7nAvg",
        "outputId": "f43f7320-f3b3-4c5f-975a-cfa85ff61e54"
      },
      "outputs": [
        {
          "name": "stdout",
          "output_type": "stream",
          "text": [
            "\u001b[1m7/7\u001b[0m \u001b[32m━━━━━━━━━━━━━━━━━━━━\u001b[0m\u001b[37m\u001b[0m \u001b[1m0s\u001b[0m 8ms/step - accuracy: 0.8626 - loss: 0.5405  \n",
            "Test Accuracy: 86.50%\n"
          ]
        }
      ],
      "source": [
        "loss, accuracy = model_rnn_attention.evaluate(X_test_padded, y_test_onehot)\n",
        "print(f\" Test Accuracy: {accuracy * 100:.2f}%\")\n"
      ]
    },
    {
      "cell_type": "code",
      "execution_count": null,
      "metadata": {
        "colab": {
          "base_uri": "https://localhost:8080/"
        },
        "id": "7rNU2fpPnAvh",
        "outputId": "ca79a11c-260c-4b76-e42c-5604f9a87539"
      },
      "outputs": [
        {
          "name": "stderr",
          "output_type": "stream",
          "text": [
            "WARNING:tensorflow:5 out of the last 15 calls to <function TensorFlowTrainer.make_predict_function.<locals>.one_step_on_data_distributed at 0x7d22e5bfbd80> triggered tf.function retracing. Tracing is expensive and the excessive number of tracings could be due to (1) creating @tf.function repeatedly in a loop, (2) passing tensors with different shapes, (3) passing Python objects instead of tensors. For (1), please define your @tf.function outside of the loop. For (2), @tf.function has reduce_retracing=True option that can avoid unnecessary retracing. For (3), please refer to https://www.tensorflow.org/guide/function#controlling_retracing and https://www.tensorflow.org/api_docs/python/tf/function for  more details.\n"
          ]
        },
        {
          "name": "stdout",
          "output_type": "stream",
          "text": [
            "\u001b[1m7/7\u001b[0m \u001b[32m━━━━━━━━━━━━━━━━━━━━\u001b[0m\u001b[37m\u001b[0m \u001b[1m0s\u001b[0m 29ms/step\n"
          ]
        }
      ],
      "source": [
        "predictions = model_rnn_attention.predict(X_test_padded)\n",
        "predicted_labels = predictions.argmax(axis=1)\n",
        "true_labels = y_test_onehot.argmax(axis=1)"
      ]
    },
    {
      "cell_type": "code",
      "execution_count": null,
      "metadata": {
        "colab": {
          "base_uri": "https://localhost:8080/"
        },
        "id": "dKmhQ-74nAvi",
        "outputId": "b3bbd07b-d09c-457a-bdc0-b32651752271"
      },
      "outputs": [
        {
          "name": "stderr",
          "output_type": "stream",
          "text": [
            "/usr/local/lib/python3.11/dist-packages/sklearn/metrics/_classification.py:1565: UndefinedMetricWarning: Precision is ill-defined and being set to 0.0 in labels with no predicted samples. Use `zero_division` parameter to control this behavior.\n",
            "  _warn_prf(average, modifier, f\"{metric.capitalize()} is\", len(result))\n",
            "/usr/local/lib/python3.11/dist-packages/sklearn/metrics/_classification.py:1565: UndefinedMetricWarning: Precision is ill-defined and being set to 0.0 in labels with no predicted samples. Use `zero_division` parameter to control this behavior.\n",
            "  _warn_prf(average, modifier, f\"{metric.capitalize()} is\", len(result))\n",
            "/usr/local/lib/python3.11/dist-packages/sklearn/metrics/_classification.py:1565: UndefinedMetricWarning: Precision is ill-defined and being set to 0.0 in labels with no predicted samples. Use `zero_division` parameter to control this behavior.\n",
            "  _warn_prf(average, modifier, f\"{metric.capitalize()} is\", len(result))\n"
          ]
        },
        {
          "name": "stdout",
          "output_type": "stream",
          "text": [
            "              precision    recall  f1-score   support\n",
            "\n",
            "           0       0.22      0.12      0.16        16\n",
            "           1       0.00      0.00      0.00         8\n",
            "           2       0.90      0.97      0.93       176\n",
            "\n",
            "    accuracy                           0.86       200\n",
            "   macro avg       0.37      0.37      0.36       200\n",
            "weighted avg       0.81      0.86      0.83       200\n",
            "\n"
          ]
        }
      ],
      "source": [
        "\n",
        "print(classification_report(true_labels, predicted_labels))\n"
      ]
    },
    {
      "cell_type": "markdown",
      "metadata": {
        "id": "YlNIhmMjnAvi"
      },
      "source": [
        "## LSTM avec mechanisme d'attention"
      ]
    },
    {
      "cell_type": "code",
      "execution_count": null,
      "metadata": {
        "colab": {
          "base_uri": "https://localhost:8080/",
          "height": 497
        },
        "id": "djYlSCiWnAvi",
        "outputId": "d5fd4ac1-76a1-4075-ef29-079ed69c3739"
      },
      "outputs": [
        {
          "name": "stderr",
          "output_type": "stream",
          "text": [
            "/usr/local/lib/python3.11/dist-packages/keras/src/layers/core/embedding.py:90: UserWarning: Argument `input_length` is deprecated. Just remove it.\n",
            "  warnings.warn(\n"
          ]
        },
        {
          "data": {
            "text/html": [
              "<pre style=\"white-space:pre;overflow-x:auto;line-height:normal;font-family:Menlo,'DejaVu Sans Mono',consolas,'Courier New',monospace\"><span style=\"font-weight: bold\">Model: \"functional_4\"</span>\n",
              "</pre>\n"
            ],
            "text/plain": [
              "\u001b[1mModel: \"functional_4\"\u001b[0m\n"
            ]
          },
          "metadata": {},
          "output_type": "display_data"
        },
        {
          "data": {
            "text/html": [
              "<pre style=\"white-space:pre;overflow-x:auto;line-height:normal;font-family:Menlo,'DejaVu Sans Mono',consolas,'Courier New',monospace\">┏━━━━━━━━━━━━━━━━━━━━━━━━━━━┳━━━━━━━━━━━━━━━━━━━━━━━━┳━━━━━━━━━━━━━━━━┳━━━━━━━━━━━━━━━━━━━━━━━━┓\n",
              "┃<span style=\"font-weight: bold\"> Layer (type)              </span>┃<span style=\"font-weight: bold\"> Output Shape           </span>┃<span style=\"font-weight: bold\">        Param # </span>┃<span style=\"font-weight: bold\"> Connected to           </span>┃\n",
              "┡━━━━━━━━━━━━━━━━━━━━━━━━━━━╇━━━━━━━━━━━━━━━━━━━━━━━━╇━━━━━━━━━━━━━━━━╇━━━━━━━━━━━━━━━━━━━━━━━━┩\n",
              "│ input_layer_4             │ (<span style=\"color: #00d7ff; text-decoration-color: #00d7ff\">None</span>, <span style=\"color: #00af00; text-decoration-color: #00af00\">50</span>)             │              <span style=\"color: #00af00; text-decoration-color: #00af00\">0</span> │ -                      │\n",
              "│ (<span style=\"color: #0087ff; text-decoration-color: #0087ff\">InputLayer</span>)              │                        │                │                        │\n",
              "├───────────────────────────┼────────────────────────┼────────────────┼────────────────────────┤\n",
              "│ embedding_4 (<span style=\"color: #0087ff; text-decoration-color: #0087ff\">Embedding</span>)   │ (<span style=\"color: #00d7ff; text-decoration-color: #00d7ff\">None</span>, <span style=\"color: #00af00; text-decoration-color: #00af00\">50</span>, <span style=\"color: #00af00; text-decoration-color: #00af00\">128</span>)        │      <span style=\"color: #00af00; text-decoration-color: #00af00\">1,280,000</span> │ input_layer_4[<span style=\"color: #00af00; text-decoration-color: #00af00\">0</span>][<span style=\"color: #00af00; text-decoration-color: #00af00\">0</span>]    │\n",
              "├───────────────────────────┼────────────────────────┼────────────────┼────────────────────────┤\n",
              "│ lstm_1 (<span style=\"color: #0087ff; text-decoration-color: #0087ff\">LSTM</span>)             │ (<span style=\"color: #00d7ff; text-decoration-color: #00d7ff\">None</span>, <span style=\"color: #00af00; text-decoration-color: #00af00\">50</span>, <span style=\"color: #00af00; text-decoration-color: #00af00\">64</span>)         │         <span style=\"color: #00af00; text-decoration-color: #00af00\">49,408</span> │ embedding_4[<span style=\"color: #00af00; text-decoration-color: #00af00\">0</span>][<span style=\"color: #00af00; text-decoration-color: #00af00\">0</span>]      │\n",
              "├───────────────────────────┼────────────────────────┼────────────────┼────────────────────────┤\n",
              "│ dense_5 (<span style=\"color: #0087ff; text-decoration-color: #0087ff\">Dense</span>)           │ (<span style=\"color: #00d7ff; text-decoration-color: #00d7ff\">None</span>, <span style=\"color: #00af00; text-decoration-color: #00af00\">50</span>, <span style=\"color: #00af00; text-decoration-color: #00af00\">64</span>)         │          <span style=\"color: #00af00; text-decoration-color: #00af00\">4,160</span> │ lstm_1[<span style=\"color: #00af00; text-decoration-color: #00af00\">0</span>][<span style=\"color: #00af00; text-decoration-color: #00af00\">0</span>]           │\n",
              "├───────────────────────────┼────────────────────────┼────────────────┼────────────────────────┤\n",
              "│ attention_1 (<span style=\"color: #0087ff; text-decoration-color: #0087ff\">Attention</span>)   │ (<span style=\"color: #00d7ff; text-decoration-color: #00d7ff\">None</span>, <span style=\"color: #00af00; text-decoration-color: #00af00\">50</span>, <span style=\"color: #00af00; text-decoration-color: #00af00\">64</span>)         │              <span style=\"color: #00af00; text-decoration-color: #00af00\">0</span> │ dense_5[<span style=\"color: #00af00; text-decoration-color: #00af00\">0</span>][<span style=\"color: #00af00; text-decoration-color: #00af00\">0</span>],         │\n",
              "│                           │                        │                │ lstm_1[<span style=\"color: #00af00; text-decoration-color: #00af00\">0</span>][<span style=\"color: #00af00; text-decoration-color: #00af00\">0</span>]           │\n",
              "├───────────────────────────┼────────────────────────┼────────────────┼────────────────────────┤\n",
              "│ global_average_pooling1d… │ (<span style=\"color: #00d7ff; text-decoration-color: #00d7ff\">None</span>, <span style=\"color: #00af00; text-decoration-color: #00af00\">64</span>)             │              <span style=\"color: #00af00; text-decoration-color: #00af00\">0</span> │ attention_1[<span style=\"color: #00af00; text-decoration-color: #00af00\">0</span>][<span style=\"color: #00af00; text-decoration-color: #00af00\">0</span>]      │\n",
              "│ (<span style=\"color: #0087ff; text-decoration-color: #0087ff\">GlobalAveragePooling1D</span>)  │                        │                │                        │\n",
              "├───────────────────────────┼────────────────────────┼────────────────┼────────────────────────┤\n",
              "│ dense_6 (<span style=\"color: #0087ff; text-decoration-color: #0087ff\">Dense</span>)           │ (<span style=\"color: #00d7ff; text-decoration-color: #00d7ff\">None</span>, <span style=\"color: #00af00; text-decoration-color: #00af00\">3</span>)              │            <span style=\"color: #00af00; text-decoration-color: #00af00\">195</span> │ global_average_poolin… │\n",
              "└───────────────────────────┴────────────────────────┴────────────────┴────────────────────────┘\n",
              "</pre>\n"
            ],
            "text/plain": [
              "┏━━━━━━━━━━━━━━━━━━━━━━━━━━━┳━━━━━━━━━━━━━━━━━━━━━━━━┳━━━━━━━━━━━━━━━━┳━━━━━━━━━━━━━━━━━━━━━━━━┓\n",
              "┃\u001b[1m \u001b[0m\u001b[1mLayer (type)             \u001b[0m\u001b[1m \u001b[0m┃\u001b[1m \u001b[0m\u001b[1mOutput Shape          \u001b[0m\u001b[1m \u001b[0m┃\u001b[1m \u001b[0m\u001b[1m       Param #\u001b[0m\u001b[1m \u001b[0m┃\u001b[1m \u001b[0m\u001b[1mConnected to          \u001b[0m\u001b[1m \u001b[0m┃\n",
              "┡━━━━━━━━━━━━━━━━━━━━━━━━━━━╇━━━━━━━━━━━━━━━━━━━━━━━━╇━━━━━━━━━━━━━━━━╇━━━━━━━━━━━━━━━━━━━━━━━━┩\n",
              "│ input_layer_4             │ (\u001b[38;5;45mNone\u001b[0m, \u001b[38;5;34m50\u001b[0m)             │              \u001b[38;5;34m0\u001b[0m │ -                      │\n",
              "│ (\u001b[38;5;33mInputLayer\u001b[0m)              │                        │                │                        │\n",
              "├───────────────────────────┼────────────────────────┼────────────────┼────────────────────────┤\n",
              "│ embedding_4 (\u001b[38;5;33mEmbedding\u001b[0m)   │ (\u001b[38;5;45mNone\u001b[0m, \u001b[38;5;34m50\u001b[0m, \u001b[38;5;34m128\u001b[0m)        │      \u001b[38;5;34m1,280,000\u001b[0m │ input_layer_4[\u001b[38;5;34m0\u001b[0m][\u001b[38;5;34m0\u001b[0m]    │\n",
              "├───────────────────────────┼────────────────────────┼────────────────┼────────────────────────┤\n",
              "│ lstm_1 (\u001b[38;5;33mLSTM\u001b[0m)             │ (\u001b[38;5;45mNone\u001b[0m, \u001b[38;5;34m50\u001b[0m, \u001b[38;5;34m64\u001b[0m)         │         \u001b[38;5;34m49,408\u001b[0m │ embedding_4[\u001b[38;5;34m0\u001b[0m][\u001b[38;5;34m0\u001b[0m]      │\n",
              "├───────────────────────────┼────────────────────────┼────────────────┼────────────────────────┤\n",
              "│ dense_5 (\u001b[38;5;33mDense\u001b[0m)           │ (\u001b[38;5;45mNone\u001b[0m, \u001b[38;5;34m50\u001b[0m, \u001b[38;5;34m64\u001b[0m)         │          \u001b[38;5;34m4,160\u001b[0m │ lstm_1[\u001b[38;5;34m0\u001b[0m][\u001b[38;5;34m0\u001b[0m]           │\n",
              "├───────────────────────────┼────────────────────────┼────────────────┼────────────────────────┤\n",
              "│ attention_1 (\u001b[38;5;33mAttention\u001b[0m)   │ (\u001b[38;5;45mNone\u001b[0m, \u001b[38;5;34m50\u001b[0m, \u001b[38;5;34m64\u001b[0m)         │              \u001b[38;5;34m0\u001b[0m │ dense_5[\u001b[38;5;34m0\u001b[0m][\u001b[38;5;34m0\u001b[0m],         │\n",
              "│                           │                        │                │ lstm_1[\u001b[38;5;34m0\u001b[0m][\u001b[38;5;34m0\u001b[0m]           │\n",
              "├───────────────────────────┼────────────────────────┼────────────────┼────────────────────────┤\n",
              "│ global_average_pooling1d… │ (\u001b[38;5;45mNone\u001b[0m, \u001b[38;5;34m64\u001b[0m)             │              \u001b[38;5;34m0\u001b[0m │ attention_1[\u001b[38;5;34m0\u001b[0m][\u001b[38;5;34m0\u001b[0m]      │\n",
              "│ (\u001b[38;5;33mGlobalAveragePooling1D\u001b[0m)  │                        │                │                        │\n",
              "├───────────────────────────┼────────────────────────┼────────────────┼────────────────────────┤\n",
              "│ dense_6 (\u001b[38;5;33mDense\u001b[0m)           │ (\u001b[38;5;45mNone\u001b[0m, \u001b[38;5;34m3\u001b[0m)              │            \u001b[38;5;34m195\u001b[0m │ global_average_poolin… │\n",
              "└───────────────────────────┴────────────────────────┴────────────────┴────────────────────────┘\n"
            ]
          },
          "metadata": {},
          "output_type": "display_data"
        },
        {
          "data": {
            "text/html": [
              "<pre style=\"white-space:pre;overflow-x:auto;line-height:normal;font-family:Menlo,'DejaVu Sans Mono',consolas,'Courier New',monospace\"><span style=\"font-weight: bold\"> Total params: </span><span style=\"color: #00af00; text-decoration-color: #00af00\">1,333,763</span> (5.09 MB)\n",
              "</pre>\n"
            ],
            "text/plain": [
              "\u001b[1m Total params: \u001b[0m\u001b[38;5;34m1,333,763\u001b[0m (5.09 MB)\n"
            ]
          },
          "metadata": {},
          "output_type": "display_data"
        },
        {
          "data": {
            "text/html": [
              "<pre style=\"white-space:pre;overflow-x:auto;line-height:normal;font-family:Menlo,'DejaVu Sans Mono',consolas,'Courier New',monospace\"><span style=\"font-weight: bold\"> Trainable params: </span><span style=\"color: #00af00; text-decoration-color: #00af00\">1,333,763</span> (5.09 MB)\n",
              "</pre>\n"
            ],
            "text/plain": [
              "\u001b[1m Trainable params: \u001b[0m\u001b[38;5;34m1,333,763\u001b[0m (5.09 MB)\n"
            ]
          },
          "metadata": {},
          "output_type": "display_data"
        },
        {
          "data": {
            "text/html": [
              "<pre style=\"white-space:pre;overflow-x:auto;line-height:normal;font-family:Menlo,'DejaVu Sans Mono',consolas,'Courier New',monospace\"><span style=\"font-weight: bold\"> Non-trainable params: </span><span style=\"color: #00af00; text-decoration-color: #00af00\">0</span> (0.00 B)\n",
              "</pre>\n"
            ],
            "text/plain": [
              "\u001b[1m Non-trainable params: \u001b[0m\u001b[38;5;34m0\u001b[0m (0.00 B)\n"
            ]
          },
          "metadata": {},
          "output_type": "display_data"
        }
      ],
      "source": [
        "\n",
        "# Définition des entrées\n",
        "inputs = Input(shape=(50,))  # 50 = MAX_SEQUENCE_LENGTH\n",
        "\n",
        "# Embedding\n",
        "embedding = Embedding(10000, 128, input_length=50)(inputs)\n",
        "\n",
        "# LSTM\n",
        "lstm_output = LSTM(64, return_sequences=True)(embedding)\n",
        "\n",
        "# Ajout du Mécanisme d'Attention\n",
        "query = Dense(64)(lstm_output)  # Transformation en Query\n",
        "attention = Attention()([query, lstm_output])  # Application de l'attention\n",
        "\n",
        "# Global Average Pooling pour condenser l'information\n",
        "context_vector = GlobalAveragePooling1D()(attention)\n",
        "\n",
        "# Couche de classification (déjà présente)\n",
        "output = Dense(3, activation=\"softmax\")(context_vector)\n",
        "\n",
        "# Définition du modèle final\n",
        "model_lstm_attention = Model(inputs, output)\n",
        "\n",
        "# Compilation du modèle\n",
        "model_lstm_attention.compile(loss=\"categorical_crossentropy\", optimizer=\"adam\", metrics=[\"accuracy\"])\n",
        "\n",
        "# Affichage du résumé du modèle\n",
        "\n",
        "model_lstm_attention.summary()"
      ]
    },
    {
      "cell_type": "code",
      "execution_count": null,
      "metadata": {
        "colab": {
          "base_uri": "https://localhost:8080/"
        },
        "id": "l7q2sEjwnAvj",
        "outputId": "87f2fb75-ba80-43b5-f8a8-75852fab2062"
      },
      "outputs": [
        {
          "name": "stdout",
          "output_type": "stream",
          "text": [
            "\n",
            "🔹 Entraînement du modèle LSTM avec la couche d'attention ..........\n",
            "Epoch 1/10\n",
            "\u001b[1m25/25\u001b[0m \u001b[32m━━━━━━━━━━━━━━━━━━━━\u001b[0m\u001b[37m\u001b[0m \u001b[1m3s\u001b[0m 49ms/step - accuracy: 0.7766 - loss: 0.6448 - val_accuracy: 0.8800 - val_loss: 0.4344\n",
            "Epoch 2/10\n",
            "\u001b[1m25/25\u001b[0m \u001b[32m━━━━━━━━━━━━━━━━━━━━\u001b[0m\u001b[37m\u001b[0m \u001b[1m2s\u001b[0m 38ms/step - accuracy: 0.8773 - loss: 0.4248 - val_accuracy: 0.8800 - val_loss: 0.4308\n",
            "Epoch 3/10\n",
            "\u001b[1m25/25\u001b[0m \u001b[32m━━━━━━━━━━━━━━━━━━━━\u001b[0m\u001b[37m\u001b[0m \u001b[1m2s\u001b[0m 60ms/step - accuracy: 0.8797 - loss: 0.4194 - val_accuracy: 0.8800 - val_loss: 0.4258\n",
            "Epoch 4/10\n",
            "\u001b[1m25/25\u001b[0m \u001b[32m━━━━━━━━━━━━━━━━━━━━\u001b[0m\u001b[37m\u001b[0m \u001b[1m1s\u001b[0m 36ms/step - accuracy: 0.8742 - loss: 0.3936 - val_accuracy: 0.8750 - val_loss: 0.4229\n",
            "Epoch 5/10\n",
            "\u001b[1m25/25\u001b[0m \u001b[32m━━━━━━━━━━━━━━━━━━━━\u001b[0m\u001b[37m\u001b[0m \u001b[1m1s\u001b[0m 35ms/step - accuracy: 0.9032 - loss: 0.3147 - val_accuracy: 0.8750 - val_loss: 0.4528\n",
            "Epoch 6/10\n",
            "\u001b[1m25/25\u001b[0m \u001b[32m━━━━━━━━━━━━━━━━━━━━\u001b[0m\u001b[37m\u001b[0m \u001b[1m1s\u001b[0m 44ms/step - accuracy: 0.9184 - loss: 0.2582 - val_accuracy: 0.8800 - val_loss: 0.4363\n",
            "Epoch 7/10\n",
            "\u001b[1m25/25\u001b[0m \u001b[32m━━━━━━━━━━━━━━━━━━━━\u001b[0m\u001b[37m\u001b[0m \u001b[1m1s\u001b[0m 36ms/step - accuracy: 0.9331 - loss: 0.1884 - val_accuracy: 0.8750 - val_loss: 0.4578\n",
            "Epoch 8/10\n",
            "\u001b[1m25/25\u001b[0m \u001b[32m━━━━━━━━━━━━━━━━━━━━\u001b[0m\u001b[37m\u001b[0m \u001b[1m1s\u001b[0m 39ms/step - accuracy: 0.9446 - loss: 0.1918 - val_accuracy: 0.8700 - val_loss: 0.4778\n",
            "Epoch 9/10\n",
            "\u001b[1m25/25\u001b[0m \u001b[32m━━━━━━━━━━━━━━━━━━━━\u001b[0m\u001b[37m\u001b[0m \u001b[1m1s\u001b[0m 39ms/step - accuracy: 0.9490 - loss: 0.1730 - val_accuracy: 0.8650 - val_loss: 0.5189\n",
            "Epoch 10/10\n",
            "\u001b[1m25/25\u001b[0m \u001b[32m━━━━━━━━━━━━━━━━━━━━\u001b[0m\u001b[37m\u001b[0m \u001b[1m1s\u001b[0m 35ms/step - accuracy: 0.9509 - loss: 0.1541 - val_accuracy: 0.8650 - val_loss: 0.4737\n"
          ]
        }
      ],
      "source": [
        "print(f\"\\n🔹 Entraînement du modèle LSTM avec la couche d'attention ..........\")\n",
        "history = model_lstm_attention.fit(\n",
        "    X_train_padded, y_train_onehot, batch_size=32, epochs=10\n",
        ")"
      ]
    },
    {
      "cell_type": "code",
      "execution_count": null,
      "metadata": {
        "colab": {
          "base_uri": "https://localhost:8080/"
        },
        "id": "1xJ45spSnAvk",
        "outputId": "200d9c6e-d4cb-44df-95e8-d8694b1fb45e"
      },
      "outputs": [
        {
          "name": "stdout",
          "output_type": "stream",
          "text": [
            "\u001b[1m7/7\u001b[0m \u001b[32m━━━━━━━━━━━━━━━━━━━━\u001b[0m\u001b[37m\u001b[0m \u001b[1m0s\u001b[0m 11ms/step - accuracy: 0.8604 - loss: 0.4905\n",
            "Test Accuracy: 86.50%\n"
          ]
        }
      ],
      "source": [
        "#evaluation de modele\n",
        "loss, accuracy = model_lstm_attention.evaluate(X_test_padded, y_test_onehot)\n",
        "print(f\"Test Accuracy: {accuracy * 100:.2f}%\")\n"
      ]
    },
    {
      "cell_type": "code",
      "execution_count": null,
      "metadata": {
        "colab": {
          "base_uri": "https://localhost:8080/"
        },
        "id": "l8Mavu1onAvk",
        "outputId": "e398aa2c-cee5-4be0-f5ae-cde41680252a"
      },
      "outputs": [
        {
          "name": "stdout",
          "output_type": "stream",
          "text": [
            "\u001b[1m7/7\u001b[0m \u001b[32m━━━━━━━━━━━━━━━━━━━━\u001b[0m\u001b[37m\u001b[0m \u001b[1m0s\u001b[0m 32ms/step\n"
          ]
        }
      ],
      "source": [
        "#faire les prédictions\n",
        "predictions = model_lstm_attention.predict(X_test_padded)\n",
        "predicted_labels = predictions.argmax(axis=1)  # Convert softmax probabilities to class labels"
      ]
    },
    {
      "cell_type": "code",
      "execution_count": null,
      "metadata": {
        "colab": {
          "base_uri": "https://localhost:8080/"
        },
        "id": "rWxMWF7dnAvl",
        "outputId": "1a37ea36-06cd-45b5-84da-8dc861244ad0"
      },
      "outputs": [
        {
          "name": "stdout",
          "output_type": "stream",
          "text": [
            "              precision    recall  f1-score   support\n",
            "\n",
            "           0       0.14      0.06      0.09        16\n",
            "           1       0.00      0.00      0.00         8\n",
            "           2       0.89      0.98      0.93       176\n",
            "\n",
            "    accuracy                           0.86       200\n",
            "   macro avg       0.34      0.35      0.34       200\n",
            "weighted avg       0.80      0.86      0.83       200\n",
            "\n"
          ]
        },
        {
          "name": "stderr",
          "output_type": "stream",
          "text": [
            "/usr/local/lib/python3.11/dist-packages/sklearn/metrics/_classification.py:1565: UndefinedMetricWarning: Precision is ill-defined and being set to 0.0 in labels with no predicted samples. Use `zero_division` parameter to control this behavior.\n",
            "  _warn_prf(average, modifier, f\"{metric.capitalize()} is\", len(result))\n",
            "/usr/local/lib/python3.11/dist-packages/sklearn/metrics/_classification.py:1565: UndefinedMetricWarning: Precision is ill-defined and being set to 0.0 in labels with no predicted samples. Use `zero_division` parameter to control this behavior.\n",
            "  _warn_prf(average, modifier, f\"{metric.capitalize()} is\", len(result))\n",
            "/usr/local/lib/python3.11/dist-packages/sklearn/metrics/_classification.py:1565: UndefinedMetricWarning: Precision is ill-defined and being set to 0.0 in labels with no predicted samples. Use `zero_division` parameter to control this behavior.\n",
            "  _warn_prf(average, modifier, f\"{metric.capitalize()} is\", len(result))\n"
          ]
        }
      ],
      "source": [
        "print(classification_report(y_test_onehot.argmax(axis=1), predicted_labels))\n"
      ]
    },
    {
      "cell_type": "markdown",
      "metadata": {
        "id": "a4MCyp24nAvl"
      },
      "source": [
        "## GRU avec mechanisme d'attention"
      ]
    },
    {
      "cell_type": "code",
      "execution_count": null,
      "metadata": {
        "colab": {
          "base_uri": "https://localhost:8080/",
          "height": 497
        },
        "id": "KlJXzCianAvm",
        "outputId": "a51de18e-0566-42b7-de8b-d0d3c3623213"
      },
      "outputs": [
        {
          "name": "stderr",
          "output_type": "stream",
          "text": [
            "/usr/local/lib/python3.11/dist-packages/keras/src/layers/core/embedding.py:90: UserWarning: Argument `input_length` is deprecated. Just remove it.\n",
            "  warnings.warn(\n"
          ]
        },
        {
          "data": {
            "text/html": [
              "<pre style=\"white-space:pre;overflow-x:auto;line-height:normal;font-family:Menlo,'DejaVu Sans Mono',consolas,'Courier New',monospace\"><span style=\"font-weight: bold\">Model: \"functional_5\"</span>\n",
              "</pre>\n"
            ],
            "text/plain": [
              "\u001b[1mModel: \"functional_5\"\u001b[0m\n"
            ]
          },
          "metadata": {},
          "output_type": "display_data"
        },
        {
          "data": {
            "text/html": [
              "<pre style=\"white-space:pre;overflow-x:auto;line-height:normal;font-family:Menlo,'DejaVu Sans Mono',consolas,'Courier New',monospace\">┏━━━━━━━━━━━━━━━━━━━━━━━━━━━┳━━━━━━━━━━━━━━━━━━━━━━━━┳━━━━━━━━━━━━━━━━┳━━━━━━━━━━━━━━━━━━━━━━━━┓\n",
              "┃<span style=\"font-weight: bold\"> Layer (type)              </span>┃<span style=\"font-weight: bold\"> Output Shape           </span>┃<span style=\"font-weight: bold\">        Param # </span>┃<span style=\"font-weight: bold\"> Connected to           </span>┃\n",
              "┡━━━━━━━━━━━━━━━━━━━━━━━━━━━╇━━━━━━━━━━━━━━━━━━━━━━━━╇━━━━━━━━━━━━━━━━╇━━━━━━━━━━━━━━━━━━━━━━━━┩\n",
              "│ input_layer_5             │ (<span style=\"color: #00d7ff; text-decoration-color: #00d7ff\">None</span>, <span style=\"color: #00af00; text-decoration-color: #00af00\">50</span>)             │              <span style=\"color: #00af00; text-decoration-color: #00af00\">0</span> │ -                      │\n",
              "│ (<span style=\"color: #0087ff; text-decoration-color: #0087ff\">InputLayer</span>)              │                        │                │                        │\n",
              "├───────────────────────────┼────────────────────────┼────────────────┼────────────────────────┤\n",
              "│ embedding_5 (<span style=\"color: #0087ff; text-decoration-color: #0087ff\">Embedding</span>)   │ (<span style=\"color: #00d7ff; text-decoration-color: #00d7ff\">None</span>, <span style=\"color: #00af00; text-decoration-color: #00af00\">50</span>, <span style=\"color: #00af00; text-decoration-color: #00af00\">128</span>)        │      <span style=\"color: #00af00; text-decoration-color: #00af00\">1,280,000</span> │ input_layer_5[<span style=\"color: #00af00; text-decoration-color: #00af00\">0</span>][<span style=\"color: #00af00; text-decoration-color: #00af00\">0</span>]    │\n",
              "├───────────────────────────┼────────────────────────┼────────────────┼────────────────────────┤\n",
              "│ gru_1 (<span style=\"color: #0087ff; text-decoration-color: #0087ff\">GRU</span>)               │ (<span style=\"color: #00d7ff; text-decoration-color: #00d7ff\">None</span>, <span style=\"color: #00af00; text-decoration-color: #00af00\">50</span>, <span style=\"color: #00af00; text-decoration-color: #00af00\">64</span>)         │         <span style=\"color: #00af00; text-decoration-color: #00af00\">37,248</span> │ embedding_5[<span style=\"color: #00af00; text-decoration-color: #00af00\">0</span>][<span style=\"color: #00af00; text-decoration-color: #00af00\">0</span>]      │\n",
              "├───────────────────────────┼────────────────────────┼────────────────┼────────────────────────┤\n",
              "│ dense_7 (<span style=\"color: #0087ff; text-decoration-color: #0087ff\">Dense</span>)           │ (<span style=\"color: #00d7ff; text-decoration-color: #00d7ff\">None</span>, <span style=\"color: #00af00; text-decoration-color: #00af00\">50</span>, <span style=\"color: #00af00; text-decoration-color: #00af00\">64</span>)         │          <span style=\"color: #00af00; text-decoration-color: #00af00\">4,160</span> │ gru_1[<span style=\"color: #00af00; text-decoration-color: #00af00\">0</span>][<span style=\"color: #00af00; text-decoration-color: #00af00\">0</span>]            │\n",
              "├───────────────────────────┼────────────────────────┼────────────────┼────────────────────────┤\n",
              "│ attention_2 (<span style=\"color: #0087ff; text-decoration-color: #0087ff\">Attention</span>)   │ (<span style=\"color: #00d7ff; text-decoration-color: #00d7ff\">None</span>, <span style=\"color: #00af00; text-decoration-color: #00af00\">50</span>, <span style=\"color: #00af00; text-decoration-color: #00af00\">64</span>)         │              <span style=\"color: #00af00; text-decoration-color: #00af00\">0</span> │ dense_7[<span style=\"color: #00af00; text-decoration-color: #00af00\">0</span>][<span style=\"color: #00af00; text-decoration-color: #00af00\">0</span>],         │\n",
              "│                           │                        │                │ gru_1[<span style=\"color: #00af00; text-decoration-color: #00af00\">0</span>][<span style=\"color: #00af00; text-decoration-color: #00af00\">0</span>]            │\n",
              "├───────────────────────────┼────────────────────────┼────────────────┼────────────────────────┤\n",
              "│ global_average_pooling1d… │ (<span style=\"color: #00d7ff; text-decoration-color: #00d7ff\">None</span>, <span style=\"color: #00af00; text-decoration-color: #00af00\">64</span>)             │              <span style=\"color: #00af00; text-decoration-color: #00af00\">0</span> │ attention_2[<span style=\"color: #00af00; text-decoration-color: #00af00\">0</span>][<span style=\"color: #00af00; text-decoration-color: #00af00\">0</span>]      │\n",
              "│ (<span style=\"color: #0087ff; text-decoration-color: #0087ff\">GlobalAveragePooling1D</span>)  │                        │                │                        │\n",
              "├───────────────────────────┼────────────────────────┼────────────────┼────────────────────────┤\n",
              "│ dense_8 (<span style=\"color: #0087ff; text-decoration-color: #0087ff\">Dense</span>)           │ (<span style=\"color: #00d7ff; text-decoration-color: #00d7ff\">None</span>, <span style=\"color: #00af00; text-decoration-color: #00af00\">3</span>)              │            <span style=\"color: #00af00; text-decoration-color: #00af00\">195</span> │ global_average_poolin… │\n",
              "└───────────────────────────┴────────────────────────┴────────────────┴────────────────────────┘\n",
              "</pre>\n"
            ],
            "text/plain": [
              "┏━━━━━━━━━━━━━━━━━━━━━━━━━━━┳━━━━━━━━━━━━━━━━━━━━━━━━┳━━━━━━━━━━━━━━━━┳━━━━━━━━━━━━━━━━━━━━━━━━┓\n",
              "┃\u001b[1m \u001b[0m\u001b[1mLayer (type)             \u001b[0m\u001b[1m \u001b[0m┃\u001b[1m \u001b[0m\u001b[1mOutput Shape          \u001b[0m\u001b[1m \u001b[0m┃\u001b[1m \u001b[0m\u001b[1m       Param #\u001b[0m\u001b[1m \u001b[0m┃\u001b[1m \u001b[0m\u001b[1mConnected to          \u001b[0m\u001b[1m \u001b[0m┃\n",
              "┡━━━━━━━━━━━━━━━━━━━━━━━━━━━╇━━━━━━━━━━━━━━━━━━━━━━━━╇━━━━━━━━━━━━━━━━╇━━━━━━━━━━━━━━━━━━━━━━━━┩\n",
              "│ input_layer_5             │ (\u001b[38;5;45mNone\u001b[0m, \u001b[38;5;34m50\u001b[0m)             │              \u001b[38;5;34m0\u001b[0m │ -                      │\n",
              "│ (\u001b[38;5;33mInputLayer\u001b[0m)              │                        │                │                        │\n",
              "├───────────────────────────┼────────────────────────┼────────────────┼────────────────────────┤\n",
              "│ embedding_5 (\u001b[38;5;33mEmbedding\u001b[0m)   │ (\u001b[38;5;45mNone\u001b[0m, \u001b[38;5;34m50\u001b[0m, \u001b[38;5;34m128\u001b[0m)        │      \u001b[38;5;34m1,280,000\u001b[0m │ input_layer_5[\u001b[38;5;34m0\u001b[0m][\u001b[38;5;34m0\u001b[0m]    │\n",
              "├───────────────────────────┼────────────────────────┼────────────────┼────────────────────────┤\n",
              "│ gru_1 (\u001b[38;5;33mGRU\u001b[0m)               │ (\u001b[38;5;45mNone\u001b[0m, \u001b[38;5;34m50\u001b[0m, \u001b[38;5;34m64\u001b[0m)         │         \u001b[38;5;34m37,248\u001b[0m │ embedding_5[\u001b[38;5;34m0\u001b[0m][\u001b[38;5;34m0\u001b[0m]      │\n",
              "├───────────────────────────┼────────────────────────┼────────────────┼────────────────────────┤\n",
              "│ dense_7 (\u001b[38;5;33mDense\u001b[0m)           │ (\u001b[38;5;45mNone\u001b[0m, \u001b[38;5;34m50\u001b[0m, \u001b[38;5;34m64\u001b[0m)         │          \u001b[38;5;34m4,160\u001b[0m │ gru_1[\u001b[38;5;34m0\u001b[0m][\u001b[38;5;34m0\u001b[0m]            │\n",
              "├───────────────────────────┼────────────────────────┼────────────────┼────────────────────────┤\n",
              "│ attention_2 (\u001b[38;5;33mAttention\u001b[0m)   │ (\u001b[38;5;45mNone\u001b[0m, \u001b[38;5;34m50\u001b[0m, \u001b[38;5;34m64\u001b[0m)         │              \u001b[38;5;34m0\u001b[0m │ dense_7[\u001b[38;5;34m0\u001b[0m][\u001b[38;5;34m0\u001b[0m],         │\n",
              "│                           │                        │                │ gru_1[\u001b[38;5;34m0\u001b[0m][\u001b[38;5;34m0\u001b[0m]            │\n",
              "├───────────────────────────┼────────────────────────┼────────────────┼────────────────────────┤\n",
              "│ global_average_pooling1d… │ (\u001b[38;5;45mNone\u001b[0m, \u001b[38;5;34m64\u001b[0m)             │              \u001b[38;5;34m0\u001b[0m │ attention_2[\u001b[38;5;34m0\u001b[0m][\u001b[38;5;34m0\u001b[0m]      │\n",
              "│ (\u001b[38;5;33mGlobalAveragePooling1D\u001b[0m)  │                        │                │                        │\n",
              "├───────────────────────────┼────────────────────────┼────────────────┼────────────────────────┤\n",
              "│ dense_8 (\u001b[38;5;33mDense\u001b[0m)           │ (\u001b[38;5;45mNone\u001b[0m, \u001b[38;5;34m3\u001b[0m)              │            \u001b[38;5;34m195\u001b[0m │ global_average_poolin… │\n",
              "└───────────────────────────┴────────────────────────┴────────────────┴────────────────────────┘\n"
            ]
          },
          "metadata": {},
          "output_type": "display_data"
        },
        {
          "data": {
            "text/html": [
              "<pre style=\"white-space:pre;overflow-x:auto;line-height:normal;font-family:Menlo,'DejaVu Sans Mono',consolas,'Courier New',monospace\"><span style=\"font-weight: bold\"> Total params: </span><span style=\"color: #00af00; text-decoration-color: #00af00\">1,321,603</span> (5.04 MB)\n",
              "</pre>\n"
            ],
            "text/plain": [
              "\u001b[1m Total params: \u001b[0m\u001b[38;5;34m1,321,603\u001b[0m (5.04 MB)\n"
            ]
          },
          "metadata": {},
          "output_type": "display_data"
        },
        {
          "data": {
            "text/html": [
              "<pre style=\"white-space:pre;overflow-x:auto;line-height:normal;font-family:Menlo,'DejaVu Sans Mono',consolas,'Courier New',monospace\"><span style=\"font-weight: bold\"> Trainable params: </span><span style=\"color: #00af00; text-decoration-color: #00af00\">1,321,603</span> (5.04 MB)\n",
              "</pre>\n"
            ],
            "text/plain": [
              "\u001b[1m Trainable params: \u001b[0m\u001b[38;5;34m1,321,603\u001b[0m (5.04 MB)\n"
            ]
          },
          "metadata": {},
          "output_type": "display_data"
        },
        {
          "data": {
            "text/html": [
              "<pre style=\"white-space:pre;overflow-x:auto;line-height:normal;font-family:Menlo,'DejaVu Sans Mono',consolas,'Courier New',monospace\"><span style=\"font-weight: bold\"> Non-trainable params: </span><span style=\"color: #00af00; text-decoration-color: #00af00\">0</span> (0.00 B)\n",
              "</pre>\n"
            ],
            "text/plain": [
              "\u001b[1m Non-trainable params: \u001b[0m\u001b[38;5;34m0\u001b[0m (0.00 B)\n"
            ]
          },
          "metadata": {},
          "output_type": "display_data"
        }
      ],
      "source": [
        "\n",
        "# Définition des entrées\n",
        "inputs = Input(shape=(50,))  # 50 = MAX_SEQUENCE_LENGTH\n",
        "\n",
        "# Embedding\n",
        "embedding = Embedding(10000, 128, input_length=50)(inputs)\n",
        "\n",
        "# GRU\n",
        "gru_output = GRU(64, return_sequences=True)(embedding)\n",
        "\n",
        "# Ajout du Mécanisme d'Attention\n",
        "query = Dense(64)(gru_output)  # Transformation en Query\n",
        "attention = Attention()([query, gru_output])  # Application de l'attention\n",
        "\n",
        "# Global Average Pooling pour condenser l'information\n",
        "context_vector = GlobalAveragePooling1D()(attention)\n",
        "\n",
        "# Couche de classification (déjà présente)\n",
        "output = Dense(3, activation=\"softmax\")(context_vector)\n",
        "\n",
        "# Définition du modèle final\n",
        "model_gru_attention = Model(inputs, output)\n",
        "\n",
        "# Compilation du modèle\n",
        "model_gru_attention.compile(loss=\"categorical_crossentropy\", optimizer=\"adam\", metrics=[\"accuracy\"])\n",
        "\n",
        "# Affichage du résumé du modèle\n",
        "model_gru_attention.summary()\n"
      ]
    },
    {
      "cell_type": "code",
      "execution_count": null,
      "metadata": {
        "colab": {
          "base_uri": "https://localhost:8080/"
        },
        "id": "XmqzYZXZnAvn",
        "outputId": "52de3339-537d-4ac8-fdf5-5dc283961710"
      },
      "outputs": [
        {
          "name": "stdout",
          "output_type": "stream",
          "text": [
            "Epoch 1/10\n",
            "\u001b[1m25/25\u001b[0m \u001b[32m━━━━━━━━━━━━━━━━━━━━\u001b[0m\u001b[37m\u001b[0m \u001b[1m5s\u001b[0m 53ms/step - accuracy: 0.7541 - loss: 0.6256\n",
            "Epoch 2/10\n",
            "\u001b[1m25/25\u001b[0m \u001b[32m━━━━━━━━━━━━━━━━━━━━\u001b[0m\u001b[37m\u001b[0m \u001b[1m2s\u001b[0m 51ms/step - accuracy: 0.8719 - loss: 0.4384\n",
            "Epoch 3/10\n",
            "\u001b[1m25/25\u001b[0m \u001b[32m━━━━━━━━━━━━━━━━━━━━\u001b[0m\u001b[37m\u001b[0m \u001b[1m1s\u001b[0m 33ms/step - accuracy: 0.8674 - loss: 0.4365\n",
            "Epoch 4/10\n",
            "\u001b[1m25/25\u001b[0m \u001b[32m━━━━━━━━━━━━━━━━━━━━\u001b[0m\u001b[37m\u001b[0m \u001b[1m1s\u001b[0m 38ms/step - accuracy: 0.8873 - loss: 0.3787\n",
            "Epoch 5/10\n",
            "\u001b[1m25/25\u001b[0m \u001b[32m━━━━━━━━━━━━━━━━━━━━\u001b[0m\u001b[37m\u001b[0m \u001b[1m1s\u001b[0m 34ms/step - accuracy: 0.8976 - loss: 0.2847\n",
            "Epoch 6/10\n",
            "\u001b[1m25/25\u001b[0m \u001b[32m━━━━━━━━━━━━━━━━━━━━\u001b[0m\u001b[37m\u001b[0m \u001b[1m1s\u001b[0m 53ms/step - accuracy: 0.9225 - loss: 0.2518\n",
            "Epoch 7/10\n",
            "\u001b[1m25/25\u001b[0m \u001b[32m━━━━━━━━━━━━━━━━━━━━\u001b[0m\u001b[37m\u001b[0m \u001b[1m2s\u001b[0m 35ms/step - accuracy: 0.9255 - loss: 0.2326\n",
            "Epoch 8/10\n",
            "\u001b[1m25/25\u001b[0m \u001b[32m━━━━━━━━━━━━━━━━━━━━\u001b[0m\u001b[37m\u001b[0m \u001b[1m1s\u001b[0m 32ms/step - accuracy: 0.9443 - loss: 0.1571\n",
            "Epoch 9/10\n",
            "\u001b[1m25/25\u001b[0m \u001b[32m━━━━━━━━━━━━━━━━━━━━\u001b[0m\u001b[37m\u001b[0m \u001b[1m1s\u001b[0m 38ms/step - accuracy: 0.9398 - loss: 0.1584\n",
            "Epoch 10/10\n",
            "\u001b[1m25/25\u001b[0m \u001b[32m━━━━━━━━━━━━━━━━━━━━\u001b[0m\u001b[37m\u001b[0m \u001b[1m1s\u001b[0m 32ms/step - accuracy: 0.9352 - loss: 0.1743\n"
          ]
        },
        {
          "data": {
            "text/plain": [
              "<keras.src.callbacks.history.History at 0x7d22e59f3550>"
            ]
          },
          "execution_count": 66,
          "metadata": {},
          "output_type": "execute_result"
        }
      ],
      "source": [
        "model_gru_attention.fit(X_train_padded, y_train_onehot, epochs=10, batch_size=32)"
      ]
    },
    {
      "cell_type": "code",
      "execution_count": null,
      "metadata": {
        "colab": {
          "base_uri": "https://localhost:8080/"
        },
        "id": "j3t3l1WGnAvo",
        "outputId": "38579e3e-c87c-49f1-d76f-d886a67b8b1b"
      },
      "outputs": [
        {
          "name": "stdout",
          "output_type": "stream",
          "text": [
            "\u001b[1m7/7\u001b[0m \u001b[32m━━━━━━━━━━━━━━━━━━━━\u001b[0m\u001b[37m\u001b[0m \u001b[1m0s\u001b[0m 12ms/step - accuracy: 0.8466 - loss: 0.6514\n",
            "Test Accuracy: 85.50%\n"
          ]
        }
      ],
      "source": [
        "loss, accuracy = model_gru_attention.evaluate(X_test_padded, y_test_onehot)\n",
        "print(f\"Test Accuracy: {accuracy * 100:.2f}%\")\n"
      ]
    },
    {
      "cell_type": "code",
      "execution_count": null,
      "metadata": {
        "colab": {
          "base_uri": "https://localhost:8080/"
        },
        "id": "r_kWOD3hnAvp",
        "outputId": "8d5b88da-4406-4140-85eb-f33e4df1617d"
      },
      "outputs": [
        {
          "name": "stdout",
          "output_type": "stream",
          "text": [
            "\u001b[1m7/7\u001b[0m \u001b[32m━━━━━━━━━━━━━━━━━━━━\u001b[0m\u001b[37m\u001b[0m \u001b[1m0s\u001b[0m 35ms/step\n",
            "              precision    recall  f1-score   support\n",
            "\n",
            "           0       0.11      0.06      0.08        16\n",
            "           1       0.00      0.00      0.00         8\n",
            "           2       0.89      0.97      0.93       176\n",
            "\n",
            "    accuracy                           0.85       200\n",
            "   macro avg       0.33      0.34      0.34       200\n",
            "weighted avg       0.79      0.85      0.82       200\n",
            "\n"
          ]
        },
        {
          "name": "stderr",
          "output_type": "stream",
          "text": [
            "/usr/local/lib/python3.11/dist-packages/sklearn/metrics/_classification.py:1565: UndefinedMetricWarning: Precision is ill-defined and being set to 0.0 in labels with no predicted samples. Use `zero_division` parameter to control this behavior.\n",
            "  _warn_prf(average, modifier, f\"{metric.capitalize()} is\", len(result))\n",
            "/usr/local/lib/python3.11/dist-packages/sklearn/metrics/_classification.py:1565: UndefinedMetricWarning: Precision is ill-defined and being set to 0.0 in labels with no predicted samples. Use `zero_division` parameter to control this behavior.\n",
            "  _warn_prf(average, modifier, f\"{metric.capitalize()} is\", len(result))\n",
            "/usr/local/lib/python3.11/dist-packages/sklearn/metrics/_classification.py:1565: UndefinedMetricWarning: Precision is ill-defined and being set to 0.0 in labels with no predicted samples. Use `zero_division` parameter to control this behavior.\n",
            "  _warn_prf(average, modifier, f\"{metric.capitalize()} is\", len(result))\n"
          ]
        }
      ],
      "source": [
        "predictions = model_gru_attention.predict(X_test_padded)\n",
        "predicted_labels = predictions.argmax(axis=1)\n",
        "true_labels = y_test_onehot.argmax(axis=1)\n",
        "print(classification_report(true_labels, predicted_labels))\n"
      ]
    },
    {
      "cell_type": "markdown",
      "metadata": {
        "id": "Hjc5S3YTnAvq"
      },
      "source": [
        "# 4- Modélisation avec Transformers"
      ]
    },
    {
      "cell_type": "code",
      "execution_count": null,
      "metadata": {
        "colab": {
          "base_uri": "https://localhost:8080/"
        },
        "id": "7Kpvcq0csh6c",
        "outputId": "09306b44-8e45-4f4a-9197-ab3278d0f5a2"
      },
      "outputs": [
        {
          "name": "stdout",
          "output_type": "stream",
          "text": [
            "Requirement already satisfied: torch in /usr/local/lib/python3.11/dist-packages (2.5.1+cu124)\n",
            "Requirement already satisfied: filelock in /usr/local/lib/python3.11/dist-packages (from torch) (3.17.0)\n",
            "Requirement already satisfied: typing-extensions>=4.8.0 in /usr/local/lib/python3.11/dist-packages (from torch) (4.12.2)\n",
            "Requirement already satisfied: networkx in /usr/local/lib/python3.11/dist-packages (from torch) (3.4.2)\n",
            "Requirement already satisfied: jinja2 in /usr/local/lib/python3.11/dist-packages (from torch) (3.1.5)\n",
            "Requirement already satisfied: fsspec in /usr/local/lib/python3.11/dist-packages (from torch) (2024.10.0)\n",
            "Collecting nvidia-cuda-nvrtc-cu12==12.4.127 (from torch)\n",
            "  Downloading nvidia_cuda_nvrtc_cu12-12.4.127-py3-none-manylinux2014_x86_64.whl.metadata (1.5 kB)\n",
            "Collecting nvidia-cuda-runtime-cu12==12.4.127 (from torch)\n",
            "  Downloading nvidia_cuda_runtime_cu12-12.4.127-py3-none-manylinux2014_x86_64.whl.metadata (1.5 kB)\n",
            "Collecting nvidia-cuda-cupti-cu12==12.4.127 (from torch)\n",
            "  Downloading nvidia_cuda_cupti_cu12-12.4.127-py3-none-manylinux2014_x86_64.whl.metadata (1.6 kB)\n",
            "Collecting nvidia-cudnn-cu12==9.1.0.70 (from torch)\n",
            "  Downloading nvidia_cudnn_cu12-9.1.0.70-py3-none-manylinux2014_x86_64.whl.metadata (1.6 kB)\n",
            "Collecting nvidia-cublas-cu12==12.4.5.8 (from torch)\n",
            "  Downloading nvidia_cublas_cu12-12.4.5.8-py3-none-manylinux2014_x86_64.whl.metadata (1.5 kB)\n",
            "Collecting nvidia-cufft-cu12==11.2.1.3 (from torch)\n",
            "  Downloading nvidia_cufft_cu12-11.2.1.3-py3-none-manylinux2014_x86_64.whl.metadata (1.5 kB)\n",
            "Collecting nvidia-curand-cu12==10.3.5.147 (from torch)\n",
            "  Downloading nvidia_curand_cu12-10.3.5.147-py3-none-manylinux2014_x86_64.whl.metadata (1.5 kB)\n",
            "Collecting nvidia-cusolver-cu12==11.6.1.9 (from torch)\n",
            "  Downloading nvidia_cusolver_cu12-11.6.1.9-py3-none-manylinux2014_x86_64.whl.metadata (1.6 kB)\n",
            "Collecting nvidia-cusparse-cu12==12.3.1.170 (from torch)\n",
            "  Downloading nvidia_cusparse_cu12-12.3.1.170-py3-none-manylinux2014_x86_64.whl.metadata (1.6 kB)\n",
            "Requirement already satisfied: nvidia-nccl-cu12==2.21.5 in /usr/local/lib/python3.11/dist-packages (from torch) (2.21.5)\n",
            "Requirement already satisfied: nvidia-nvtx-cu12==12.4.127 in /usr/local/lib/python3.11/dist-packages (from torch) (12.4.127)\n",
            "Collecting nvidia-nvjitlink-cu12==12.4.127 (from torch)\n",
            "  Downloading nvidia_nvjitlink_cu12-12.4.127-py3-none-manylinux2014_x86_64.whl.metadata (1.5 kB)\n",
            "Requirement already satisfied: triton==3.1.0 in /usr/local/lib/python3.11/dist-packages (from torch) (3.1.0)\n",
            "Requirement already satisfied: sympy==1.13.1 in /usr/local/lib/python3.11/dist-packages (from torch) (1.13.1)\n",
            "Requirement already satisfied: mpmath<1.4,>=1.1.0 in /usr/local/lib/python3.11/dist-packages (from sympy==1.13.1->torch) (1.3.0)\n",
            "Requirement already satisfied: MarkupSafe>=2.0 in /usr/local/lib/python3.11/dist-packages (from jinja2->torch) (3.0.2)\n",
            "Downloading nvidia_cublas_cu12-12.4.5.8-py3-none-manylinux2014_x86_64.whl (363.4 MB)\n",
            "\u001b[2K   \u001b[90m━━━━━━━━━━━━━━━━━━━━━━━━━━━━━━━━━━━━━━━━\u001b[0m \u001b[32m363.4/363.4 MB\u001b[0m \u001b[31m2.9 MB/s\u001b[0m eta \u001b[36m0:00:00\u001b[0m\n",
            "\u001b[?25hDownloading nvidia_cuda_cupti_cu12-12.4.127-py3-none-manylinux2014_x86_64.whl (13.8 MB)\n",
            "\u001b[2K   \u001b[90m━━━━━━━━━━━━━━━━━━━━━━━━━━━━━━━━━━━━━━━━\u001b[0m \u001b[32m13.8/13.8 MB\u001b[0m \u001b[31m63.3 MB/s\u001b[0m eta \u001b[36m0:00:00\u001b[0m\n",
            "\u001b[?25hDownloading nvidia_cuda_nvrtc_cu12-12.4.127-py3-none-manylinux2014_x86_64.whl (24.6 MB)\n",
            "\u001b[2K   \u001b[90m━━━━━━━━━━━━━━━━━━━━━━━━━━━━━━━━━━━━━━━━\u001b[0m \u001b[32m24.6/24.6 MB\u001b[0m \u001b[31m36.5 MB/s\u001b[0m eta \u001b[36m0:00:00\u001b[0m\n",
            "\u001b[?25hDownloading nvidia_cuda_runtime_cu12-12.4.127-py3-none-manylinux2014_x86_64.whl (883 kB)\n",
            "\u001b[2K   \u001b[90m━━━━━━━━━━━━━━━━━━━━━━━━━━━━━━━━━━━━━━━━\u001b[0m \u001b[32m883.7/883.7 kB\u001b[0m \u001b[31m45.8 MB/s\u001b[0m eta \u001b[36m0:00:00\u001b[0m\n",
            "\u001b[?25hDownloading nvidia_cudnn_cu12-9.1.0.70-py3-none-manylinux2014_x86_64.whl (664.8 MB)\n",
            "\u001b[2K   \u001b[90m━━━━━━━━━━━━━━━━━━━━━━━━━━━━━━━━━━━━━━━━\u001b[0m \u001b[32m664.8/664.8 MB\u001b[0m \u001b[31m2.1 MB/s\u001b[0m eta \u001b[36m0:00:00\u001b[0m\n",
            "\u001b[?25hDownloading nvidia_cufft_cu12-11.2.1.3-py3-none-manylinux2014_x86_64.whl (211.5 MB)\n",
            "\u001b[2K   \u001b[90m━━━━━━━━━━━━━━━━━━━━━━━━━━━━━━━━━━━━━━━━\u001b[0m \u001b[32m211.5/211.5 MB\u001b[0m \u001b[31m5.7 MB/s\u001b[0m eta \u001b[36m0:00:00\u001b[0m\n",
            "\u001b[?25hDownloading nvidia_curand_cu12-10.3.5.147-py3-none-manylinux2014_x86_64.whl (56.3 MB)\n",
            "\u001b[2K   \u001b[90m━━━━━━━━━━━━━━━━━━━━━━━━━━━━━━━━━━━━━━━━\u001b[0m \u001b[32m56.3/56.3 MB\u001b[0m \u001b[31m14.8 MB/s\u001b[0m eta \u001b[36m0:00:00\u001b[0m\n",
            "\u001b[?25hDownloading nvidia_cusolver_cu12-11.6.1.9-py3-none-manylinux2014_x86_64.whl (127.9 MB)\n",
            "\u001b[2K   \u001b[90m━━━━━━━━━━━━━━━━━━━━━━━━━━━━━━━━━━━━━━━━\u001b[0m \u001b[32m127.9/127.9 MB\u001b[0m \u001b[31m8.0 MB/s\u001b[0m eta \u001b[36m0:00:00\u001b[0m\n",
            "\u001b[?25hDownloading nvidia_cusparse_cu12-12.3.1.170-py3-none-manylinux2014_x86_64.whl (207.5 MB)\n",
            "\u001b[2K   \u001b[90m━━━━━━━━━━━━━━━━━━━━━━━━━━━━━━━━━━━━━━━━\u001b[0m \u001b[32m207.5/207.5 MB\u001b[0m \u001b[31m6.5 MB/s\u001b[0m eta \u001b[36m0:00:00\u001b[0m\n",
            "\u001b[?25hDownloading nvidia_nvjitlink_cu12-12.4.127-py3-none-manylinux2014_x86_64.whl (21.1 MB)\n",
            "\u001b[2K   \u001b[90m━━━━━━━━━━━━━━━━━━━━━━━━━━━━━━━━━━━━━━━━\u001b[0m \u001b[32m21.1/21.1 MB\u001b[0m \u001b[31m98.5 MB/s\u001b[0m eta \u001b[36m0:00:00\u001b[0m\n",
            "\u001b[?25hInstalling collected packages: nvidia-nvjitlink-cu12, nvidia-curand-cu12, nvidia-cufft-cu12, nvidia-cuda-runtime-cu12, nvidia-cuda-nvrtc-cu12, nvidia-cuda-cupti-cu12, nvidia-cublas-cu12, nvidia-cusparse-cu12, nvidia-cudnn-cu12, nvidia-cusolver-cu12\n",
            "  Attempting uninstall: nvidia-nvjitlink-cu12\n",
            "    Found existing installation: nvidia-nvjitlink-cu12 12.5.82\n",
            "    Uninstalling nvidia-nvjitlink-cu12-12.5.82:\n",
            "      Successfully uninstalled nvidia-nvjitlink-cu12-12.5.82\n",
            "  Attempting uninstall: nvidia-curand-cu12\n",
            "    Found existing installation: nvidia-curand-cu12 10.3.6.82\n",
            "    Uninstalling nvidia-curand-cu12-10.3.6.82:\n",
            "      Successfully uninstalled nvidia-curand-cu12-10.3.6.82\n",
            "  Attempting uninstall: nvidia-cufft-cu12\n",
            "    Found existing installation: nvidia-cufft-cu12 11.2.3.61\n",
            "    Uninstalling nvidia-cufft-cu12-11.2.3.61:\n",
            "      Successfully uninstalled nvidia-cufft-cu12-11.2.3.61\n",
            "  Attempting uninstall: nvidia-cuda-runtime-cu12\n",
            "    Found existing installation: nvidia-cuda-runtime-cu12 12.5.82\n",
            "    Uninstalling nvidia-cuda-runtime-cu12-12.5.82:\n",
            "      Successfully uninstalled nvidia-cuda-runtime-cu12-12.5.82\n",
            "  Attempting uninstall: nvidia-cuda-nvrtc-cu12\n",
            "    Found existing installation: nvidia-cuda-nvrtc-cu12 12.5.82\n",
            "    Uninstalling nvidia-cuda-nvrtc-cu12-12.5.82:\n",
            "      Successfully uninstalled nvidia-cuda-nvrtc-cu12-12.5.82\n",
            "  Attempting uninstall: nvidia-cuda-cupti-cu12\n",
            "    Found existing installation: nvidia-cuda-cupti-cu12 12.5.82\n",
            "    Uninstalling nvidia-cuda-cupti-cu12-12.5.82:\n",
            "      Successfully uninstalled nvidia-cuda-cupti-cu12-12.5.82\n",
            "  Attempting uninstall: nvidia-cublas-cu12\n",
            "    Found existing installation: nvidia-cublas-cu12 12.5.3.2\n",
            "    Uninstalling nvidia-cublas-cu12-12.5.3.2:\n",
            "      Successfully uninstalled nvidia-cublas-cu12-12.5.3.2\n",
            "  Attempting uninstall: nvidia-cusparse-cu12\n",
            "    Found existing installation: nvidia-cusparse-cu12 12.5.1.3\n",
            "    Uninstalling nvidia-cusparse-cu12-12.5.1.3:\n",
            "      Successfully uninstalled nvidia-cusparse-cu12-12.5.1.3\n",
            "  Attempting uninstall: nvidia-cudnn-cu12\n",
            "    Found existing installation: nvidia-cudnn-cu12 9.3.0.75\n",
            "    Uninstalling nvidia-cudnn-cu12-9.3.0.75:\n",
            "      Successfully uninstalled nvidia-cudnn-cu12-9.3.0.75\n",
            "  Attempting uninstall: nvidia-cusolver-cu12\n",
            "    Found existing installation: nvidia-cusolver-cu12 11.6.3.83\n",
            "    Uninstalling nvidia-cusolver-cu12-11.6.3.83:\n",
            "      Successfully uninstalled nvidia-cusolver-cu12-11.6.3.83\n",
            "Successfully installed nvidia-cublas-cu12-12.4.5.8 nvidia-cuda-cupti-cu12-12.4.127 nvidia-cuda-nvrtc-cu12-12.4.127 nvidia-cuda-runtime-cu12-12.4.127 nvidia-cudnn-cu12-9.1.0.70 nvidia-cufft-cu12-11.2.1.3 nvidia-curand-cu12-10.3.5.147 nvidia-cusolver-cu12-11.6.1.9 nvidia-cusparse-cu12-12.3.1.170 nvidia-nvjitlink-cu12-12.4.127\n"
          ]
        }
      ],
      "source": [
        "!pip install torch"
      ]
    },
    {
      "cell_type": "code",
      "execution_count": null,
      "metadata": {
        "id": "LLvIg9EmnAvs"
      },
      "outputs": [],
      "source": [
        "import torch\n",
        "from torch.utils.data import DataLoader, Dataset\n",
        "from transformers import BertTokenizer, BertForSequenceClassification\n",
        "from transformers import AdamW, get_scheduler\n",
        "\n",
        "# Initialisation du Tokenizer BERT\n",
        "tokenizer = BertTokenizer.from_pretrained(\"bert-base-uncased\")\n",
        "def encode_texts(texts, max_length=50):\n",
        "    return tokenizer(texts.tolist(), padding=\"max_length\", truncation=True, max_length=max_length, return_tensors=\"pt\")\n",
        "\n",
        "X_train_encoded = encode_texts(X_train)\n",
        "X_test_encoded = encode_texts(X_test)\n",
        "\n",
        "y_train_tensor = torch.tensor(y_train.values)\n",
        "y_test_tensor = torch.tensor(y_test.values)\n"
      ]
    },
    {
      "cell_type": "code",
      "execution_count": null,
      "metadata": {
        "colab": {
          "base_uri": "https://localhost:8080/"
        },
        "id": "T06uP5p0nAvs",
        "outputId": "01ece050-35c3-46af-d70c-7c9785760bf2"
      },
      "outputs": [
        {
          "name": "stderr",
          "output_type": "stream",
          "text": [
            "Some weights of BertForSequenceClassification were not initialized from the model checkpoint at bert-base-uncased and are newly initialized: ['classifier.bias', 'classifier.weight']\n",
            "You should probably TRAIN this model on a down-stream task to be able to use it for predictions and inference.\n",
            "/usr/local/lib/python3.11/dist-packages/transformers/optimization.py:591: FutureWarning: This implementation of AdamW is deprecated and will be removed in a future version. Use the PyTorch implementation torch.optim.AdamW instead, or set `no_deprecation_warning=True` to disable this warning\n",
            "  warnings.warn(\n"
          ]
        },
        {
          "name": "stdout",
          "output_type": "stream",
          "text": [
            "Epoch 1 terminé.\n",
            "Epoch 2 terminé.\n",
            "Epoch 3 terminé.\n"
          ]
        }
      ],
      "source": [
        "# Création du DataLoader\n",
        "class SentimentDataset(Dataset):\n",
        "    def __init__(self, encodings, labels):\n",
        "        self.encodings = encodings\n",
        "        self.labels = labels\n",
        "\n",
        "    def __len__(self):\n",
        "        return len(self.labels)\n",
        "\n",
        "    def __getitem__(self, idx):\n",
        "        item = {key: val[idx] for key, val in self.encodings.items()}\n",
        "        item[\"labels\"] = self.labels[idx]\n",
        "        return item\n",
        "\n",
        "train_dataset = SentimentDataset(X_train_encoded, y_train_tensor)\n",
        "test_dataset = SentimentDataset(X_test_encoded, y_test_tensor)\n",
        "\n",
        "train_loader = DataLoader(train_dataset, batch_size=16, shuffle=True)\n",
        "test_loader = DataLoader(test_dataset, batch_size=16, shuffle=False)\n",
        "\n",
        "# Chargement du modèle BERT pour classification\n",
        "model = BertForSequenceClassification.from_pretrained(\"bert-base-uncased\", num_labels=3)\n",
        "\n",
        "#Optimisation avec AdamW\n",
        "optimizer = AdamW(model.parameters(), lr=2e-5)\n",
        "\n",
        "# Scheduler pour un Learning Rate Adaptatif\n",
        "num_training_steps = len(train_loader) * 3  # 3 epochs\n",
        "lr_scheduler = get_scheduler(\n",
        "    \"linear\",\n",
        "    optimizer=optimizer,\n",
        "    num_warmup_steps=0,\n",
        "    num_training_steps=num_training_steps\n",
        ")\n",
        " \n",
        "# Entraînement du modèle\n",
        "device = torch.device(\"cuda\") if torch.cuda.is_available() else torch.device(\"cpu\")\n",
        "model.to(device)\n",
        "\n",
        "epochs = 3\n",
        "for epoch in range(epochs):\n",
        "    model.train()\n",
        "    for batch in train_loader:\n",
        "        batch = {k: v.to(device) for k, v in batch.items()}\n",
        "        outputs = model(**batch)\n",
        "        loss = outputs.loss\n",
        "        loss.backward()\n",
        "        optimizer.step()\n",
        "        lr_scheduler.step()\n",
        "        optimizer.zero_grad()\n",
        "    print(f\"Epoch {epoch + 1} terminé.\")"
      ]
    },
    {
      "cell_type": "code",
      "execution_count": null,
      "metadata": {
        "colab": {
          "base_uri": "https://localhost:8080/"
        },
        "id": "dPlUGr3AnAvt",
        "outputId": "b9ac1510-94c9-4454-8aa4-80fab20fc0d0"
      },
      "outputs": [
        {
          "name": "stdout",
          "output_type": "stream",
          "text": [
            "\n",
            "✅ Précision finale : 87.50%\n"
          ]
        }
      ],
      "source": [
        "# Évaluation\n",
        "# Mise en mode évaluation\n",
        "model.eval()\n",
        "\n",
        "all_preds = []\n",
        "all_labels = [] \n",
        "\n",
        "with torch.no_grad():\n",
        "    for batch in test_loader:\n",
        "        batch = {k: v.to(device) for k, v in batch.items()}\n",
        "        outputs = model(**batch)\n",
        "        predictions = torch.argmax(outputs.logits, dim=-1)\n",
        "\n",
        "        all_preds.extend(predictions.cpu().numpy())\n",
        "        all_labels.extend(batch[\"labels\"].cpu().numpy())\n",
        "\n",
        "accuracy = accuracy_score(all_labels, all_preds)\n",
        "\n",
        "print(f\"\\n✅ Précision finale : {accuracy * 100:.2f}%\")"
      ]
    },
    {
      "cell_type": "code",
      "execution_count": null,
      "metadata": {
        "colab": {
          "base_uri": "https://localhost:8080/",
          "height": 837
        },
        "id": "Y-my_H5y4hTE",
        "outputId": "58279226-aaeb-41f4-f296-bcf186408008"
      },
      "outputs": [
        {
          "name": "stdout",
          "output_type": "stream",
          "text": [
            "\n",
            "🔍 Rapport de classification :\n",
            "\n",
            "              precision    recall  f1-score   support\n",
            "\n",
            "    Classe 0       0.00      0.00      0.00        16\n",
            "    Classe 1       0.00      0.00      0.00         8\n",
            "    Classe 2       0.88      0.99      0.93       176\n",
            "\n",
            "    accuracy                           0.88       200\n",
            "   macro avg       0.29      0.33      0.31       200\n",
            "weighted avg       0.77      0.88      0.82       200\n",
            "\n"
          ]
        },
        {
          "name": "stderr",
          "output_type": "stream",
          "text": [
            "/usr/local/lib/python3.11/dist-packages/sklearn/metrics/_classification.py:1565: UndefinedMetricWarning: Precision is ill-defined and being set to 0.0 in labels with no predicted samples. Use `zero_division` parameter to control this behavior.\n",
            "  _warn_prf(average, modifier, f\"{metric.capitalize()} is\", len(result))\n",
            "/usr/local/lib/python3.11/dist-packages/sklearn/metrics/_classification.py:1565: UndefinedMetricWarning: Precision is ill-defined and being set to 0.0 in labels with no predicted samples. Use `zero_division` parameter to control this behavior.\n",
            "  _warn_prf(average, modifier, f\"{metric.capitalize()} is\", len(result))\n",
            "/usr/local/lib/python3.11/dist-packages/sklearn/metrics/_classification.py:1565: UndefinedMetricWarning: Precision is ill-defined and being set to 0.0 in labels with no predicted samples. Use `zero_division` parameter to control this behavior.\n",
            "  _warn_prf(average, modifier, f\"{metric.capitalize()} is\", len(result))\n"
          ]
        },
        {
          "data": {
            "image/png": "[encoded data removed]",
            "text/plain": [
              "<Figure size 600x500 with 2 Axes>"
            ]
          },
          "metadata": {},
          "output_type": "display_data"
        }
      ],
      "source": [
        "# Rapport de classification (Precision, Recall, F1-score)\n",
        "print(\"\\n🔍 Rapport de classification :\\n\")\n",
        "print(classification_report(all_labels, all_preds, target_names=[\"Classe 0\", \"Classe 1\", \"Classe 2\"]))\n",
        "\n",
        "# Matrice de confusion\n",
        "conf_matrix = confusion_matrix(all_labels, all_preds)\n",
        "\n",
        "plt.figure(figsize=(6,5))\n",
        "sns.heatmap(conf_matrix, annot=True, fmt=\"d\", cmap=\"Blues\", xticklabels=[\"Classe 0\", \"Classe 1\", \"Classe 2\"], yticklabels=[\"Classe 0\", \"Classe 1\", \"Classe 2\"])\n",
        "plt.xlabel(\"Prédictions\")\n",
        "plt.ylabel(\"Vraies Classes\")\n",
        "plt.title(\"Matrice de Confusion\")\n",
        "plt.show()"
      ]
    },
    {
      "cell_type": "code",
      "execution_count": null,
      "metadata": {
        "id": "-iOa9-_vnAvw"
      },
      "outputs": [],
      "source": []
    }
  ],
  "metadata": {
    "colab": {
      "provenance": [],
      "toc_visible": true
    },
    "kernelspec": {
      "display_name": "Python 3",
      "language": "python",
      "name": "python3"
    },
    "language_info": {
      "codemirror_mode": {
        "name": "ipython",
        "version": 3
      },
      "file_extension": ".py",
      "mimetype": "text/x-python",
      "name": "python",
      "nbconvert_exporter": "python",
      "pygments_lexer": "ipython3",
      "version": "3.10.11"
    }
  },
  "nbformat": 4,
  "nbformat_minor": 0
}
